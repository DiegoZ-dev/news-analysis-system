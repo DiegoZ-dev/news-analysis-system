{
 "cells": [
  {
   "cell_type": "code",
   "execution_count": 1,
   "metadata": {
    "execution": {
     "iopub.execute_input": "2024-09-13T23:54:49.853308Z",
     "iopub.status.busy": "2024-09-13T23:54:49.852812Z",
     "iopub.status.idle": "2024-09-13T23:54:50.958002Z",
     "shell.execute_reply": "2024-09-13T23:54:50.957240Z"
    }
   },
   "outputs": [],
   "source": [
    "from pyspark.sql import SparkSession\n",
    "from pyspark.sql import functions as F\n",
    "from textblob import TextBlob\n"
   ]
  },
  {
   "cell_type": "code",
   "execution_count": 2,
   "metadata": {
    "execution": {
     "iopub.execute_input": "2024-09-13T23:54:50.961733Z",
     "iopub.status.busy": "2024-09-13T23:54:50.961342Z",
     "iopub.status.idle": "2024-09-13T23:54:57.828269Z",
     "shell.execute_reply": "2024-09-13T23:54:57.827722Z"
    }
   },
   "outputs": [
    {
     "name": "stderr",
     "output_type": "stream",
     "text": [
      "24/09/13 20:54:52 WARN Utils: Your hostname, mauro-thinkpad resolves to a loopback address: 127.0.1.1; using 192.168.0.212 instead (on interface wlp0s20f3)\n",
      "24/09/13 20:54:52 WARN Utils: Set SPARK_LOCAL_IP if you need to bind to another address\n"
     ]
    },
    {
     "name": "stderr",
     "output_type": "stream",
     "text": [
      "Setting default log level to \"WARN\".\n",
      "To adjust logging level use sc.setLogLevel(newLevel). For SparkR, use setLogLevel(newLevel).\n"
     ]
    },
    {
     "name": "stderr",
     "output_type": "stream",
     "text": [
      "24/09/13 20:54:53 WARN NativeCodeLoader: Unable to load native-hadoop library for your platform... using builtin-java classes where applicable\n"
     ]
    }
   ],
   "source": [
    "# Crear una sesión de Spark\n",
    "spark = SparkSession.builder.appName(\"NewsDataInspection\").getOrCreate()\n",
    "\n",
    "# Cargar el archivo CSV\n",
    "file_path = '../data/raw/news.csv'\n",
    "df = spark.read.csv(file_path, header=True, inferSchema=True)"
   ]
  },
  {
   "cell_type": "code",
   "execution_count": 3,
   "metadata": {
    "execution": {
     "iopub.execute_input": "2024-09-13T23:54:57.830890Z",
     "iopub.status.busy": "2024-09-13T23:54:57.830551Z",
     "iopub.status.idle": "2024-09-13T23:54:58.334248Z",
     "shell.execute_reply": "2024-09-13T23:54:58.333666Z"
    }
   },
   "outputs": [
    {
     "name": "stdout",
     "output_type": "stream",
     "text": [
      "\n",
      "Dimensiones del DataFrame: 1928 filas, 4 columnas\n"
     ]
    }
   ],
   "source": [
    "# Contar el número de filas y columnas\n",
    "num_rows = df.count()\n",
    "num_cols = len(df.columns)\n",
    "print(f\"\\nDimensiones del DataFrame: {num_rows} filas, {num_cols} columnas\")"
   ]
  },
  {
   "cell_type": "code",
   "execution_count": 4,
   "metadata": {
    "execution": {
     "iopub.execute_input": "2024-09-13T23:54:58.336780Z",
     "iopub.status.busy": "2024-09-13T23:54:58.336500Z",
     "iopub.status.idle": "2024-09-13T23:54:58.606769Z",
     "shell.execute_reply": "2024-09-13T23:54:58.606098Z"
    }
   },
   "outputs": [
    {
     "name": "stdout",
     "output_type": "stream",
     "text": [
      "Primeras filas del DataFrame:\n"
     ]
    },
    {
     "name": "stdout",
     "output_type": "stream",
     "text": [
      "+---------------------------------------------------------------------------------------------------------------+----------+------------------------------------------------------------------------------------------------------------------------------------------------------+---------------------------------------------------------------------------------------------------------------------------------------------------------------------------------------------------------------------------------------------------------------------------------------------------------------------------------------------------------------------------------------------------------------------------------------------------------------------------------------------------------------------------------------------------------------------------------------------------------------------------------------------------------------------------------------------------------------------------------------------------------------------------------------------------------------------------------------------------------------------------------------------------------------------------------------------------------------------------------------------------------------------------------------------------------------------------------------------------------------------------------------------------------------------------------------------------------------------------------------------------------------------------------------------------------------------------------------------------------------------------------------------------------------------------------------------------------------------------------------------------------------------------------------------------------------------------------------------------------------------------------------------------------------------------------------------------------------------------------------------------------------------------------------------------------------------------------------------------------------------------------------------------------------------------------------------------------------------------------------------------------------------------------------------------------------------------------------------------------------------------------------------------------------------------------------------------------------------------------------------------------------------------------------------------------------------------------------------------------------------------------------------------------------------------------------------------------------------------------------------------------------------------------------------------------------------------------------------------------------------------------------------------------------------------------------------------------------------------------------------------------------------------------------------------------------------------------------------------------------------------------------------------------------------------------------------------------------------------------------------------------------------------------------------------------------------------------------------------------------------------------------------------------------------------------------------------------------------------------------------------------------------------------------------------------------------------------------------------------------------------------------------------------------------------------------------------------------------------------------------------------------------------------------------------------------------------------------------------------------------------------------------------------------------------------------------------------------------------------------------------------------------------------------------------------------------------------------------------------------------------------------------------------------------------------------------------------------------------------------------------------------------------------------------------------------------------------------------------------------------------------------------------------------------------------------------------------------------------------------------------------------------------------------------------------------------------------------------------------------------------------------------------------------------------------------------------------------------------------------------------------------------------------------------------------------------------------------------------------------------------------------------------------------------------------------------------------------------------------------------------------------------------------------------------------------------------------------------------------------------------------------------------------------------------------------------------------------------------------------------------------------------------------------------------------------------------------------------------------------------------------------------------------------------------------------------------------------------------------------------------------------------------------------------------------------------------------------------------------------------------------------------------------------------------------------------------------------------------------------------------------------------------------------------------------------------------------------------------------------------------------------------------------------------------------------------------------------------------------------------------------------------------------------------------------------------------------------------------------------------------------------------------------------------------------------------------------------------------------------------------------------------------------------------------------------------------------------------------------------------------------------------------------------------------------------------------------------------------------------------------------------------------------------------------------------------------------------------------------------------------------------------------------------------------------------------------------------------------------------------------------------------------------------------------------------------------------------------------------------------------------------------------------------------------------------------------------------------------------------------------------------------------------------------------------------------------------------------+\n",
      "|titulo                                                                                                         |fecha     |link                                                                                                                                                  |cuerpo                                                                                                                                                                                                                                                                                                                                                                                                                                                                                                                                                                                                                                                                                                                                                                                                                                                                                                                                                                                                                                                                                                                                                                                                                                                                                                                                                                                                                                                                                                                                                                                                                                                                                                                                                                                                                                                                                                                                                                                                                                                                                                                                                                                                                                                                                                                                                                                                                                                                                                                                                                                                                                                                                                                                                                                                                                                                                                                                                                                                                                                                                                                                                                                                                                                                                                                                                                                                                                                                                                                                                                                                                                                                                                                                                                                                                                                                                                                                                                                                                                                                                                                                                                                                                                                                                                                                                                                                                                                                                                                                                                                                                                                                                                                                                                                                                                                                                                                                                                                                                                                                                                                                                                                                                                                                                                                                                                                                                                                                                                                                                                                                                                                                                                                                                                                                                                                                                                                                                                                                                                                                                                                                                                                                                                                                                                                                                                                                                                                                                                                                                                                                                                                                                                                                                                                                                                       |\n",
      "+---------------------------------------------------------------------------------------------------------------+----------+------------------------------------------------------------------------------------------------------------------------------------------------------+---------------------------------------------------------------------------------------------------------------------------------------------------------------------------------------------------------------------------------------------------------------------------------------------------------------------------------------------------------------------------------------------------------------------------------------------------------------------------------------------------------------------------------------------------------------------------------------------------------------------------------------------------------------------------------------------------------------------------------------------------------------------------------------------------------------------------------------------------------------------------------------------------------------------------------------------------------------------------------------------------------------------------------------------------------------------------------------------------------------------------------------------------------------------------------------------------------------------------------------------------------------------------------------------------------------------------------------------------------------------------------------------------------------------------------------------------------------------------------------------------------------------------------------------------------------------------------------------------------------------------------------------------------------------------------------------------------------------------------------------------------------------------------------------------------------------------------------------------------------------------------------------------------------------------------------------------------------------------------------------------------------------------------------------------------------------------------------------------------------------------------------------------------------------------------------------------------------------------------------------------------------------------------------------------------------------------------------------------------------------------------------------------------------------------------------------------------------------------------------------------------------------------------------------------------------------------------------------------------------------------------------------------------------------------------------------------------------------------------------------------------------------------------------------------------------------------------------------------------------------------------------------------------------------------------------------------------------------------------------------------------------------------------------------------------------------------------------------------------------------------------------------------------------------------------------------------------------------------------------------------------------------------------------------------------------------------------------------------------------------------------------------------------------------------------------------------------------------------------------------------------------------------------------------------------------------------------------------------------------------------------------------------------------------------------------------------------------------------------------------------------------------------------------------------------------------------------------------------------------------------------------------------------------------------------------------------------------------------------------------------------------------------------------------------------------------------------------------------------------------------------------------------------------------------------------------------------------------------------------------------------------------------------------------------------------------------------------------------------------------------------------------------------------------------------------------------------------------------------------------------------------------------------------------------------------------------------------------------------------------------------------------------------------------------------------------------------------------------------------------------------------------------------------------------------------------------------------------------------------------------------------------------------------------------------------------------------------------------------------------------------------------------------------------------------------------------------------------------------------------------------------------------------------------------------------------------------------------------------------------------------------------------------------------------------------------------------------------------------------------------------------------------------------------------------------------------------------------------------------------------------------------------------------------------------------------------------------------------------------------------------------------------------------------------------------------------------------------------------------------------------------------------------------------------------------------------------------------------------------------------------------------------------------------------------------------------------------------------------------------------------------------------------------------------------------------------------------------------------------------------------------------------------------------------------------------------------------------------------------------------------------------------------------------------------------------------------------------------------------------------------------------------------------------------------------------------------------------------------------------------------------------------------------------------------------------------------------------------------------------------------------------------------------------------------------------------------------------------------------------------------------------------------------------------------------------------------------------+\n",
      "|Diez años después: vuelve el Flappy Bird, el juego que era malísimo y que sumó 50 millones de descargas en 2014|2024-09-13|https://www.lanacion.com.ar/tecnologia/diez-anos-despues-vuelve-el-flappy-bird-el-juego-que-era-malisimo-y-que-sumo-50-millones-de-nid13092024/       |Flappy Bird el conocido videojuego móvil de un pájaro volador que congregó a millones de jugadores y acabó cerrando en 2014, ha anunciado su vuelta para navegadores web y dispositivos iOS y Android de la mano de la nueva compañía Flappy Bird Foundation. El videojuego Flappy Bird fue un título aclamado entre los usuarios durante los años 2013 y 2014. Su mecánica era simple: dar toques a la pantalla para evitar que un pájaro chocase con tuberías al volar. Sin embargo, este título consiguió millones de fans y jugadores en un periodo breve de tiempo, lo que incluso ocasionó la creación de juegos clones. A pesar de su éxito, el propio desarrollador Dong Nguyen anunció su retirada de las tiendas de aplicaciones a penas un año después de su lanzamiento, tal y como dio a conocer en 2014, cuando compartió que no podía soportar la presión que le estaba ocasionando el éxito que había tenido. Ahora, una década después de su cierre, un grupo de fans del videojuego ha anunciado la vuelta de Flappy Bird a través de la compañía The Flappy Bird Foundation, con la que se han asociado y comprado los derechos legales de la marca para relanzar el título. Tal y como han compartido en su web, Flappy Bird ha sido renovado y está “listo para volar de nuevo” en una versión que mantiene la estética y diseño del juego original, pero que también incluye nuevos personajes, como el pájaro de tres ojos Trixy, el pingüino Peng, el pájaro con un cuerno de unicornio Quirky y el pájaro robot Tekno. Asimismo, esta nueva versión contará con distintos modos de juego, como el modo multijugador Flappy Bird Rivals, con el que los usuarios podrán desafiar a otros 99 jugadores, o un modo en el que se deberá disparar pájaros a través de aros de baloncesto. En concreto, según han recogido medios como IGN, quienes han tenido acceso a un comunicado de la compañía, Flappy Bird estará disponible para navegadores web a finales de octubre de este año y llegará para dispositivos iOS y Android en el próximo 2025. Para llevar a cabo este lanzamiento, los creadores de Flappy Bird Foundation han adquirido la marca registrada oficial Flappy Bird, que era propiedad de la compañía estadounidense Gametech Holdings LLC. También han adquirido los derechos del juego Piou Piou vs. Cactus que, con una temática similar, sirvió de inspiración al creador de Flappy Bird. Tal y como ha manifestado al respecto el director creativo de Flappy Bird Foundation, Michael Roberts, el objetivo el nuevo videojuego es “ofrecer una experiencia nueva que mantendrá a los jugadores interesados durante años”. Igualmente se ha pronunciado la desarrolladora de Piou Piou, Kek, quien también ha formado parte del proyecto y ha destacado su admiración por trabajar junto a un equipo de “fanáticos y creadores” que “sienten pasión por cambiar la narrativa de la industria y, juntos, devolverle la vida a Flappy Bird original”.                                                                                                                                                                                                                                                                                                                                                                                                                                                                                                                                                                                                                                                                                                                                                                                                                                                                                                                                                                                                                                                                                                                                                                                                                                                                                                                                                                                                                                                                                                                                                                                                                                                                                                                                                                                                                                                                                                                                                                                                                                                                                                                                                                                                                                                                                                                                                                                                                                                                                                                                                                                                                                                                                                                                                                                                                                                                                                                                                                                                                                                                                                                                                                                                                                                                                                                                                                                                                                                                                                                                                                                                                                                                                                                                                                                                                                           |\n",
      "|Ya está disponible Steam Families: permite compartir juegos adquiridos entre 6 usuarios de la misma familia    |2024-09-12|https://www.lanacion.com.ar/tecnologia/ya-esta-disponible-steam-families-permite-compartir-juegos-adquiridos-entre-6-usuarios-de-la-misma-nid12092024/|Steam ha anunciado que ya está disponible para todos los jugadores Steam Families, una característica destinada a compartir videojuegos adquiridos entre seis usuarios de una misma familia a través de una biblioteca común y que incorpora funciones de control parental. La compañía presentó Steam Families en marzo de este año, cuando anunció la disponibilidad de la beta de esta característica, a la que se podía acceder desde dispositivos móviles o bien a través del navegador. Entonces, ya existía otra opción relacionada para convivientes de un mismo hogar, como el préstamo familiar, que permitía compartir juegos en casa sin costes adicionales desde 2014. La idea de Steam Families, por tanto, nace de unificar esta característica con el modo familiar, una función destinada a que padres y familias establecieran sus propias reglas sobre el acceso a los componentes de Steam. Los grupos familiares, por tanto, unifican y sustituyen el préstamo familiar de Steam y el modo familiar, para proporcionar un único sitio que permite gestionar los juegos adquiridos que pueden usar las familias y cuándo pueden jugar a ellos. Steam ha anunciado ahora que Steam Families ya está disponible de manera oficial para todos los jugadores, que ya pueden configurar su biblioteca videojuegos y compartirla con otros cinco usuarios -solo pueden figurar 6 personas en cada grupo- para que puedan jugar a ellos desde sus respectivos perfiles. La particularidad de este formato es que los seis integrantes del grupo familiar están en la obligación de vivir juntos, tal y como ha recordado ahora en un comunicado. En este también ha dicho que “se espera que cambien los requisitos” para participar en un grupo familiar de Steam o bien el número de integrantes próximamente. Una vez formado el grupo familiar, se creará una biblioteca, que se presentará en la columna de la izquierda como una subsección de juegos, en la que se reunirán los juegos de cada jugador. Así, cada vez que un usuario acceda a uno de los juegos compartidos, podrá acceder a sus propias partidas guardadas, sus logros de Steam o a sus archivos del Workshop, entre otras características. Asimismo, los grupos familiares incluyen nuevos controles parentales, que permiten a los adultos limitar a qué juegan los menores del grupo o cuándo lo hacen; una información a la que se puede acceder desde cualquier dispositivo. Con ellos, los mayores de edad también pueden restringir el acceso a la tienda, la comunidad y el chat con amigos de Steam, establecer límites de tiempo de juego (horarios o diarios), aprobar o rechazar solicitudes de tiempo de juego adicional o acceso a ciertas características, entre otros supuestos. Steam ha matizado que estos grupos familiares ofrecen una nueva opción de pago con la que los menores pueden pedir a un adulto del grupo que efectúen el pago de un juego. De esa manera, el adulto puede aprobar la compra y pagarla desde su dispositivo móvil o correo electrónico. Una vez comprado, este título se añadirá a la cuenta del menor. Steam ha aclarado algunas particularidades de Steam Families en su apartado de Preguntas frecuentes, como la posibilidad de salir de un grupo familiar. En este sentido, ah dicho que los adultos pueden abandonarlo cuando lo deseen, pero que deben esperar un año a partir de la fecha en la que se unieron a él para unirse a otro grupo familiar o crear uno nuevo. Los menores, en cambio, no tienen la potestad de salir de él por su cuenta, de forma que debe ser un adulto quien los elimine o bien el propio equipo de Soporte de la plataforma. Asimismo, los usuarios mayores de edad pueden expulsar a cualquier otro integrante. Asimismo, Steam ha recordado que no todos los juegos son aptos para el préstamo familiar, bien por limitaciones técnicas -porque requieran una clave o una suscripción adicional de terceros, por ejemplo- o bien porque los desarrolladores no los hayan configurado para ello.                                                                                                                                                                                                                                                                                                                                                                                                                                                                                                                                                                                                                                                                                                                                                                                                                                                                                                                                                                                                                                                                                                                                                                                                                                                                                                                                                                                                                                                                                                                                                                                                                                                                                                                                                                                                                                                                                                                                                                                                                                                                                                                                                                                                                                                                                                                                                                                                                                                                                                                                                                                                                                                                                                                                                                |\n",
      "|Xbox Game Pass Standard: así es el nuevo abono mensual para jugar sin límites que debuta en el país            |2024-09-11|https://www.lanacion.com.ar/tecnologia/xbox-game-pass-standard-asi-es-el-nuevo-abono-mensual-para-jugar-sin-limites-que-debuta-en-el-pais-nid11092024/|Xbox ha lanzado su nuevo plan de suscripción para consolas Game Pass Standard, que da acceso a toda la biblioteca de juegos de Xbox, excepto los nuevos lanzamientos desde el día uno, por 8999 pesos al mes. Xbox Game Pass es el servicio de videojuegos en la nube de Microsoft que, mediante suscripción, permite acceder a cientos de títulos de Xbox y está disponible tanto para consolas, como para PC y otros dispositivos, como móviles, tabletas o TV. Además, este formato permite el modo multijugador ‘online’, así como la descarga de videojuegos, e incluye otras ofertas y recompensas exclusivas para sus miembros. La compañía de videojuegos ya adelantó en el mes de julio una serie de actualizaciones para su plataforma Xbox Game Pass, entre las que incluyó el incremento de los precios para las suscripciones de las modalidades Ultimate, Core y PC, así como la introducción de un nuevo plan Estándar. Ahora, Xbox ha lanzado oficialmente el nuevo plan de suscripción Game Pass Estándar, que ofrece todas las funciones esenciales del programa Game Pass, es decir, el modo multijugador ‘online’, acceso a toda su biblioteca de juegos y ofertas para juegos seleccionados, tal y como ha detallado la compañía en un comunicado en su web. Esto incluye títulos populares como Halo, Age of Empires, Minecraft, Forza Horizon 5 y Tom Clancy’s Rainbow Six Siege, que se podrán jugar en consola con “alta calidad”. Sin embargo, el plan Estándar se diferencia de la opción Ultimate en que los jugadores no podrán acceder a los títulos nuevos desde el día de lanzamiento, sino que deberán esperar a que estén disponibles más tarde. De esta forma, el plan Estándar sustituye al antiguo plan Básico, y se puede contratar por 8999 pesos al mes en Argentina. La compañía también ha efectuado la subida de precios en el resto de sus planes. De esta forma, Game Pass Ultimate cuesta ahora 10.999 pesos al mes en Argentina. La suscripción a Game Pass Core tiene un precio de 5999 pesos al mes, y la opción Game Pass para PC pasa a costar 6999 pesos. A los montos hay que sumarle los impuestos y retenciones del 60 por ciento, por tratarse de un gasto en dólares.                                                                                                                                                                                                                                                                                                                                                                                                                                                                                                                                                                                                                                                                                                                                                                                                                                                                                                                                                                                                                                                                                                                                                                                                                                                                                                                                                                                                                                                                                                                                                                                                                                                                                                                                                                                                                                                                                                                                                                                                                                                                                                                                                                                                                                                                                                                                                                                                                                                                                                                                                                                                                                                                                                                                                                                                                                                                                                                                                                                                                                                                                                                                                                                                                                                                                                                                                                                                                                                                                                                                                                                                                                                                                                                                                                                                                                                                                                                                                                                                                                                                                                                                                                                                                                                                                                                                                                                                                                                                                                                                                                                                               |\n",
      "|Football Manager 2024 gratis hoy: así se puede descargar sin pagar                                             |2024-09-11|https://www.lanacion.com.ar/tecnologia/football-manager-2024-gratis-hoy-asi-se-puede-descargar-sin-pagar-nid10092024/                                 |Football Manager 2024 es tendencia entre los fanáticos del fútbol. Se trata de un juego en el que un usuario puede confeccionar un equipo y competir contra los rivales, perfeccionando estrategias y dirección de los jugadores hasta crear una trayectoria. Si bien este videojuego suele ser costoso (tiene un valor de US$59,99), ahora es posible bajarlo de forma gratuita. Este juego permite a los usuarios acercarse lo más posible a ser un DT profesional. Se pueden planear tácticas de fútbol, estudiar y analizar los estilos de juego, gestionar el fichaje de futbolistas, modificar plantillas de talentos, ajustar los entrenamientos para mejorar la habilidad del equipo y analizar desempeños. Este juego, que es furor, se puede conseguir ahora de forma gratuita. Para poder descargarlo, hay que seguir el paso a paso a continuación: Vale recordar que es una app que requiere bastante espacio tanto en las computadoras como en los celulares, por lo que es fundamental verificar los detalles de requerimientos técnicos antes de bajarla para evitar que el dispositivo se ralentice o se tenga problemas para realizar la descarga. Estos requisitos se pueden ver acá. A partir de la edición 2023 de este videojuego, Epic Games realizó algunas mejoras significativas con el objetivo de mejorar la experiencia y el nivel de entretenimiento de los usuarios. Football Manager 2024 tiene:                                                                                                                                                                                                                                                                                                                                                                                                                                                                                                                                                                                                                                                                                                                                                                                                                                                                                                                                                                                                                                                                                                                                                                                                                                                                                                                                                                                                                                                                                                                                                                                                                                                                                                                                                                                                                                                                                                                                                                                                                                                                                                                                                                                                                                                                                                                                                                                                                                                                                                                                                                                                                                                                                                                                                                                                                                                                                                                                                                                                                                                                                                                                                                                                                                                                                                                                                                                                                                                                                                                                                                                                                                                                                                                                                                                                                                                                                                                                                                                                                                                                                                                                                                                                                                                                                                                                                                                                                                                                                                                                                                                                                                                                                                                                                                                                                                                                                                                                                                                                                                                                                                                                                                                                                                                                                                                                                                                                             |\n",
      "|Astro Bot en PlayStation 5: probamos el juego del momento y hablamos con su director creativo                  |2024-09-10|https://www.lanacion.com.ar/tecnologia/astro-bot-en-playstation-5-probamos-el-juego-del-momento-y-hablamos-con-su-director-creativo-nid10092024/      |PlayStation venía de unas semanas de críticas y malas noticias tras la cancelación del juego Concord a 10 días de su lanzamiento, pero para salir de las malas tenía un As guardado en la manga. Allá por el lanzamiento de la PS5 habíamos tenido una especie de “demo técnica”, llamada Astro’s PlayRoom que venía instalada con la compra de la consola. Para sorpresa de muchos, este juego de corta duración, que mediante niveles y plataformas nos mostraba cómo era la experiencia sensorial del nuevo joystick DualSense, lentamente se empezaba a convertir en una de las joyitas de la consola. El tiempo pasó y muchas personas (incluidas las pequeñas personitas que habitan mi casa), si bien jugaban otros títulos, de vez en cuando volvían a recorrer los campos digitales con la “mascota no oficial de Play”, el adorable robotito Astro. El tiempo pasó, y claramente Sony sabía que tenía un diamante que pulir: por eso, este 6 de septiembre Team Asobi anunció la llegada de una nueva versión del juego, ahora como un título completo. “Era un deseo que teníamos desde que comenzamos con la versión que venía con la PS5″, le cuenta a LA NACION Nicolas Doucet, director del estudio y director creativo del nuevo juego, a lo que agrega: “Queríamos recorrer décadas de historia de Play y demostrar que podíamos hacer un plataformero sólido”. Con sus orígenes en una corta versión de VR, Astro es la joya de Team Asobi, que tiene base en Japón, pero está en manos de un director francés. El nuevo Astro Bot, a diferencia de su predecesor gratuito, es pago (60 dólares), pero continuará con el recorrido histórico de los videojuegos de una manera muy particular. En la versión previa teníamos que conseguir partes de consolas clásicas y todos sus accesorios; ahora vamos a recorrer una galaxia sometida por un caricaturesco monstruo verde que secuestró a varios robots amigos, y muchos de ellos son caracterizaciones de los personajes más icónicos de la historia del gaming. “El proceso de conseguir las licencias y sumar a personajes clásicos de los videojuegos parece complicado, pero por suerte no lo fue. Que todo el mundo se sume y esté de acuerdo parecía un lío, y creíamos quizás que íbamos a conseguir la mitad de los que queríamos, pero la buena onda no solo de PS Studios, sino de los demás estudios fue alucinante. No solo nos dejaron usar a sus personajes, sino que aportaban ideas y detalles para que el tributo sea aún mejor”, cuenta Nicolas, dado que en Astro vamos a poder ver gags y situaciones de varios juegos caracterizados como robots amigos de nuestro robot, que si bien ya andan dando vueltas imágenes en las redes, no te los vamos a spoilear, pero si te vamos a adelantar que la idea del estudio, según Doucet, es que sea transgeneracional para que lo jueguen y disfruten grandes y chicos; por eso que vamos a ver personajes de todas la eras de consolas. Pero el fuerte del juego no solo está en sus visuales pulidas, su humor o su tributo constante a la historia de los juegos con pequeños detalles, sino en sus mecánicas. Astro expande la idea del juego inicial para que cada uno de los niveles tenga su propia mecánica para interactuar con el DualSense. Vamos a encontrar momentos para usar el sensor de movimiento, otros para las sensaciones de texturas y cada nivel tendrá su propia impronta, como convertirnos en miniatura en un nivel, en una aspiradora de gelatinas en otro, en un mono trepador o hasta en un personaje icónico en otro (no, no te vamos a decir quién). Todas estas mecánicas usan distintas cualidades del control, como los gatillos adaptativos, el sonido, el movimiento y hasta el micrófono, en donde vamos a tener que soplar para mover las plantas. El juego es single player y tiene una duración aproximada de entre 15 y 20 horas si no te ponés quisquilloso. Si tenés ganas, podés recoger todos los ítems que podés encontrar y desbloquear, ya que durante los niveles vamos a tener que rescatar robots, conseguir partes de un rompecabezas y luego juntar monedas para usar en un “gacha” para conseguir los dioramas de los juegos clásicos que vas a poder ver e interactuar en el “lobby”, tal como era con las consolas viejas en el juego original. Pero con respecto a la duración del juego, que para muchos es corto, Doucet asegura que es consciente que podría ser más largo, aunque tiene un por qué: “¿Cuántos juegos tienen aun sin terminar? Creo que hoy en día no es necesario hacer un juego de 40 horas, obvio que pensamos que sea también mundo abierto o algo así, pero para ser honesto, queríamos controlar la calidad total, que esté curado cada minuto de juego”, a lo que agrega: “Creo que es mejor tener 12 o 15 horas que se sostengan de manera sólida y constante a que tenga relleno de horas que te gustaría poder adelantar. Sí, históricamente las revistas y reseñas hablan de la duración, pero creo que deberíamos ir por calidad y no cantidad”. En cuanto poder jugar de a dos o más, el director también adelantó que tendremos un DLC gratuito en el futuro, y no dudó en confesar que la idea inicial estaba, pero que se dieron cuenta de que no era el camino, por lo menos, por ahora: “consideramos la idea de un modo cooperativo de sillón, pero la razón por la que no lo hicimos es que queríamos fomentar que la gente explore cada rincón de los niveles, que dé la vuelta, mire abajo y arriba en todos lados, y esa exploración 360 no se iba a poder hacer si no tenés el control total de la cámara. Para que se juegue de a dos tenés que sacrificar ese control”, confiesa el francés, pero le suma un dato clave: “Esto no quiere decir que en un futuro cercano no vayamos a intentar hacer un verdadero multiplayer, como un Party Game. Realmente nos encanta la idea de jugar con otros, aunque dicho esto, si bien Astro Bot es un single player, es uno de esos juegos que por su humor y mecánicas se puede jugar de a dos pasándose el control e intentando cada uno diferentes partes”. El juego no peca de repetitivo, y con su cámara 360 en tercera persona te permite tomarte tu tiempo para ir a ver cada detallito, porque en cada nivel hay decenas de gags, chistes y detalles ocultos para disfrutar. Lo mismo pasa con sus niveles decisivos, donde los jefes finales son tributos a juegos clásicos y su tamaño los hace desafiantes, pero a la vez viables para todas las edades y tipos de gamer. Gamers, o no tanto, que van a disfrutar los tributos y la sutileza de los detalles que le dan ese extra a un juego que sorprendió a todos y que quizás llegó para quedarse como la franquicia plataformera de Play que tanto se extrañaba desde Crash Bandicoot.|\n",
      "+---------------------------------------------------------------------------------------------------------------+----------+------------------------------------------------------------------------------------------------------------------------------------------------------+---------------------------------------------------------------------------------------------------------------------------------------------------------------------------------------------------------------------------------------------------------------------------------------------------------------------------------------------------------------------------------------------------------------------------------------------------------------------------------------------------------------------------------------------------------------------------------------------------------------------------------------------------------------------------------------------------------------------------------------------------------------------------------------------------------------------------------------------------------------------------------------------------------------------------------------------------------------------------------------------------------------------------------------------------------------------------------------------------------------------------------------------------------------------------------------------------------------------------------------------------------------------------------------------------------------------------------------------------------------------------------------------------------------------------------------------------------------------------------------------------------------------------------------------------------------------------------------------------------------------------------------------------------------------------------------------------------------------------------------------------------------------------------------------------------------------------------------------------------------------------------------------------------------------------------------------------------------------------------------------------------------------------------------------------------------------------------------------------------------------------------------------------------------------------------------------------------------------------------------------------------------------------------------------------------------------------------------------------------------------------------------------------------------------------------------------------------------------------------------------------------------------------------------------------------------------------------------------------------------------------------------------------------------------------------------------------------------------------------------------------------------------------------------------------------------------------------------------------------------------------------------------------------------------------------------------------------------------------------------------------------------------------------------------------------------------------------------------------------------------------------------------------------------------------------------------------------------------------------------------------------------------------------------------------------------------------------------------------------------------------------------------------------------------------------------------------------------------------------------------------------------------------------------------------------------------------------------------------------------------------------------------------------------------------------------------------------------------------------------------------------------------------------------------------------------------------------------------------------------------------------------------------------------------------------------------------------------------------------------------------------------------------------------------------------------------------------------------------------------------------------------------------------------------------------------------------------------------------------------------------------------------------------------------------------------------------------------------------------------------------------------------------------------------------------------------------------------------------------------------------------------------------------------------------------------------------------------------------------------------------------------------------------------------------------------------------------------------------------------------------------------------------------------------------------------------------------------------------------------------------------------------------------------------------------------------------------------------------------------------------------------------------------------------------------------------------------------------------------------------------------------------------------------------------------------------------------------------------------------------------------------------------------------------------------------------------------------------------------------------------------------------------------------------------------------------------------------------------------------------------------------------------------------------------------------------------------------------------------------------------------------------------------------------------------------------------------------------------------------------------------------------------------------------------------------------------------------------------------------------------------------------------------------------------------------------------------------------------------------------------------------------------------------------------------------------------------------------------------------------------------------------------------------------------------------------------------------------------------------------------------------------------------------------------------------------------------------------------------------------------------------------------------------------------------------------------------------------------------------------------------------------------------------------------------------------------------------------------------------------------------------------------------------------------------------------------------------------------------------------------------------------------------------------------------------------------------------------+\n",
      "only showing top 5 rows\n",
      "\n"
     ]
    }
   ],
   "source": [
    "# Mostrar las primeras filas del DataFrame\n",
    "print(\"Primeras filas del DataFrame:\")\n",
    "df.show(5,truncate=False)"
   ]
  },
  {
   "cell_type": "code",
   "execution_count": 5,
   "metadata": {
    "execution": {
     "iopub.execute_input": "2024-09-13T23:54:58.609000Z",
     "iopub.status.busy": "2024-09-13T23:54:58.608705Z",
     "iopub.status.idle": "2024-09-13T23:54:58.612686Z",
     "shell.execute_reply": "2024-09-13T23:54:58.612354Z"
    }
   },
   "outputs": [
    {
     "name": "stdout",
     "output_type": "stream",
     "text": [
      "\n",
      "Esquema del DataFrame:\n",
      "root\n",
      " |-- titulo: string (nullable = true)\n",
      " |-- fecha: string (nullable = true)\n",
      " |-- link: string (nullable = true)\n",
      " |-- cuerpo: string (nullable = true)\n",
      "\n"
     ]
    }
   ],
   "source": [
    "# Mostrar el esquema del DataFrame (tipos de datos de cada columna)\n",
    "print(\"\\nEsquema del DataFrame:\")\n",
    "df.printSchema()"
   ]
  },
  {
   "cell_type": "code",
   "execution_count": 6,
   "metadata": {
    "execution": {
     "iopub.execute_input": "2024-09-13T23:54:58.614415Z",
     "iopub.status.busy": "2024-09-13T23:54:58.614222Z",
     "iopub.status.idle": "2024-09-13T23:54:59.583432Z",
     "shell.execute_reply": "2024-09-13T23:54:59.582870Z"
    }
   },
   "outputs": [
    {
     "name": "stdout",
     "output_type": "stream",
     "text": [
      "\n",
      "Descripción estadística de las columnas numéricas:\n"
     ]
    },
    {
     "name": "stderr",
     "output_type": "stream",
     "text": [
      "24/09/13 20:54:58 WARN SparkStringUtils: Truncated the string representation of a plan since it was too large. This behavior can be adjusted by setting 'spark.sql.debug.maxToStringFields'.\n"
     ]
    },
    {
     "name": "stdout",
     "output_type": "stream",
     "text": [
      "+-------+--------------------+----------+--------------------+--------------------+\n",
      "|summary|              titulo|     fecha|                link|              cuerpo|\n",
      "+-------+--------------------+----------+--------------------+--------------------+\n",
      "|  count|                1927|      1928|                1928|                1923|\n",
      "|   mean|                NULL|      NULL|                NULL|                NULL|\n",
      "| stddev|                NULL|      NULL|                NULL|                NULL|\n",
      "|    min|          \"\"\"Bury Me| My Love\"\"|    dice su creador\"|\"\"\"A la gente que...|\n",
      "|    max|“Tenemos paciente...|2024-09-13|https://www.lanac...|“¡Pon a remojar l...|\n",
      "+-------+--------------------+----------+--------------------+--------------------+\n",
      "\n"
     ]
    }
   ],
   "source": [
    "# Describir las estadísticas básicas\n",
    "print(\"\\nDescripción estadística de las columnas numéricas:\")\n",
    "df.describe().show()\n"
   ]
  },
  {
   "cell_type": "code",
   "execution_count": 7,
   "metadata": {
    "execution": {
     "iopub.execute_input": "2024-09-13T23:54:59.585702Z",
     "iopub.status.busy": "2024-09-13T23:54:59.585461Z",
     "iopub.status.idle": "2024-09-13T23:55:00.315732Z",
     "shell.execute_reply": "2024-09-13T23:55:00.315225Z"
    }
   },
   "outputs": [
    {
     "name": "stdout",
     "output_type": "stream",
     "text": [
      "Columna\t\tCantidad de Nulos\n",
      "----------------------------------------\n",
      "titulo\t\t1\n",
      "fecha\t\t0\n",
      "link\t\t0\n",
      "cuerpo\t\t5\n"
     ]
    }
   ],
   "source": [
    "from pyspark.sql.functions import col, sum\n",
    "# Crea una lista con el nombre de las columnas y la cantidad de nulos en cada una\n",
    "null_counts = [(column, df.filter(col(column).isNull()).count()) for column in df.columns]\n",
    "\n",
    "# Imprime la tabla\n",
    "print(\"Columna\\t\\tCantidad de Nulos\")\n",
    "print(\"-\" * 40)\n",
    "for column, count in null_counts:\n",
    "    print(f\"{column}\\t\\t{count}\")"
   ]
  },
  {
   "cell_type": "code",
   "execution_count": 8,
   "metadata": {
    "execution": {
     "iopub.execute_input": "2024-09-13T23:55:00.317687Z",
     "iopub.status.busy": "2024-09-13T23:55:00.317525Z",
     "iopub.status.idle": "2024-09-13T23:55:00.528793Z",
     "shell.execute_reply": "2024-09-13T23:55:00.528213Z"
    }
   },
   "outputs": [
    {
     "name": "stdout",
     "output_type": "stream",
     "text": [
      "Registros con valores nulos en alguna columna:\n"
     ]
    },
    {
     "name": "stdout",
     "output_type": "stream",
     "text": [
      "+--------------------------------------------------------------------------+----------+----------------------------------------------------------------------------------------------------------------------------------------------------------------+-------------------------------------------------------------------------------------------------------------------------------------------------------------------------------------------------------------------------------------------------------------------------------------------------------------------------------------------------------------------------------------------------------------------------------------------------+\n",
      "|titulo                                                                    |fecha     |link                                                                                                                                                            |cuerpo                                                                                                                                                                                                                                                                                                                                                                                                                                           |\n",
      "+--------------------------------------------------------------------------+----------+----------------------------------------------------------------------------------------------------------------------------------------------------------------+-------------------------------------------------------------------------------------------------------------------------------------------------------------------------------------------------------------------------------------------------------------------------------------------------------------------------------------------------------------------------------------------------------------------------------------------------+\n",
      "|NULL                                                                      |2022-07-20|https://www.lanacion.com.ar/deportes/canchallena/fifa-23-el-trailer-oficial-cuando-es-el-lanzamiento-los-nuevos-torneos-y-todo-lo-que-hay-que-saber-nid20072022/|EA Sports presentó el tráiler oficial del FIFA 23, el último bajo este nombre, y se conocieron varios detalles en la antesala del lanzamiento. Por primera vez, el juego estará cruzado con varios detalles relacionados a la expansión del fútbol femenino a nivel global: Sam Kerr estará en la portada del juego, habrá clubes disponibles de dos ligas, tendrá la posibilidad de jugar el Mundial 2023 y sumará nuevos detalles de animación.|\n",
      "|\"Carlos Pérez: \"\"Comunicación y modelo de negocio deberían ser lo mismo\"\"\"|2017-01-18|https://www.lanacion.com.ar/economia/carlos-perez-comunicacion-y-modelo-de-negocio-deberian-ser-lo-mismo-nid1976919/                                            |NULL                                                                                                                                                                                                                                                                                                                                                                                                                                             |\n",
      "|Los Angeles: qué novedades trae el FIFA 2017                              |2016-06-14|https://www.lanacion.com.ar/tecnologia/los-angeles-que-novedades-trae-el-fifa-2017-nid1908907/                                                                  |NULL                                                                                                                                                                                                                                                                                                                                                                                                                                             |\n",
      "|Todo el color de la Tokyo Game Show, la mega feria de videojuegos         |2013-09-23|https://www.lanacion.com.ar/tecnologia/todo-el-color-de-la-tokyo-game-show-la-mega-feria-de-videojuegos-nid1621754/                                             |NULL                                                                                                                                                                                                                                                                                                                                                                                                                                             |\n",
      "|Eligen los mejores videojuegos de la historia                             |2012-11-21|https://www.lanacion.com.ar/tecnologia/eligen-los-mejores-videojuegos-de-la-historia-nid1528816/                                                                |NULL                                                                                                                                                                                                                                                                                                                                                                                                                                             |\n",
      "|Probamos la consola Sony PS Vita                                          |2012-06-18|https://www.lanacion.com.ar/tecnologia/probamos-la-sony-ps-vita-nid1482479/                                                                                     |NULL                                                                                                                                                                                                                                                                                                                                                                                                                                             |\n",
      "+--------------------------------------------------------------------------+----------+----------------------------------------------------------------------------------------------------------------------------------------------------------------+-------------------------------------------------------------------------------------------------------------------------------------------------------------------------------------------------------------------------------------------------------------------------------------------------------------------------------------------------------------------------------------------------------------------------------------------------+\n",
      "\n"
     ]
    }
   ],
   "source": [
    "# Filtrar los registros que tienen valores nulos en alguna columna\n",
    "df_with_nulls = df.filter(F.greatest(*[F.col(c).isNull().cast(\"int\") for c in df.columns]) == 1)\n",
    "\n",
    "# Mostrar los registros con nulos\n",
    "print(\"Registros con valores nulos en alguna columna:\")\n",
    "df_with_nulls.show(truncate=False)"
   ]
  },
  {
   "cell_type": "code",
   "execution_count": 9,
   "metadata": {
    "execution": {
     "iopub.execute_input": "2024-09-13T23:55:00.531222Z",
     "iopub.status.busy": "2024-09-13T23:55:00.530793Z",
     "iopub.status.idle": "2024-09-13T23:55:00.541651Z",
     "shell.execute_reply": "2024-09-13T23:55:00.541334Z"
    }
   },
   "outputs": [],
   "source": [
    "# Eliminar los registros que tienen algún valor nulo\n",
    "df_cleaned = df.dropna()"
   ]
  },
  {
   "cell_type": "code",
   "execution_count": 10,
   "metadata": {
    "execution": {
     "iopub.execute_input": "2024-09-13T23:55:00.543710Z",
     "iopub.status.busy": "2024-09-13T23:55:00.543535Z",
     "iopub.status.idle": "2024-09-13T23:55:00.962337Z",
     "shell.execute_reply": "2024-09-13T23:55:00.961917Z"
    }
   },
   "outputs": [
    {
     "name": "stdout",
     "output_type": "stream",
     "text": [
      "Columna\t\tCantidad de Nulos\n",
      "----------------------------------------\n",
      "titulo\t\t1\n",
      "fecha\t\t0\n",
      "link\t\t0\n",
      "cuerpo\t\t5\n"
     ]
    }
   ],
   "source": [
    "# Crea una lista con el nombre de las columnas y la cantidad de nulos en cada una\n",
    "null_counts = [(column, df.filter(col(column).isNull()).count()) for column in df.columns]\n",
    "\n",
    "# Imprime la tabla\n",
    "print(\"Columna\\t\\tCantidad de Nulos\")\n",
    "print(\"-\" * 40)\n",
    "for column, count in null_counts:\n",
    "    print(f\"{column}\\t\\t{count}\")"
   ]
  },
  {
   "cell_type": "code",
   "execution_count": 11,
   "metadata": {
    "execution": {
     "iopub.execute_input": "2024-09-13T23:55:00.964359Z",
     "iopub.status.busy": "2024-09-13T23:55:00.964123Z",
     "iopub.status.idle": "2024-09-13T23:55:01.099255Z",
     "shell.execute_reply": "2024-09-13T23:55:01.098663Z"
    }
   },
   "outputs": [
    {
     "name": "stdout",
     "output_type": "stream",
     "text": [
      "+------+-----+----+------+\n",
      "|titulo|fecha|link|cuerpo|\n",
      "+------+-----+----+------+\n",
      "+------+-----+----+------+\n",
      "\n"
     ]
    }
   ],
   "source": [
    "\n",
    "# Verifica la fila correspondiente en el DataFrame de Spark\n",
    "fila_nula_spark = df.filter(F.col('fecha').isNull()).show(truncate = False)\n",
    "\n"
   ]
  },
  {
   "cell_type": "code",
   "execution_count": 12,
   "metadata": {
    "execution": {
     "iopub.execute_input": "2024-09-13T23:55:01.102032Z",
     "iopub.status.busy": "2024-09-13T23:55:01.101687Z",
     "iopub.status.idle": "2024-09-13T23:55:02.609653Z",
     "shell.execute_reply": "2024-09-13T23:55:02.609121Z"
    }
   },
   "outputs": [
    {
     "name": "stdout",
     "output_type": "stream",
     "text": [
      "Primeras filas con puntuación de sentimiento:\n"
     ]
    },
    {
     "name": "stderr",
     "output_type": "stream",
     "text": [
      "\r",
      "[Stage 37:>                                                         (0 + 1) / 1]\r"
     ]
    },
    {
     "name": "stdout",
     "output_type": "stream",
     "text": [
      "+--------------------+----------+--------------------+--------------------+--------------------+\n",
      "|              titulo|     fecha|                link|              cuerpo|           sentiment|\n",
      "+--------------------+----------+--------------------+--------------------+--------------------+\n",
      "|Diez años después...|2024-09-13|https://www.lanac...|Flappy Bird el co...|                0.15|\n",
      "|Ya está disponibl...|2024-09-12|https://www.lanac...|Steam ha anunciad...|               0.375|\n",
      "|Xbox Game Pass St...|2024-09-11|https://www.lanac...|Xbox ha lanzado s...|-0.26666666666666666|\n",
      "+--------------------+----------+--------------------+--------------------+--------------------+\n",
      "only showing top 3 rows\n",
      "\n"
     ]
    },
    {
     "name": "stderr",
     "output_type": "stream",
     "text": [
      "\r",
      "                                                                                \r"
     ]
    }
   ],
   "source": [
    "# Definir una función para calcular el sentimiento usando TextBlob\n",
    "def get_sentiment(text):\n",
    "    if text is None:\n",
    "        return None\n",
    "    return TextBlob(text).sentiment.polarity\n",
    "\n",
    "# Registrar la función como una UDF (User Defined Function)\n",
    "sentiment_udf = F.udf(get_sentiment)\n",
    "\n",
    "# Crear la columna 'sentiment' basada en el cuerpo de la noticia\n",
    "df_with_sentiment = df.withColumn(\"sentiment\", sentiment_udf(F.col(\"cuerpo\")))\n",
    "\n",
    "# Mostrar algunas filas con la nueva columna de sentimiento\n",
    "print(\"Primeras filas con puntuación de sentimiento:\")\n",
    "df_with_sentiment.show(3)"
   ]
  },
  {
   "cell_type": "code",
   "execution_count": 13,
   "metadata": {
    "execution": {
     "iopub.execute_input": "2024-09-13T23:55:02.612339Z",
     "iopub.status.busy": "2024-09-13T23:55:02.612038Z",
     "iopub.status.idle": "2024-09-13T23:55:03.429539Z",
     "shell.execute_reply": "2024-09-13T23:55:03.429006Z"
    }
   },
   "outputs": [
    {
     "name": "stdout",
     "output_type": "stream",
     "text": [
      "+------+-----+----+------+---------+\n",
      "|titulo|fecha|link|cuerpo|sentiment|\n",
      "+------+-----+----+------+---------+\n",
      "+------+-----+----+------+---------+\n",
      "\n"
     ]
    },
    {
     "name": "stderr",
     "output_type": "stream",
     "text": [
      "\r",
      "[Stage 38:>                                                         (0 + 1) / 1]\r",
      "\r",
      "                                                                                \r"
     ]
    }
   ],
   "source": [
    "\n",
    "# Verifica la fila correspondiente en el DataFrame de Spark\n",
    "fila_nula_spark = df_with_sentiment.filter(F.col('fecha').isNull()).show(truncate = False)\n",
    "\n"
   ]
  },
  {
   "cell_type": "code",
   "execution_count": 14,
   "metadata": {
    "execution": {
     "iopub.execute_input": "2024-09-13T23:55:03.431751Z",
     "iopub.status.busy": "2024-09-13T23:55:03.431455Z",
     "iopub.status.idle": "2024-09-13T23:55:06.298013Z",
     "shell.execute_reply": "2024-09-13T23:55:06.297333Z"
    }
   },
   "outputs": [
    {
     "name": "stderr",
     "output_type": "stream",
     "text": [
      "\r",
      "[Stage 40:>                                                         (0 + 2) / 2]\r"
     ]
    },
    {
     "name": "stderr",
     "output_type": "stream",
     "text": [
      "\r",
      "[Stage 40:=============================>                            (1 + 1) / 2]\r"
     ]
    },
    {
     "name": "stderr",
     "output_type": "stream",
     "text": [
      "\r",
      "                                                                                \r"
     ]
    }
   ],
   "source": [
    "df_with_sentiment.write.mode(\"overwrite\").csv(\"../data/processed/news.csv\", header=True)"
   ]
  },
  {
   "cell_type": "code",
   "execution_count": 15,
   "metadata": {
    "execution": {
     "iopub.execute_input": "2024-09-13T23:55:06.300070Z",
     "iopub.status.busy": "2024-09-13T23:55:06.299866Z",
     "iopub.status.idle": "2024-09-13T23:55:12.545805Z",
     "shell.execute_reply": "2024-09-13T23:55:12.545277Z"
    }
   },
   "outputs": [
    {
     "name": "stdout",
     "output_type": "stream",
     "text": [
      "+------+-----+----+------+---------+\n",
      "|titulo|fecha|link|cuerpo|sentiment|\n",
      "+------+-----+----+------+---------+\n",
      "+------+-----+----+------+---------+\n",
      "\n",
      "Filas nulas luego de pasar formato None\n"
     ]
    },
    {
     "name": "stderr",
     "output_type": "stream",
     "text": [
      "24/09/13 20:55:08 WARN GarbageCollectionMetrics: To enable non-built-in garbage collector(s) List(G1 Concurrent GC), users should configure it(them) to spark.eventLog.gcMetrics.youngGenerationGarbageCollectors or spark.eventLog.gcMetrics.oldGenerationGarbageCollectors\n",
      "\r",
      "[Stage 43:>                                                         (0 + 2) / 2]\r"
     ]
    },
    {
     "name": "stderr",
     "output_type": "stream",
     "text": [
      "\r",
      "[Stage 43:=============================>                            (1 + 1) / 2]\r"
     ]
    },
    {
     "name": "stderr",
     "output_type": "stream",
     "text": [
      "\r",
      "                                                                                \r"
     ]
    },
    {
     "name": "stdout",
     "output_type": "stream",
     "text": [
      "     year  month  avg_sentiment      fecha\n",
      "1  2012.0    6.0      -0.004167 2012-06-01\n",
      "2  2012.0    7.0      -0.100000 2012-07-01\n",
      "3  2012.0    8.0       0.000000 2012-08-01\n",
      "4  2012.0    9.0       0.058333 2012-09-01\n",
      "5  2012.0   10.0      -0.120139 2012-10-01\n"
     ]
    }
   ],
   "source": [
    "import seaborn as sns\n",
    "import matplotlib.pyplot as plt\n",
    "import pyspark.sql.functions as F\n",
    "import pandas as pd\n",
    "\n",
    "# Verifica la fila correspondiente en el DataFrame de Spark\n",
    "fila_nula_spark = df_with_sentiment.filter(F.col('fecha').isNull()).show(truncate = False)\n",
    "print(\"Filas nulas luego de pasar formato\", fila_nula_spark)\n",
    "\n",
    "df_with_sentiment = df_with_sentiment.dropna(subset=['sentiment'])\n",
    "\n",
    "# Crear columnas de año y mes\n",
    "df_with_sentiment = df_with_sentiment.withColumn('year', F.year(F.col('fecha')))\n",
    "df_with_sentiment = df_with_sentiment.withColumn('month', F.month(F.col('fecha')))\n",
    "\n",
    "# Agrupar por año y mes en lugar de por fecha exacta\n",
    "sentiment_by_month = df_with_sentiment.groupBy('year', 'month').agg(F.avg('sentiment').alias('avg_sentiment')).orderBy('year', 'month')\n",
    "\n",
    "# Convertir a Pandas para visualización\n",
    "sentiment_pd = sentiment_by_month.toPandas()\n",
    "\n",
    "# Crear una columna de fecha combinando año y mes\n",
    "sentiment_pd['fecha'] = pd.to_datetime(sentiment_pd[['year', 'month']].assign(day=1))  # Usa el primer día del mes\n",
    "\n",
    "# Ordenar los valores\n",
    "sentiment_pd = sentiment_pd.sort_values('fecha')\n",
    "\n",
    "# Verificar los datos antes de la visualización\n",
    "print(sentiment_pd.head())\n",
    "\n",
    "# Visualización\n",
    "plt.figure(figsize=(14, 7))\n",
    "sns.lineplot(data=sentiment_pd, x='fecha', y='avg_sentiment', marker='o')\n",
    "plt.title('Evolución del Sentimiento Promedio de Noticias de Videojuegos (Agrupado por Mes)')\n",
    "plt.xlabel('Fecha')\n",
    "plt.ylabel('Sentimiento Promedio')\n",
    "plt.xticks(rotation=45)\n",
    "plt.tight_layout()\n",
    "plt.savefig('sentiment_trend_monthly.png')  # Guarda la gráfica como una imagen\n",
    "plt.close()\n",
    "\n",
    "# Paso 10: Sistema de Alerta\n",
    "#sentiment_pd['sentiment_change'] = sentiment_pd['avg_sentiment'].diff()\n",
    "#latest_change = sentiment_pd['sentiment_change'].iloc[-1] if not sentiment_pd['sentiment_change'].empty else None\n",
    "#latest_date = sentiment_pd['fecha'].iloc[-1] if not sentiment_pd['fecha'].empty else None\n",
    "\n",
    "# Comprobamos si latest_date es NaT antes de usar strftime\n",
    "#if pd.notna(latest_change) and pd.notna(latest_date):\n",
    "#    threshold = 0.2\n",
    "#    if latest_change <= -threshold:\n",
    "#        print(f\"ALERTA: El sentimiento promedio cayó {abs(latest_change):.2f} puntos en {latest_date.strftime('%B %Y')}.\")\n",
    "#        # Aquí podrías añadir código para enviar un correo electrónico o una notificación\n",
    "#    else:\n",
    "#        print(f\"El sentimiento promedio está estable en {latest_date.strftime('%B %Y')}.\")\n",
    "#else:\n",
    "#    print(\"No hay suficientes datos para generar una alerta o la fecha es inválida.\")\n"
   ]
  },
  {
   "cell_type": "code",
   "execution_count": 16,
   "metadata": {
    "execution": {
     "iopub.execute_input": "2024-09-13T23:55:12.547772Z",
     "iopub.status.busy": "2024-09-13T23:55:12.547520Z",
     "iopub.status.idle": "2024-09-13T23:55:12.552104Z",
     "shell.execute_reply": "2024-09-13T23:55:12.551609Z"
    }
   },
   "outputs": [
    {
     "name": "stdout",
     "output_type": "stream",
     "text": [
      "   year  month  avg_sentiment fecha\n",
      "0   NaN    NaN            0.0   NaT\n"
     ]
    }
   ],
   "source": [
    "# Suponiendo que 'sentiment_pd' es tu DataFrame\n",
    "nulos_en_fecha = sentiment_pd[sentiment_pd['fecha'].isna()]\n",
    "\n",
    "# Mostrar las filas donde la columna 'fecha' tiene valores nulos\n",
    "print(nulos_en_fecha)\n"
   ]
  },
  {
   "cell_type": "code",
   "execution_count": 17,
   "metadata": {
    "execution": {
     "iopub.execute_input": "2024-09-13T23:55:12.553817Z",
     "iopub.status.busy": "2024-09-13T23:55:12.553662Z",
     "iopub.status.idle": "2024-09-13T23:55:12.892745Z",
     "shell.execute_reply": "2024-09-13T23:55:12.892098Z"
    }
   },
   "outputs": [
    {
     "name": "stdout",
     "output_type": "stream",
     "text": [
      "   year  month  avg_sentiment fecha\n",
      "0   NaN    NaN            0.0   NaT\n"
     ]
    },
    {
     "name": "stdout",
     "output_type": "stream",
     "text": [
      "+------+-----+----+------+---------+----+-----+\n",
      "|titulo|fecha|link|cuerpo|sentiment|year|month|\n",
      "+------+-----+----+------+---------+----+-----+\n",
      "+------+-----+----+------+---------+----+-----+\n",
      "\n"
     ]
    }
   ],
   "source": [
    "# Filtra la fila con el valor nulo en Pandas\n",
    "fila_nula = sentiment_pd[sentiment_pd['fecha'].isna()]\n",
    "print(fila_nula)\n",
    "\n",
    "# Verifica la fila correspondiente en el DataFrame de Spark\n",
    "fila_nula_spark = df_with_sentiment.filter(F.col('fecha').isNull()).show(truncate = False)\n"
   ]
  }
 ],
 "metadata": {
  "kernelspec": {
   "display_name": "Python 3",
   "language": "python",
   "name": "python3"
  },
  "language_info": {
   "codemirror_mode": {
    "name": "ipython",
    "version": 3
   },
   "file_extension": ".py",
   "mimetype": "text/x-python",
   "name": "python",
   "nbconvert_exporter": "python",
   "pygments_lexer": "ipython3",
   "version": "3.12.3"
  }
 },
 "nbformat": 4,
 "nbformat_minor": 2
}
