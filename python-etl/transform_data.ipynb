{
 "cells": [
  {
   "cell_type": "code",
   "execution_count": 1,
   "metadata": {},
   "outputs": [],
   "source": [
    "from pyspark.sql import SparkSession\n",
    "from pyspark.sql import functions as F\n",
    "from textblob import TextBlob\n"
   ]
  },
  {
   "cell_type": "code",
   "execution_count": 2,
   "metadata": {},
   "outputs": [
    {
     "name": "stderr",
     "output_type": "stream",
     "text": [
      "24/08/26 23:47:08 WARN Utils: Your hostname, mauro-thinkpad resolves to a loopback address: 127.0.1.1; using 192.168.0.212 instead (on interface wlp0s20f3)\n",
      "24/08/26 23:47:08 WARN Utils: Set SPARK_LOCAL_IP if you need to bind to another address\n",
      "Setting default log level to \"WARN\".\n",
      "To adjust logging level use sc.setLogLevel(newLevel). For SparkR, use setLogLevel(newLevel).\n",
      "24/08/26 23:47:10 WARN NativeCodeLoader: Unable to load native-hadoop library for your platform... using builtin-java classes where applicable\n"
     ]
    }
   ],
   "source": [
    "# Crear una sesión de Spark\n",
    "spark = SparkSession.builder.appName(\"NewsDataInspection\").getOrCreate()\n",
    "\n",
    "# Cargar el archivo CSV\n",
    "file_path = '../data/raw/news.csv'\n",
    "df = spark.read.csv(file_path, header=True, inferSchema=True)"
   ]
  },
  {
   "cell_type": "code",
   "execution_count": 3,
   "metadata": {},
   "outputs": [
    {
     "name": "stdout",
     "output_type": "stream",
     "text": [
      "\n",
      "Dimensiones del DataFrame: 402 filas, 3 columnas\n"
     ]
    }
   ],
   "source": [
    "# Contar el número de filas y columnas\n",
    "num_rows = df.count()\n",
    "num_cols = len(df.columns)\n",
    "print(f\"\\nDimensiones del DataFrame: {num_rows} filas, {num_cols} columnas\")"
   ]
  },
  {
   "cell_type": "code",
   "execution_count": 4,
   "metadata": {},
   "outputs": [
    {
     "name": "stdout",
     "output_type": "stream",
     "text": [
      "Primeras filas del DataFrame:\n",
      "+--------------------------------------------------------------------------------------------------------------+-------------------------------------------------------------------------------------------------------------------------------------------------------+------------------------------------------------------------------------------------------------------------------------------------------------------------------------------------------------------------------------------------------------------------------------------------------------------------------------------------------------------------------------------------------------------------------------------------------------------------------------------------------------------------------------------------------------------------------------------------------------------------------------------------------------------------------------------------------------------------------------------------------------------------------------------------------------------------------------------------------------------------------------------------------------------------------------------------------------------------------------------------------------------------------------------------------------------------------------------------------------------------------------------------------------------------------------------------------------------------------------------------------------------------------------------------------------------------------------------------------------------------------------------------------------------------------------------------------------------------------------------------------------------------------------------------------------------------------------------------------------------------------------------------------------------------------------------------------------------------------------------------------------------------------------------------------------------------------------------------------------------------------------------------------------------------------------------------------------------------------------------------------------------------------------------------------------------------------------------------------------------------------------------------------------------------------------------------------------------------------------------------------------------------------------------------------------------------------------------------------------------------------------------------------------------------------------------------------------------------------------------------------------------------------------------------------------------------------------------------------------------------------------------------------------------------------------------------------------------------------------------------------------------------------------------------------------------------------------------------------------------------------------------------------------------------------------------------------------------------------------------------------------------------------------------------------------------------------------------------------------------------------------------------------------------------------------------------------------------------------------------------------------------------------------------------------------------------------------------------------------------------------------------------------------------------------------------------------------------------------------------------------------------------------------------------------------------------------------------+\n",
      "|titulo                                                                                                        |link                                                                                                                                                   |cuerpo                                                                                                                                                                                                                                                                                                                                                                                                                                                                                                                                                                                                                                                                                                                                                                                                                                                                                                                                                                                                                                                                                                                                                                                                                                                                                                                                                                                                                                                                                                                                                                                                                                                                                                                                                                                                                                                                                                                                                                                                                                                                                                                                                                                                                                                                                                                                                                                                                                                                                                                                                                                                                                                                                                                                                                                                                                                                                                                                                                                                                                                                                                                                                                                                                                                                                                                                                                                                                                                                                                                                                                        |\n",
      "+--------------------------------------------------------------------------------------------------------------+-------------------------------------------------------------------------------------------------------------------------------------------------------+------------------------------------------------------------------------------------------------------------------------------------------------------------------------------------------------------------------------------------------------------------------------------------------------------------------------------------------------------------------------------------------------------------------------------------------------------------------------------------------------------------------------------------------------------------------------------------------------------------------------------------------------------------------------------------------------------------------------------------------------------------------------------------------------------------------------------------------------------------------------------------------------------------------------------------------------------------------------------------------------------------------------------------------------------------------------------------------------------------------------------------------------------------------------------------------------------------------------------------------------------------------------------------------------------------------------------------------------------------------------------------------------------------------------------------------------------------------------------------------------------------------------------------------------------------------------------------------------------------------------------------------------------------------------------------------------------------------------------------------------------------------------------------------------------------------------------------------------------------------------------------------------------------------------------------------------------------------------------------------------------------------------------------------------------------------------------------------------------------------------------------------------------------------------------------------------------------------------------------------------------------------------------------------------------------------------------------------------------------------------------------------------------------------------------------------------------------------------------------------------------------------------------------------------------------------------------------------------------------------------------------------------------------------------------------------------------------------------------------------------------------------------------------------------------------------------------------------------------------------------------------------------------------------------------------------------------------------------------------------------------------------------------------------------------------------------------------------------------------------------------------------------------------------------------------------------------------------------------------------------------------------------------------------------------------------------------------------------------------------------------------------------------------------------------------------------------------------------------------------------------------------------------------------------------------------------------+\n",
      "|Gamescom 2024: vuelve Indiana Jones en una nueva aventura y llega Borderlands 4                               |https://www.lanacion.com.ar/tecnologia/gamescom-2024-vuelve-indiana-jones-en-una-nueva-aventura-y-llega-borderlands-4-nid21082024/                     |Borderlands 4 el próximo año, pero antes, el 9 de diciembre lo hará Indiana Jones y el Gran Círculo, como se ha conocido en la ceremonia inaugural de la feria de videojuegos Gamescom, que se ha celebrado este martes por la noche. Firmas del sector como 2K y Xbox, y otras más recientes como Netflix y Amazon, han compartido algunas novedades de sus títulos durante la Gamescom Opening Night Live, presentada por el periodista especializado Geoff Keighley. 2K ha anunciado una nueva entrega de Borderlands, el cuarto título principal y séptimo de la franquicia. Estará disponible el próximo año para PlayStation 5, Xbox Series X|S y PC a través de Steam y Epic Games Store. El juego de estrategia Sid Meier’s Civilization VII estará disponible en todo el mundo el 11 de febrero, con soporte para juego cruzado y progresión cruzada, en PlayStation 4 y 5, Xbox Series X|S, Xbox One, Nintendo Switch y PC a través de Steam y Epic Games Store. Este título tiene como narradora a la actriz Gwendoline Christie e incorpora características como las Eras y la posibilidad de seleccionar líderes y civilizaciones de forma independiente para mezclar y combinar bonificaciones de partida. Mafia: The Old Country (2025) llevará a los jugadores al inframundo de la Sicilia de los años 1900, con una historia que permitirá descubrir los orígenes del crimen organizado. Llegará a PlayStation 5, Xbox Series X|S y PC a través de Steam. Xbox, por su parte, ha confirmado la fecha de lanzamiento de Indiana Jones y el Gran Círculo, que llegará primero a Xbox Series X|S y PC el 9 de diciembre, y en primavera del próximo año a PlayStation 5. La firma tecnológica también ha mostrado trailers de Age of Mythology: Retold (4 septiembre), la misión de campaña ‘Los más buscados’ de Call of Duty: Black Ops 6 (25 de octubre), Ara: History Untold (24 septiembre), Towerborne (acceso anticipado 10 de septiembre). Asimismo, ha compartido nuevos contenidos que llegan a sus principales franquicias. Es el caso de The War Within, que introducirá el 26 de agosto en World of Warcraft la saga The Worldsoul, considerada por Blizzard como “el arco argumental más ambicioso en la historia de WoW”. Starfield, por su parte, se ampliará con la expansión Shattered Space (30 septiembre), con la que se visitará el mundo natal de la Casa Va’ruun, mientras que Diablo IV recibirá el 8 de octubre Vessel of Hatred, una expansión que introduce los mercenarios. Otros títulos anunciados con Masters of Albion, del estudio de desarrollo 22cans; Squid Game, de Netflix; Batman: Arkham Shadow para Meta Quest 3; Herdling, de Okomotive; Marvel Rivals, de Marvel Games y Netease Games; King of Meat, de Glowmade y Amazon Games; y Goat Simulator Remaster.                                                                                                                                                                                                                                                                                                                                                                                                                                                                                                                                                                                                                                                                                                                                                        |\n",
      "|Un juego chino rompió el récord histórico de jugadores simultáneos en Steam con más de dos millones conectados|https://www.lanacion.com.ar/tecnologia/un-juego-chino-rompio-el-record-historico-de-jugadores-simultaneos-en-steam-con-mas-de-dos-millones-nid20082024/|Cuatro años esperaron los usuarios la llegada de Black Myth: Wukong, el videojuego chino de un jugador (single player) basado en la mitología del país. La ansiedad fue tal que este martes, durante su estreno, rompió el récord de mayor cantidad de jugadores simultáneos para un juego de un jugador en Steam. En su pico, llegó a 2.223.179 personas jugando al mismo tiempo. También se posiciona como el más vendido en la plataforma. “Black Myth: Wukong es un RPG de acción inspirado en la mitología china. Encarnarás al Predestinado, que ha de embarcarse en un viaje repleto de peligros y maravillas para descubrir la verdad oculta acerca de una gloriosa leyenda del pasado”, así lo definió su desarrolladora Game Science. El mito corresponde a la Leyenda del Mono y está disponible para Playstation 5 y Xbox. El videojuego tuvo impacto, además, por sus increíbles visuales, que llegaron a ser tendencia en redes sociales. Tal es así que las más de 125 mil reseñas presentes en la plataforma de videojuegos son “extremadamente positivas”. Black Myth: Wukong duplicó el récord del lanzamiento de Cyberpunk 2077 en 2020, donde alcanzó un millón de jugadores concurrentes, y de Palworld, que tuvo 2,1 millones. Aún así, el récord oficial lo tiene el juego de multijugador Playerunknown’s Battlegrounds o PUGB, que tuvo 3,3 millones. Este martes llegó a ser el juego más jugado en Steam, superando a los grandes como el Counter Strike 2, Dota 2 y PUGB. Los halagos al juego se enfocaban en su presentación visual, combate y la construcción de mundos. El primer anuncio del mismo salió en 2020, con un tráiler que tuvo más de cinco millones de visitas en YouTube en el canal del portal de videojuegos y entretenimiento IGN. Desde entonces, los fanáticos esperaron ansiosos su llegada. Game Science no era conocida en ese momento y se llevó la sorpresa de todos. La empresa de desarrollo y publicación de videojuegos proviene de China y es independiente. Tal es así que en 2020 el equipo estaba compuesto por solo 30 personas que venían de trabajar en la empresa tecnológica multinacional Tencent -en los inicios del proyecto de Blackmyth, eran solo siete personas las que trabajaban en su desarrollo en 2018. El juego se basa en la novela china Viaje al Oeste, publicada en el Siglo XVI durante la dinastía Ming. El libro sigue la peregrinación del monje budista Xuanzang de la dinastía Tang, en su viaje para obtener textos sagrados budistas. El videojuego, en cambio, plantea un enfoque alternativo: el jugador juega como el Rey Mono, que acompaña a un monje budista que obtuvo un texto sagrado del Oeste. Aún así, en el tráiler se ven tres monos, y el juego consiste en que el jugador adivine cuál de los tres es el real.                                                                                                                                                                                                                                                                                                                                                                                                                                                                                                                                                                                                                                                                                                                                                  |\n",
      "|En el Mundial de Honolulú: un argentino alcanzó el bronce y es el tercer mejor jugador del mundo en Pokémon Go|https://www.lanacion.com.ar/tecnologia/en-el-mundial-de-honolulu-un-argentino-alcanzo-el-bronce-y-quedo-el-tercer-mejor-jugador-del-mundo-nid19082024/ |En un evento masivo, donde más de 3000 participantes en simultáneo disfrutaron de un fin de semana de juegos, la Argentina dejó su marca con decenas de participantes en las disciplinas de videojuegos, Pokémon Go y el famoso juego de cartas en el Pokémon World Championships que se hizo el fin de semana pasado. Durante tres días, jugadores de todo el planeta compitieron en el centro de convenciones de Honolulú, Hawaii, en uno de los eventos de juegos más convocantes del mundo. Allí, entre los 3000 jugadores, cientos de jueces, staff, y visitantes, se destacó la decena de miembros de la “legión argentina de Pokémon” en varias de las disciplinas. Entre ellos la gran actuación de Martín “Martogalde” Galderisi, quien se quedó con el trofeo de bronce, 13.000 dólares de premio y el orgullo de ser el tercer mejor jugador del planeta de Pokémon Go, el juego de realidad aumentada en el que hay que cazar pokémones con el teléfono para entrenarlos y usarlos para desafiar a otros competidores, y que debutó con un éxito inicial inesperado a mediados de 2016. Galderisi llegó invicto a las instancias finales con una gran actuación, que fue transmitida para miles de personas en YouTube y Twitch, como también ante cientos de presentes en el main Stage del Mundial en Hawaii, y quedó en tercer lugar. “Lo que siento es indescriptible”, expresó el argentino, y agregó: “Es algo que venía buscando hace rato. Me había quedado la espina de 2022 de no conseguir un trofeo, y poder llegar al tercer puesto ahora es sin dudas un sueño cumplido. Me hubiese gustado ser campeón, pero estoy inmensamente feliz”. También entre los destacados en el juego de cartas, tuvimos al argentino campeón de 2017 (también en Hawaii), Diego Cassiraga, quien quedó a un paso otra vez de la gloria, tras un complicado empate en las instancias preliminares que lo relegó en puntos y lo dejó en la puerta de las instancias finales. Así lo analizó Cassiraga tras su paso por Honolulú: “Me sentí bien. Es un formato nuevo de torneo, en el que no se puede ni perder. Acá empatar es como perder, pero jugar Pokémon es adaptarse a los cambios y hay que improvisar”. Además, comentó que se viene toda la nueva temporada: “yo aprovecho que viajo con mi familia. Mi hijo de seis años también juega, y este fue su primer mundial junior, y estuvo cerca de llegar al día 2″ y define: “somos una familia Pokémon. Es nuestro hobby y es parte de nuestras vidas”. Chile también tuvo una gran actuación con Fernando Cifuentes, de 17 años, que se coronó campeón en juegos en el juego de cartas, y se destacó el equipo peruano del juego MOBA en equipo Pokémon Unite, Fusion, quien cayó en una semifinal para el infarto, con un tercer puesto en el global que marcó una de las mejores actuaciones de Latinoamérica en la historia del evento. Pero el Pokémon World Championships no solo tuvo su núcleo en el centro de convenciones, sino que vistió a toda la ciudad de Honolulú con eventos, regalos y actividades desplegados por la costa y los centros importantes, incluido el masivo Pokémon Center, de coleccionables únicos, que agotó por completo su stock en los dos primeros días. En la ceremonia de cierre, con bailes, coronaciones y la presencia de los directivos de la franquicia más rentable del mundo, no solo se anunció que el próximo mundial será en Anaheim, California, sino también que el de 2026 será en San Francisco, dejando sellado así la vuelta del mundial a California.|\n",
      "|Cuándo sale el nuevo capítulo de Fornite                                                                      |https://www.lanacion.com.ar/tecnologia/cuando-sale-el-nuevo-capitulo-de-fornite-nid15082024/                                                           |Ya cada vez falta menos para una nueva edición de Battle Royal en Fortnite. De esa forma, da inicio al quinto capítulo de la cuarta temporada centrado en el universo Marvel. Se llama Alerta: Doom y introducirá nuevos skins ―es decir la piel o apariencia de un personaje dentro de un videojuego―, entre ellos el nuevo antagonista de la saga de superhéroes, Doctor Doom. Así se puede observar en el nuevo tráiler que sacó el videojuego. En él se pueden ver varios personajes que conforman el MCU: Capitán América, Máquina de Guerra, Mysterio, Bananerine, Miaúsculos y más. En ese sentido, muchos de sus fanáticos no pueden esperar a que empiece esta nueva etapa de Fornite, que incluirá un mapa con varias referencias a las películas de Marvel. En ese contexto, los usuarios podrán decidir si quieren defender la isla del Doctor Doom y sus secuaces, o si se quieren convertir en villano y unirse al bando antagonista. En la Argentina, se podrá acceder a este nuevo capítulo de Fortnite a partir de la medianoche del viernes 16 de agosto. Es decir, que se podrá jugar a partir de este jueves a la noche. Por el momento, no se sabe hasta cuándo estará disponible. Cabe aclarar es indispensable terminar toda la temporada 3 del capítulo 5 antes de adentrarse a esta nueva etapa del juego. A su vez, es pertinente descargar el parche 31.00, que estará disponible a partir de las 00 de este viernes en nuestro país. Sin embargo, seguro habrá que esperar a que Epic Games habilite nuevamente los servidores tras generar todos los cambios, que por lo general suelen tardar algunas horas. Cómo ocurre en las distintas etapas del Battle Royal, Fornite ofrece nuevos skins para sus jugadores. En este caso, estarán relacionados al universo Marvel, en tono con el nuevo capítulo. A su vez, podrán adquirir nuevas armas para usar en esta batalla. Estos son los nuevos trajes que se pueden desbloquear en Alerta: Doom: Incluso se permitirá usar el skin del propio Doctor Doom, aunque hay que esperar un tiempo para ello. Este traje estará disponible a través de las misiones del pase de batalla en septiembre.                                                                                                                                                                                                                                                                                                                                                                                                                                                                                                                                                                                                                                                                                                                                                                                                                                                                                                                                                                                                                                                                                                                                                                                                                                                                                                                                                                                                |\n",
      "|Doble vida para la consola portátil Asus ROG Ally: podrá correr SteamOS, como la Steam Deck                   |https://www.lanacion.com.ar/tecnologia/doble-vida-para-la-consola-portatil-asus-rog-ally-podra-correr-steamos-como-la-steam-deck-nid15082024/          |Valve ha confirmado que permitirá que otras compañías y plataformas de videojuegos utilicen el sistema operativo que impulsa su consola Steam Deck, SteamOS, como la que fabrica Asus ROG Ally y otros PC. Steam OS es un SO basado en Linux cuya base parte de Debian 8 y que, hasta ahora, es exclusivo de Steam, de manera que no se podía utilizar en equipos desarrollados por otras marcas. Asus, MSI y Lenovo, entre otras, utilizan el sistema operativo de Microsoft, Windows 11. En los últimos meses, Valve ha reconocido que quería trabajar con otros fabricantes para ofrecerles una alternativa basada en SteamOS, tal y como recuerda The Verge. Esto, de hecho, se advirtió en las últimas notas de lanzamiento del SO, en las que se indicaba la “compatibilidad para teclas ROG Ally adicionales”. Ahora, el diseñador de Valve, Lawrence Yang, ha confirmado a este medio que el sistema operativo en el que se basa la consola Steam Deck también se podrá llevar a otras consolas. Entre ellas, la mencionada, fabricada por Asus. Yang también ha indicado que el equipo de Valve “sigue trabajando para añadir compatibilidad con dispositivos portátiles adicionales en SteamOS”, aunque no ha especificado cuáles. No obstante, The Verge recuerda que esto es solo una alternativa para plataformas más allá de Steam Deck y que no significa que Asus vaya a vender su plataforma con el sistema operativo de esta otra compañía. La firma tecnológica taiwanesa ha indicado a este medio que, entre las razones por los que incorpora Windows en su consola, una de las principales es que Microsoft tiene equipos de validación dedicados que garantizan que su sistema operativo funcione en muchas configuraciones de ‘hardware’ y procesadores diferentes. En cualquier caso, Yang ha adelantado que la firma está “haciendo progresos constantes” y que la que sería su nueva versión de SteamOS “aún no está lista” para su lanzamiento.                                                                                                                                                                                                                                                                                                                                                                                                                                                                                                                                                                                                                                                                                                                                                                                                                                                                                                                                                                                                                                                                                                                                                                                                                                                                                                                                                                                                                                                                                                                                                                                                   |\n",
      "+--------------------------------------------------------------------------------------------------------------+-------------------------------------------------------------------------------------------------------------------------------------------------------+------------------------------------------------------------------------------------------------------------------------------------------------------------------------------------------------------------------------------------------------------------------------------------------------------------------------------------------------------------------------------------------------------------------------------------------------------------------------------------------------------------------------------------------------------------------------------------------------------------------------------------------------------------------------------------------------------------------------------------------------------------------------------------------------------------------------------------------------------------------------------------------------------------------------------------------------------------------------------------------------------------------------------------------------------------------------------------------------------------------------------------------------------------------------------------------------------------------------------------------------------------------------------------------------------------------------------------------------------------------------------------------------------------------------------------------------------------------------------------------------------------------------------------------------------------------------------------------------------------------------------------------------------------------------------------------------------------------------------------------------------------------------------------------------------------------------------------------------------------------------------------------------------------------------------------------------------------------------------------------------------------------------------------------------------------------------------------------------------------------------------------------------------------------------------------------------------------------------------------------------------------------------------------------------------------------------------------------------------------------------------------------------------------------------------------------------------------------------------------------------------------------------------------------------------------------------------------------------------------------------------------------------------------------------------------------------------------------------------------------------------------------------------------------------------------------------------------------------------------------------------------------------------------------------------------------------------------------------------------------------------------------------------------------------------------------------------------------------------------------------------------------------------------------------------------------------------------------------------------------------------------------------------------------------------------------------------------------------------------------------------------------------------------------------------------------------------------------------------------------------------------------------------------------------------------------------------+\n",
      "only showing top 5 rows\n",
      "\n"
     ]
    }
   ],
   "source": [
    "# Mostrar las primeras filas del DataFrame\n",
    "print(\"Primeras filas del DataFrame:\")\n",
    "df.show(5,truncate=False)"
   ]
  },
  {
   "cell_type": "code",
   "execution_count": 5,
   "metadata": {},
   "outputs": [
    {
     "name": "stdout",
     "output_type": "stream",
     "text": [
      "\n",
      "Esquema del DataFrame:\n",
      "root\n",
      " |-- titulo: string (nullable = true)\n",
      " |-- link: string (nullable = true)\n",
      " |-- cuerpo: string (nullable = true)\n",
      "\n"
     ]
    }
   ],
   "source": [
    "# Mostrar el esquema del DataFrame (tipos de datos de cada columna)\n",
    "print(\"\\nEsquema del DataFrame:\")\n",
    "df.printSchema()"
   ]
  },
  {
   "cell_type": "code",
   "execution_count": 6,
   "metadata": {},
   "outputs": [
    {
     "name": "stdout",
     "output_type": "stream",
     "text": [
      "\n",
      "Descripción estadística de las columnas numéricas:\n",
      "+-------+--------------------+--------------------+--------------------+\n",
      "|summary|              titulo|                link|              cuerpo|\n",
      "+-------+--------------------+--------------------+--------------------+\n",
      "|  count|                 401|                 402|                 402|\n",
      "|   mean|                NULL|                NULL|                NULL|\n",
      "| stddev|                NULL|                NULL|                NULL|\n",
      "|    min|21 argentinos com...|https://www.lanac...|\"Activision ha an...|\n",
      "|    max|“Semáforo climber...|https://www.lanac...|“Piensa bien ante...|\n",
      "+-------+--------------------+--------------------+--------------------+\n",
      "\n"
     ]
    }
   ],
   "source": [
    "# Describir las estadísticas básicas\n",
    "print(\"\\nDescripción estadística de las columnas numéricas:\")\n",
    "df.describe().show()\n"
   ]
  },
  {
   "cell_type": "code",
   "execution_count": 7,
   "metadata": {},
   "outputs": [
    {
     "name": "stdout",
     "output_type": "stream",
     "text": [
      "\n",
      "Número de valores nulos por columna:\n",
      "+------+----+------+\n",
      "|titulo|link|cuerpo|\n",
      "+------+----+------+\n",
      "|     1|   0|     0|\n",
      "+------+----+------+\n",
      "\n"
     ]
    }
   ],
   "source": [
    "# Verificar si hay valores nulos\n",
    "print(\"\\nNúmero de valores nulos por columna:\")\n",
    "df.select([F.count(F.when(F.col(c).isNull(), c)).alias(c) for c in df.columns]).show()"
   ]
  },
  {
   "cell_type": "code",
   "execution_count": 8,
   "metadata": {},
   "outputs": [
    {
     "name": "stdout",
     "output_type": "stream",
     "text": [
      "Registros con valores nulos en alguna columna:\n",
      "+------+----------------------------------------------------------------------------------------------------------------------------------------------------------------+-------------------------------------------------------------------------------------------------------------------------------------------------------------------------------------------------------------------------------------------------------------------------------------------------------------------------------------------------------------------------------------------------------------------------------------------------+\n",
      "|titulo|link                                                                                                                                                            |cuerpo                                                                                                                                                                                                                                                                                                                                                                                                                                           |\n",
      "+------+----------------------------------------------------------------------------------------------------------------------------------------------------------------+-------------------------------------------------------------------------------------------------------------------------------------------------------------------------------------------------------------------------------------------------------------------------------------------------------------------------------------------------------------------------------------------------------------------------------------------------+\n",
      "|NULL  |https://www.lanacion.com.ar/deportes/canchallena/fifa-23-el-trailer-oficial-cuando-es-el-lanzamiento-los-nuevos-torneos-y-todo-lo-que-hay-que-saber-nid20072022/|EA Sports presentó el tráiler oficial del FIFA 23, el último bajo este nombre, y se conocieron varios detalles en la antesala del lanzamiento. Por primera vez, el juego estará cruzado con varios detalles relacionados a la expansión del fútbol femenino a nivel global: Sam Kerr estará en la portada del juego, habrá clubes disponibles de dos ligas, tendrá la posibilidad de jugar el Mundial 2023 y sumará nuevos detalles de animación.|\n",
      "+------+----------------------------------------------------------------------------------------------------------------------------------------------------------------+-------------------------------------------------------------------------------------------------------------------------------------------------------------------------------------------------------------------------------------------------------------------------------------------------------------------------------------------------------------------------------------------------------------------------------------------------+\n",
      "\n"
     ]
    }
   ],
   "source": [
    "# Filtrar los registros que tienen valores nulos en alguna columna\n",
    "df_with_nulls = df.filter(F.greatest(*[F.col(c).isNull().cast(\"int\") for c in df.columns]) == 1)\n",
    "\n",
    "# Mostrar los registros con nulos\n",
    "print(\"Registros con valores nulos en alguna columna:\")\n",
    "df_with_nulls.show(truncate=False)"
   ]
  },
  {
   "cell_type": "code",
   "execution_count": 9,
   "metadata": {},
   "outputs": [],
   "source": [
    "# Eliminar los registros que tienen algún valor nulo\n",
    "df_cleaned = df.dropna()"
   ]
  },
  {
   "cell_type": "code",
   "execution_count": 10,
   "metadata": {},
   "outputs": [
    {
     "name": "stdout",
     "output_type": "stream",
     "text": [
      "Registros con valores nulos en alguna columna:\n",
      "+------+----+------+\n",
      "|titulo|link|cuerpo|\n",
      "+------+----+------+\n",
      "+------+----+------+\n",
      "\n"
     ]
    }
   ],
   "source": [
    "# Filtrar los registros que tienen valores nulos en alguna columna\n",
    "df_with_nulls = df_cleaned.filter(F.greatest(*[F.col(c).isNull().cast(\"int\") for c in df_cleaned.columns]) == 1)\n",
    "\n",
    "# Mostrar los registros con nulos\n",
    "print(\"Registros con valores nulos en alguna columna:\")\n",
    "df_with_nulls.show(truncate=False)"
   ]
  },
  {
   "cell_type": "code",
   "execution_count": 11,
   "metadata": {},
   "outputs": [
    {
     "name": "stdout",
     "output_type": "stream",
     "text": [
      "Primeras filas con puntuación de sentimiento:\n"
     ]
    },
    {
     "name": "stderr",
     "output_type": "stream",
     "text": [
      "[Stage 14:>                                                         (0 + 1) / 1]\r"
     ]
    },
    {
     "name": "stdout",
     "output_type": "stream",
     "text": [
      "+--------------------+--------------------+--------------------+--------------------+\n",
      "|              titulo|                link|              cuerpo|           sentiment|\n",
      "+--------------------+--------------------+--------------------+--------------------+\n",
      "|Gamescom 2024: vu...|https://www.lanac...|Borderlands 4 el ...|-0.00432900432900...|\n",
      "|Un juego chino ro...|https://www.lanac...|Cuatro años esper...|-0.14642857142857144|\n",
      "|En el Mundial de ...|https://www.lanac...|En un evento masi...|0.022222222222222216|\n",
      "+--------------------+--------------------+--------------------+--------------------+\n",
      "only showing top 3 rows\n",
      "\n"
     ]
    },
    {
     "name": "stderr",
     "output_type": "stream",
     "text": [
      "                                                                                \r"
     ]
    }
   ],
   "source": [
    "# Definir una función para calcular el sentimiento usando TextBlob\n",
    "def get_sentiment(text):\n",
    "    if text is None:\n",
    "        return None\n",
    "    return TextBlob(text).sentiment.polarity\n",
    "\n",
    "# Registrar la función como una UDF (User Defined Function)\n",
    "sentiment_udf = F.udf(get_sentiment)\n",
    "\n",
    "# Crear la columna 'sentiment' basada en el cuerpo de la noticia\n",
    "df_with_sentiment = df.withColumn(\"sentiment\", sentiment_udf(F.col(\"cuerpo\")))\n",
    "\n",
    "# Mostrar algunas filas con la nueva columna de sentimiento\n",
    "print(\"Primeras filas con puntuación de sentimiento:\")\n",
    "df_with_sentiment.show(3)"
   ]
  },
  {
   "cell_type": "code",
   "execution_count": 14,
   "metadata": {},
   "outputs": [
    {
     "name": "stderr",
     "output_type": "stream",
     "text": [
      "                                                                                \r"
     ]
    }
   ],
   "source": [
    "df_with_sentiment.write.mode(\"overwrite\").csv(\"../data/processed/news.csv\", header=True)"
   ]
  },
  {
   "cell_type": "code",
   "execution_count": 15,
   "metadata": {},
   "outputs": [
    {
     "ename": "AnalysisException",
     "evalue": "[UNRESOLVED_COLUMN.WITH_SUGGESTION] A column or function parameter with name `fecha_column_name` cannot be resolved. Did you mean one of the following? [`cuerpo`, `link`, `sentiment`, `titulo`].;\n'Project [titulo#17, link#18, cuerpo#19, sentiment#340, to_date('fecha_column_name, Some(yyyy-MM-dd), Some(America/Argentina/Buenos_Aires), false) AS fecha#407]\n+- Project [titulo#17, link#18, cuerpo#19, get_sentiment(cuerpo#19)#339 AS sentiment#340]\n   +- Relation [titulo#17,link#18,cuerpo#19] csv\n",
     "output_type": "error",
     "traceback": [
      "\u001b[0;31m---------------------------------------------------------------------------\u001b[0m",
      "\u001b[0;31mAnalysisException\u001b[0m                         Traceback (most recent call last)",
      "Cell \u001b[0;32mIn[15], line 6\u001b[0m\n\u001b[1;32m      1\u001b[0m \u001b[38;5;28;01mimport\u001b[39;00m \u001b[38;5;21;01mseaborn\u001b[39;00m \u001b[38;5;28;01mas\u001b[39;00m \u001b[38;5;21;01msns\u001b[39;00m\n\u001b[1;32m      3\u001b[0m \u001b[38;5;66;03m# Asumiendo que df_with_sentiment ya está definido y contiene los datos más recientes\u001b[39;00m\n\u001b[1;32m      4\u001b[0m \n\u001b[1;32m      5\u001b[0m \u001b[38;5;66;03m# Paso 1: Monitoreo de Sentimiento por Fecha\u001b[39;00m\n\u001b[0;32m----> 6\u001b[0m df_with_sentiment \u001b[38;5;241m=\u001b[39m \u001b[43mdf_with_sentiment\u001b[49m\u001b[38;5;241;43m.\u001b[39;49m\u001b[43mwithColumn\u001b[49m\u001b[43m(\u001b[49m\u001b[38;5;124;43m'\u001b[39;49m\u001b[38;5;124;43mfecha\u001b[39;49m\u001b[38;5;124;43m'\u001b[39;49m\u001b[43m,\u001b[49m\u001b[43m \u001b[49m\u001b[43mF\u001b[49m\u001b[38;5;241;43m.\u001b[39;49m\u001b[43mto_date\u001b[49m\u001b[43m(\u001b[49m\u001b[43mF\u001b[49m\u001b[38;5;241;43m.\u001b[39;49m\u001b[43mcol\u001b[49m\u001b[43m(\u001b[49m\u001b[38;5;124;43m'\u001b[39;49m\u001b[38;5;124;43mfecha_column_name\u001b[39;49m\u001b[38;5;124;43m'\u001b[39;49m\u001b[43m)\u001b[49m\u001b[43m,\u001b[49m\u001b[43m \u001b[49m\u001b[38;5;124;43m'\u001b[39;49m\u001b[38;5;124;43myyyy-MM-dd\u001b[39;49m\u001b[38;5;124;43m'\u001b[39;49m\u001b[43m)\u001b[49m\u001b[43m)\u001b[49m\n\u001b[1;32m      7\u001b[0m sentiment_by_date \u001b[38;5;241m=\u001b[39m df_with_sentiment\u001b[38;5;241m.\u001b[39mgroupBy(\u001b[38;5;124m'\u001b[39m\u001b[38;5;124mfecha\u001b[39m\u001b[38;5;124m'\u001b[39m)\u001b[38;5;241m.\u001b[39magg(F\u001b[38;5;241m.\u001b[39mavg(\u001b[38;5;124m'\u001b[39m\u001b[38;5;124msentiment\u001b[39m\u001b[38;5;124m'\u001b[39m)\u001b[38;5;241m.\u001b[39malias(\u001b[38;5;124m'\u001b[39m\u001b[38;5;124mavg_sentiment\u001b[39m\u001b[38;5;124m'\u001b[39m))\u001b[38;5;241m.\u001b[39morderBy(\u001b[38;5;124m'\u001b[39m\u001b[38;5;124mfecha\u001b[39m\u001b[38;5;124m'\u001b[39m)\n\u001b[1;32m      8\u001b[0m sentiment_pd \u001b[38;5;241m=\u001b[39m sentiment_by_date\u001b[38;5;241m.\u001b[39mtoPandas()\n",
      "File \u001b[0;32m~/.local/lib/python3.12/site-packages/pyspark/sql/dataframe.py:5174\u001b[0m, in \u001b[0;36mDataFrame.withColumn\u001b[0;34m(self, colName, col)\u001b[0m\n\u001b[1;32m   5169\u001b[0m \u001b[38;5;28;01mif\u001b[39;00m \u001b[38;5;129;01mnot\u001b[39;00m \u001b[38;5;28misinstance\u001b[39m(col, Column):\n\u001b[1;32m   5170\u001b[0m     \u001b[38;5;28;01mraise\u001b[39;00m PySparkTypeError(\n\u001b[1;32m   5171\u001b[0m         error_class\u001b[38;5;241m=\u001b[39m\u001b[38;5;124m\"\u001b[39m\u001b[38;5;124mNOT_COLUMN\u001b[39m\u001b[38;5;124m\"\u001b[39m,\n\u001b[1;32m   5172\u001b[0m         message_parameters\u001b[38;5;241m=\u001b[39m{\u001b[38;5;124m\"\u001b[39m\u001b[38;5;124marg_name\u001b[39m\u001b[38;5;124m\"\u001b[39m: \u001b[38;5;124m\"\u001b[39m\u001b[38;5;124mcol\u001b[39m\u001b[38;5;124m\"\u001b[39m, \u001b[38;5;124m\"\u001b[39m\u001b[38;5;124marg_type\u001b[39m\u001b[38;5;124m\"\u001b[39m: \u001b[38;5;28mtype\u001b[39m(col)\u001b[38;5;241m.\u001b[39m\u001b[38;5;18m__name__\u001b[39m},\n\u001b[1;32m   5173\u001b[0m     )\n\u001b[0;32m-> 5174\u001b[0m \u001b[38;5;28;01mreturn\u001b[39;00m DataFrame(\u001b[38;5;28;43mself\u001b[39;49m\u001b[38;5;241;43m.\u001b[39;49m\u001b[43m_jdf\u001b[49m\u001b[38;5;241;43m.\u001b[39;49m\u001b[43mwithColumn\u001b[49m\u001b[43m(\u001b[49m\u001b[43mcolName\u001b[49m\u001b[43m,\u001b[49m\u001b[43m \u001b[49m\u001b[43mcol\u001b[49m\u001b[38;5;241;43m.\u001b[39;49m\u001b[43m_jc\u001b[49m\u001b[43m)\u001b[49m, \u001b[38;5;28mself\u001b[39m\u001b[38;5;241m.\u001b[39msparkSession)\n",
      "File \u001b[0;32m~/.local/lib/python3.12/site-packages/py4j/java_gateway.py:1322\u001b[0m, in \u001b[0;36mJavaMember.__call__\u001b[0;34m(self, *args)\u001b[0m\n\u001b[1;32m   1316\u001b[0m command \u001b[38;5;241m=\u001b[39m proto\u001b[38;5;241m.\u001b[39mCALL_COMMAND_NAME \u001b[38;5;241m+\u001b[39m\\\n\u001b[1;32m   1317\u001b[0m     \u001b[38;5;28mself\u001b[39m\u001b[38;5;241m.\u001b[39mcommand_header \u001b[38;5;241m+\u001b[39m\\\n\u001b[1;32m   1318\u001b[0m     args_command \u001b[38;5;241m+\u001b[39m\\\n\u001b[1;32m   1319\u001b[0m     proto\u001b[38;5;241m.\u001b[39mEND_COMMAND_PART\n\u001b[1;32m   1321\u001b[0m answer \u001b[38;5;241m=\u001b[39m \u001b[38;5;28mself\u001b[39m\u001b[38;5;241m.\u001b[39mgateway_client\u001b[38;5;241m.\u001b[39msend_command(command)\n\u001b[0;32m-> 1322\u001b[0m return_value \u001b[38;5;241m=\u001b[39m \u001b[43mget_return_value\u001b[49m\u001b[43m(\u001b[49m\n\u001b[1;32m   1323\u001b[0m \u001b[43m    \u001b[49m\u001b[43manswer\u001b[49m\u001b[43m,\u001b[49m\u001b[43m \u001b[49m\u001b[38;5;28;43mself\u001b[39;49m\u001b[38;5;241;43m.\u001b[39;49m\u001b[43mgateway_client\u001b[49m\u001b[43m,\u001b[49m\u001b[43m \u001b[49m\u001b[38;5;28;43mself\u001b[39;49m\u001b[38;5;241;43m.\u001b[39;49m\u001b[43mtarget_id\u001b[49m\u001b[43m,\u001b[49m\u001b[43m \u001b[49m\u001b[38;5;28;43mself\u001b[39;49m\u001b[38;5;241;43m.\u001b[39;49m\u001b[43mname\u001b[49m\u001b[43m)\u001b[49m\n\u001b[1;32m   1325\u001b[0m \u001b[38;5;28;01mfor\u001b[39;00m temp_arg \u001b[38;5;129;01min\u001b[39;00m temp_args:\n\u001b[1;32m   1326\u001b[0m     \u001b[38;5;28;01mif\u001b[39;00m \u001b[38;5;28mhasattr\u001b[39m(temp_arg, \u001b[38;5;124m\"\u001b[39m\u001b[38;5;124m_detach\u001b[39m\u001b[38;5;124m\"\u001b[39m):\n",
      "File \u001b[0;32m~/.local/lib/python3.12/site-packages/pyspark/errors/exceptions/captured.py:185\u001b[0m, in \u001b[0;36mcapture_sql_exception.<locals>.deco\u001b[0;34m(*a, **kw)\u001b[0m\n\u001b[1;32m    181\u001b[0m converted \u001b[38;5;241m=\u001b[39m convert_exception(e\u001b[38;5;241m.\u001b[39mjava_exception)\n\u001b[1;32m    182\u001b[0m \u001b[38;5;28;01mif\u001b[39;00m \u001b[38;5;129;01mnot\u001b[39;00m \u001b[38;5;28misinstance\u001b[39m(converted, UnknownException):\n\u001b[1;32m    183\u001b[0m     \u001b[38;5;66;03m# Hide where the exception came from that shows a non-Pythonic\u001b[39;00m\n\u001b[1;32m    184\u001b[0m     \u001b[38;5;66;03m# JVM exception message.\u001b[39;00m\n\u001b[0;32m--> 185\u001b[0m     \u001b[38;5;28;01mraise\u001b[39;00m converted \u001b[38;5;28;01mfrom\u001b[39;00m \u001b[38;5;28;01mNone\u001b[39;00m\n\u001b[1;32m    186\u001b[0m \u001b[38;5;28;01melse\u001b[39;00m:\n\u001b[1;32m    187\u001b[0m     \u001b[38;5;28;01mraise\u001b[39;00m\n",
      "\u001b[0;31mAnalysisException\u001b[0m: [UNRESOLVED_COLUMN.WITH_SUGGESTION] A column or function parameter with name `fecha_column_name` cannot be resolved. Did you mean one of the following? [`cuerpo`, `link`, `sentiment`, `titulo`].;\n'Project [titulo#17, link#18, cuerpo#19, sentiment#340, to_date('fecha_column_name, Some(yyyy-MM-dd), Some(America/Argentina/Buenos_Aires), false) AS fecha#407]\n+- Project [titulo#17, link#18, cuerpo#19, get_sentiment(cuerpo#19)#339 AS sentiment#340]\n   +- Relation [titulo#17,link#18,cuerpo#19] csv\n"
     ]
    }
   ],
   "source": [
    "import seaborn as sns\n",
    "\n",
    "# Asumiendo que df_with_sentiment ya está definido y contiene los datos más recientes\n",
    "\n",
    "# Paso 1: Monitoreo de Sentimiento por Fecha\n",
    "df_with_sentiment = df_with_sentiment.withColumn('fecha', F.to_date(F.col('fecha_column_name'), 'yyyy-MM-dd'))\n",
    "sentiment_by_date = df_with_sentiment.groupBy('fecha').agg(F.avg('sentiment').alias('avg_sentiment')).orderBy('fecha')\n",
    "sentiment_pd = sentiment_by_date.toPandas()\n",
    "sentiment_pd = sentiment_pd.sort_values('fecha')\n",
    "\n",
    "# Visualización\n",
    "plt.figure(figsize=(14, 7))\n",
    "sns.lineplot(data=sentiment_pd, x='fecha', y='avg_sentiment', marker='o')\n",
    "plt.title('Evolución del Sentimiento Promedio de Noticias de Videojuegos')\n",
    "plt.xlabel('Fecha')\n",
    "plt.ylabel('Sentimiento Promedio')\n",
    "plt.xticks(rotation=45)\n",
    "plt.tight_layout()\n",
    "plt.savefig('sentiment_trend.png')  # Guarda la gráfica como una imagen\n",
    "plt.close()\n",
    "\n",
    "# Paso 10: Sistema de Alerta\n",
    "threshold = 0.2\n",
    "sentiment_pd['sentiment_change'] = sentiment_pd['avg_sentiment'].diff()\n",
    "latest_change = sentiment_pd.iloc[-1]['sentiment_change']\n",
    "latest_date = sentiment_pd.iloc[-1]['fecha']\n",
    "\n",
    "if latest_change <= -threshold:\n",
    "    print(f\"ALERTA: El sentimiento promedio cayó {abs(latest_change):.2f} puntos el día {latest_date}.\")\n",
    "    # Aquí podrías añadir código para enviar un correo electrónico o una notificación\n",
    "else:\n",
    "    print(f\"El sentimiento promedio está estable el día {latest_date}.\")\n"
   ]
  }
 ],
 "metadata": {
  "kernelspec": {
   "display_name": "Python 3",
   "language": "python",
   "name": "python3"
  },
  "language_info": {
   "codemirror_mode": {
    "name": "ipython",
    "version": 3
   },
   "file_extension": ".py",
   "mimetype": "text/x-python",
   "name": "python",
   "nbconvert_exporter": "python",
   "pygments_lexer": "ipython3",
   "version": "3.12.3"
  }
 },
 "nbformat": 4,
 "nbformat_minor": 2
}
