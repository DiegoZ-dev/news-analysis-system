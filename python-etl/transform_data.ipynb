{
 "cells": [
  {
   "cell_type": "code",
   "execution_count": 138,
   "metadata": {},
   "outputs": [],
   "source": [
    "from pyspark.sql import SparkSession\n",
    "from pyspark.sql import functions as F\n",
    "from textblob import TextBlob\n"
   ]
  },
  {
   "cell_type": "code",
   "execution_count": 139,
   "metadata": {},
   "outputs": [],
   "source": [
    "# Crear una sesión de Spark\n",
    "spark = SparkSession.builder.appName(\"NewsDataInspection\").getOrCreate()\n",
    "\n",
    "# Cargar el archivo CSV\n",
    "file_path = '../data/raw/news.csv'\n",
    "df = spark.read.csv(file_path, header=True, inferSchema=True)"
   ]
  },
  {
   "cell_type": "code",
   "execution_count": 140,
   "metadata": {},
   "outputs": [
    {
     "name": "stdout",
     "output_type": "stream",
     "text": [
      "\n",
      "Dimensiones del DataFrame: 1919 filas, 4 columnas\n"
     ]
    }
   ],
   "source": [
    "# Contar el número de filas y columnas\n",
    "num_rows = df.count()\n",
    "num_cols = len(df.columns)\n",
    "print(f\"\\nDimensiones del DataFrame: {num_rows} filas, {num_cols} columnas\")"
   ]
  },
  {
   "cell_type": "code",
   "execution_count": 141,
   "metadata": {},
   "outputs": [
    {
     "name": "stdout",
     "output_type": "stream",
     "text": [
      "Primeras filas del DataFrame:\n",
      "+------------------------------------------------------------------------------------------------------------------+----------+-------------------------------------------------------------------------------------------------------------------------------------------------------+-----------------------------------------------------------------------------------------------------------------------------------------------------------------------------------------------------------------------------------------------------------------------------------------------------------------------------------------------------------------------------------------------------------------------------------------------------------------------------------------------------------------------------------------------------------------------------------------------------------------------------------------------------------------------------------------------------------------------------------------------------------------------------------------------------------------------------------------------------------------------------------------------------------------------------------------------------------------------------------------------------------------------------------------------------------------------------------------------------------------------------------------------------------------------------------------------------------------------------------------------------------------------------------------------------------------------------------------------------------------------------------------------------------------------------------------------------------------------------------------------------------------------------------------------------------------------------------------------------------------------------------------------------------------------------------------------------------------------------------------------------------------------------------------------------------------------------------------------------------------------------------------------------------------------------------------------------------------------------------------------------------------------------------------------------------------------------------------------------------------------------------------------------------------------------------------------------------------------------------------------------------------------------------------------------------------------------------------------------------------------------------------------------------------------------------------------------------------------------------------------------------------------------------------------------------------------------------------------------------------------------------------------------------------------------------------------------------------------------------------------------------------------------------------------------------------------------------------------------------------------------------------------------------------------------------------------------------------------------------------------------------------------------------------------------------------------------------------------------------------------------------------------------------------------------------------------------------------------------------------------------------------------------------------------------------------------------------------------------------------------------------------------------------------------------------------------------------------------------------------------------------------------------------------------------------------------------------------------------------------------------------------------------------------------------------------------------------------------------------------------------------------------------------------------------------------------------------------------------------------------------------------------------------------------------------------------------------------------------------------------------------------------------------------------------------------------------------------------------------------------------------------------------------------------------------------------------------------------------------------------------------------------------------------------------------------------------------------------------------------------------------------------------------------------------------------------------------------------------------------------------------------------------------------------------------------------------------------------------------------------------------------------------------------------------------------------------------------------------------------------------------------------------------------------------------------------------------------------------------------------------------------------------------------------------------------------------------------------------------------------------------------------------------------------------------------------------------------------------------------------------------------------------------------------------------------------------------------------------------------------------------------------------------------------------------------------------------------------------------------------------------------------------------------------------------------------------------------------------------------------------------------------------+\n",
      "|titulo                                                                                                            |fecha     |link                                                                                                                                                   |cuerpo                                                                                                                                                                                                                                                                                                                                                                                                                                                                                                                                                                                                                                                                                                                                                                                                                                                                                                                                                                                                                                                                                                                                                                                                                                                                                                                                                                                                                                                                                                                                                                                                                                                                                                                                                                                                                                                                                                                                                                                                                                                                                                                                                                                                                                                                                                                                                                                                                                                                                                                                                                                                                                                                                                                                                                                                                                                                                                                                                                                                                                                                                                                                                                                                                                                                                                                                                                                                                                                                                                                                                                                                                                                                                                                                                                                                                                                                                                                                                                                                                                                                                                                                                                                                                                                                                                                                                                                                                                                                                                                                                                                                                                                                                                                                                                                                                                                                                                                                                                                                                                                                                                                                                                                                                                                                                                                                                                                                                                                                                                                       |\n",
      "+------------------------------------------------------------------------------------------------------------------+----------+-------------------------------------------------------------------------------------------------------------------------------------------------------+-----------------------------------------------------------------------------------------------------------------------------------------------------------------------------------------------------------------------------------------------------------------------------------------------------------------------------------------------------------------------------------------------------------------------------------------------------------------------------------------------------------------------------------------------------------------------------------------------------------------------------------------------------------------------------------------------------------------------------------------------------------------------------------------------------------------------------------------------------------------------------------------------------------------------------------------------------------------------------------------------------------------------------------------------------------------------------------------------------------------------------------------------------------------------------------------------------------------------------------------------------------------------------------------------------------------------------------------------------------------------------------------------------------------------------------------------------------------------------------------------------------------------------------------------------------------------------------------------------------------------------------------------------------------------------------------------------------------------------------------------------------------------------------------------------------------------------------------------------------------------------------------------------------------------------------------------------------------------------------------------------------------------------------------------------------------------------------------------------------------------------------------------------------------------------------------------------------------------------------------------------------------------------------------------------------------------------------------------------------------------------------------------------------------------------------------------------------------------------------------------------------------------------------------------------------------------------------------------------------------------------------------------------------------------------------------------------------------------------------------------------------------------------------------------------------------------------------------------------------------------------------------------------------------------------------------------------------------------------------------------------------------------------------------------------------------------------------------------------------------------------------------------------------------------------------------------------------------------------------------------------------------------------------------------------------------------------------------------------------------------------------------------------------------------------------------------------------------------------------------------------------------------------------------------------------------------------------------------------------------------------------------------------------------------------------------------------------------------------------------------------------------------------------------------------------------------------------------------------------------------------------------------------------------------------------------------------------------------------------------------------------------------------------------------------------------------------------------------------------------------------------------------------------------------------------------------------------------------------------------------------------------------------------------------------------------------------------------------------------------------------------------------------------------------------------------------------------------------------------------------------------------------------------------------------------------------------------------------------------------------------------------------------------------------------------------------------------------------------------------------------------------------------------------------------------------------------------------------------------------------------------------------------------------------------------------------------------------------------------------------------------------------------------------------------------------------------------------------------------------------------------------------------------------------------------------------------------------------------------------------------------------------------------------------------------------------------------------------------------------------------------------------------------------------------------------------------------------------------------------------------------------------------+\n",
      "|Día del Gamer 2024: el rol fundamental de Globant en varios de los juegos más importantes de los últimos años     |2024-08-29|https://www.lanacion.com.ar/tecnologia/dia-del-gamer-2024-el-rol-fundamental-de-globant-en-varios-de-los-juegos-mas-importantes-de-los-nid29082024/    |Este 29 de agosto se celebra, como todos los años desde 2008, el Día del Gamer, un homenaje a los más de 3000 millones de personas juegan en línea o usando consolas en sus hogares en todo el mundo, según el informe 2023 de Playing for the Planet, el programa ambiental de Naciones Unidas para los videojuegos. ¿Y por qué esta fecha? Por la decisión (arbitraria, pero entusiasta) del staff de tres revistas españolas de videojuegos: PlayManía, Hobby Consolas y PC Manía. Fue de allí de donde salió la idea de elegir un día para celebrar el vasto mundo de los videojuegos, que ya tiene más de 60 años de historia, una gigantesca comunidad de usuarios, y una industria global detrás dedicada, día tras día, a abastecer a los gamers de nuevo contenido. En esa cadena global hay un gigante argentino que ha tenido en la última década un papel fundamental en el desarrollo de muchos de los videojuegos más icónicos de esta época, como lo son Fortnite, FIFA 2022, Far Cry 6, Rocksmith, NHL 2022, State of Decay 2 y Dauntless. Se trata de Globant, el unicornio argentino nacido en 2003, con una fuerte impronta tecnológica y más bajo perfil que otros de sus congéneres, pero con un vínculo fuertísimo con los videojuegos, incluyendo tener desde febrero de este año su propio equipo de esports, tras asociarse con 9z Team para hacer 9zGlobant, y que por estos días es noticia por ser una de las compañías que viene acompañando la carrera del argentino Franco Colapinto, el flamante piloto de Fórmula 1. La compañía aprovechó el Día del Gamer para mostrar un poco de su rol como desarrollador de software en algunos de los títulos más importantes de los últimos años. La compañía entró en el mundo del gaming en 2007, con un equipo de cinco personas, dedicadas a hacer testing de videojuegos, una tarea inusual por entonces para una compañía latinoamericana. Desde entonces participó en proyectos como Fortnite (Epic Games), Grand Theft Auto V (Rockstar Games), Far Cry 6 (Ubisoft), y FIFA 2022 (EA Sports), entre otros. “Durante la última década, Globant ha incorporado nuevas disciplinas, como el arte 2D y 3D, y el desarrollo de experiencias de usuario (UX/UI), consolidando su liderazgo en el sector -explican desde la compañía-. Hoy son más de 1000 profesionales los que trabajan en proyectos que abarcan desde juegos móviles hasta títulos AAA [como se denomina a los videojuegos de mayor presupuesto y complejidad]. Y hoy es un actor clave en la producción de videojuegos de renombre mundial.” En el caso de Fortnite, por ejemplo, participó durante más de dos años (en un total de 8 temporadas) en el diseño de la interfaz de usuario, en la optimización de los motores gráficos (Unreal Engine 4, Unreal Engine 5), en la construcción del andamiaje de los servicios en línea (eventos, torneos, tableros de posiciones). Para el FIFA 22, Globant se encargó de rediseñar la interfaz para que funcione en la Nintendo Switch, entre otras cosas; en total fueron 3 años de trabajo, según la compañía. En lo que refiere al Far Cry 6, en Globant explican que comenzaron a trabajar con Ubisoft en 2016 y lo siguieron haciendo durante cinco años; se encargaron de optimizar los motores gráficos del juego, su interfaz, la integración con Stadia (el fenecido servicio de streaming de videojuegos de Google) y con servicios de realidad virtual, entre otras cosas. También han trabajado más de cuatro años ampliando el alcance de Rocksmith, el juego para aprender a tocar la guitarra; crearon nuevas funciones a pedido para el State of Decay 2, y se encargaron de pulir el motor de juego y llevar el Dauntless a varias plataformas. También se encargaron de migrar el NHL 2022 a varias consolas y motores gráficos. “La creación de un videojuego requiere una amplia variedad de perfiles especializados. En las primeras etapas, destacan roles como el de Game Designer y Arquitecto, quienes establecen las bases conceptuales y técnicas del juego. A continuación, Artistas y Desarrolladores dan vida a esa visión inicial, convirtiéndola en un producto funcional. Los Testers, aunque participan a lo largo de todo el proceso, adquieren mayor importancia en las etapas finales, asegurando que el juego esté listo para su lanzamiento al mercado. Una vez lanzado el juego, los analistas de datos desempeñan un papel fundamental para mantener su relevancia y éxito en el tiempo. El rol que une a todos estos perfiles y facilita que una idea inicial se transforme en un juego exitoso es el del Producer, quien supervisa y coordina cada etapa del desarrollo”, explican desde la compañía. “Estuvimos detrás del desarrollo del FIFA 22, el juego de la Play, así como estamos detrás de muchos otros juegos. Si uno va a Disney y usa la Magic Band [la pulsera intransferible que sirve como entrada a los parques, acceso al hotel y medio de pago], nosotros estamos detrás. También hicimos la aplicación de LinkedIn, los home banking de muchos bancos internacionales, como el Open Bank y el JP Morgan, la página de internet de la policía Metropolitana de Londres y el sistema de información del transporte público de Nueva York, entre muchísimas otras cosas”, enumeraba hace unos años Martín Migoya, el CEO de Globant, en una entrevista con LA NACION, sobre el papel no siempre visible a primera vista que tiene la compañía en el mundo del software.|\n",
      "|Star Wars Outlaws: probamos antes de su debut el nuevo juego, que nos mete de lleno en el universo de George Lucas|2024-08-27|https://www.lanacion.com.ar/tecnologia/star-wars-outlaws-probamos-antes-de-su-debut-el-nuevo-juego-que-nos-mete-de-lleno-en-el-universo-de-nid27082024/|Mucho se habló de este juego, el Star Wars Outlaws. Que si iba a ser un Assassin’s Creed con skin de Star Wars, que si iba a ser repetitivo, que si se iba a ver tan bien como en los trailers y que si realmente nos iba a hacer sentir dentro del universo de George Lucas como nunca antes. Todas estas respuestas se pueden responder total o parcialmente, dado que pudimos jugar ya varias horas a este título de Ubisoft que llega para PC, Xbox Series y para PS5 (versión que jugamos) y que verá la luz el próximo 30 de agosto. Lo primero que hay que aclarar es que este juego en tercera persona nos va a poner en la piel de Kay, junto a su peludito amigo Nix y su androide ND-5, justo entremedio de las películas El Imperio contraataca y El regreso del Jedi, por lo que vamos a ver mucha referencia nostálgica para los fanáticos de la trilogía original. Sí, antes de que lo digas, hay bastantes similitudes entre Han Solo y Kay, por lo que la historia también va a tener algunas inspiraciones. Si venís de jugar otros juegos de Ubi, claramente vas a ver una tendencia en como se cuentan las historias y su jugabilidad, la fórmula Assassin´s por momentos se siente presente, pero esto no significa algo malo… o bueno. Depende de quién lo juegue. Vamos a encontrar disparos (en este caso con blasters), mucho sigilo, espionaje, acción, exploración, en este caso con vehículos y naves, y todas la cosas que nos acostumbra casi siempre Ubisoft en sus juegos: a pesar de no ser un clásico mundo abierto, que en lo personal tuvo altísimos picos con por ejemplo Assassin’s Creed Valhalla, y que tuvo otros puntos flojos dentro de la misma estructura de mundo abierto. Con visuales muy buenas en modo 4K 30 fps y un poquito más flojas en la versión 1080p a 60 fps, acá no vamos a estar simplemente en un sandbox. Primero vamos a tener varias misiones de “pasillos”, con acción y sigilo que nos van a enseñar a movernos, a atacar y a usar a nuestro compañero para robar y distraer a los rivales. Una vez que comprendemos como funciona el juego, como son las facciones con las que podemos trabajar y las que no, el juego se abre a algo más tradicional. Pero lo que le da una sensación de libertad, es que Outlaws tiene además sistemas de reputación y de “buscado” por lo que vamos a tener que elegir qué hacer o con quién trabajar y va a repercutir en el acceso que tengamos a misiones, ítems y ayuda, mientras que por otro lado nos vamos a ganar amigos o enemigos dependiendo el planeta y la zona en la que estemos. Hay que aclarar que en esta época de Star Wars, el Imperio es omnipresente, y tiene negocios y acuerdos con las facciones, pero esto no implica en que si nos convertimos en “buscados”, los Stormtroopers nos tirarán al vernos. Dicho esto, también vale destacar que no tiene una acción y una inteligencia artificial administrando el mundo secundario que rodea a la trama, como en otros juegos como Far Cry, GTA o ni hablar como Shadow of Mordor. En nuestro caso, las primeras horas de juego (donde es totalmente lineal) no nos resultaron “excelentes” por la poca capacidad de decisión que nos daba el juego, pero sí cabe aclarar que la historia está muy bien contada y se hace interesante. No cae en los lugares comunes de Star Wars, con jedis y los buenos contra malos. Acá encarnamos a una mujer que quiere dar un salto de calidad en su vida de ladrona común, y se empieza a mezclar con personajes que están claramente por encima de su nivel. Ojo, no vamos a spoilear nada, pero tampoco creas que no vas a ver nada de referencia a lo que George Lucas nos contó en sus films. Una vez que se abre a un mundo más abierto y explorable, el juego nos empieza a dar variadas situaciones divertidas que van a mezclar varios tipos de juegos. Persecuciones en motos voladoras, enfrentamientos a tiros, sigilo y espionaje, o también aventura clásica de trepar paredes y saltar al otro lado con un gancho a lo Uncharted o Lara Croft. Los combates nos resultaron divertidos a pesar de la poca variedad de armas. El uso de compañeros, como Nix, también suma mucho. Vamos a poder mandar a nuestro amigo a recoger cosas, distraer enemigos o robar objetos sin tener que exponernos y podremos mantenernos escondidos mientras él hace su trabajo. Outlaws se siente como un buen comienzo para este tipo de juegos con historias periféricas a lo central de Star Wars. Así como lo hizo Mandalorian (hasta el cameo final de la primera temporada), esta saga tiene muchísimo por explorar por fuera de los Jedi, Luke y Leia, y en este juego esa parte de la historia se disfruta. Si bien no lo sentimos al nivel de exploración y de mundo abierto como fue nuestro querido Assassin´s Creed Valhalla, es sin dudas un juego divertido, tanto para los amantes de las aventuras como de los que soñaron ser bandidos espaciales.                                                                                                                                                                                                                                                                                                                                                                                                                                                                                                                                    |\n",
      "|Gamescom 2024: vuelve Indiana Jones en una nueva aventura y llega Borderlands 4                                   |2024-08-21|https://www.lanacion.com.ar/tecnologia/gamescom-2024-vuelve-indiana-jones-en-una-nueva-aventura-y-llega-borderlands-4-nid21082024/                     |Borderlands 4 el próximo año, pero antes, el 9 de diciembre lo hará Indiana Jones y el Gran Círculo, como se ha conocido en la ceremonia inaugural de la feria de videojuegos Gamescom, que se ha celebrado este martes por la noche. Firmas del sector como 2K y Xbox, y otras más recientes como Netflix y Amazon, han compartido algunas novedades de sus títulos durante la Gamescom Opening Night Live, presentada por el periodista especializado Geoff Keighley. 2K ha anunciado una nueva entrega de Borderlands, el cuarto título principal y séptimo de la franquicia. Estará disponible el próximo año para PlayStation 5, Xbox Series X|S y PC a través de Steam y Epic Games Store. El juego de estrategia Sid Meier’s Civilization VII estará disponible en todo el mundo el 11 de febrero, con soporte para juego cruzado y progresión cruzada, en PlayStation 4 y 5, Xbox Series X|S, Xbox One, Nintendo Switch y PC a través de Steam y Epic Games Store. Este título tiene como narradora a la actriz Gwendoline Christie e incorpora características como las Eras y la posibilidad de seleccionar líderes y civilizaciones de forma independiente para mezclar y combinar bonificaciones de partida. Mafia: The Old Country (2025) llevará a los jugadores al inframundo de la Sicilia de los años 1900, con una historia que permitirá descubrir los orígenes del crimen organizado. Llegará a PlayStation 5, Xbox Series X|S y PC a través de Steam. Xbox, por su parte, ha confirmado la fecha de lanzamiento de Indiana Jones y el Gran Círculo, que llegará primero a Xbox Series X|S y PC el 9 de diciembre, y en primavera del próximo año a PlayStation 5. La firma tecnológica también ha mostrado trailers de Age of Mythology: Retold (4 septiembre), la misión de campaña ‘Los más buscados’ de Call of Duty: Black Ops 6 (25 de octubre), Ara: History Untold (24 septiembre), Towerborne (acceso anticipado 10 de septiembre). Asimismo, ha compartido nuevos contenidos que llegan a sus principales franquicias. Es el caso de The War Within, que introducirá el 26 de agosto en World of Warcraft la saga The Worldsoul, considerada por Blizzard como “el arco argumental más ambicioso en la historia de WoW”. Starfield, por su parte, se ampliará con la expansión Shattered Space (30 septiembre), con la que se visitará el mundo natal de la Casa Va’ruun, mientras que Diablo IV recibirá el 8 de octubre Vessel of Hatred, una expansión que introduce los mercenarios. Otros títulos anunciados con Masters of Albion, del estudio de desarrollo 22cans; Squid Game, de Netflix; Batman: Arkham Shadow para Meta Quest 3; Herdling, de Okomotive; Marvel Rivals, de Marvel Games y Netease Games; King of Meat, de Glowmade y Amazon Games; y Goat Simulator Remaster.                                                                                                                                                                                                                                                                                                                                                                                                                                                                                                                                                                                                                                                                                                                                                                                                                                                                                                                                                                                                                                                                                                                                                                                                                                                                                                                                                                                                                                                                                                                                                                                                                                                                                                                                                                                                                                                                                                                                                                                                                                                                                                                                                                                                                                                                                                                                                                                                                                                                                                                                                                                                                                                                                                       |\n",
      "|Un juego chino rompió el récord histórico de jugadores simultáneos en Steam con más de dos millones conectados    |2024-08-20|https://www.lanacion.com.ar/tecnologia/un-juego-chino-rompio-el-record-historico-de-jugadores-simultaneos-en-steam-con-mas-de-dos-millones-nid20082024/|Cuatro años esperaron los usuarios la llegada de Black Myth: Wukong, el videojuego chino de un jugador (single player) basado en la mitología del país. La ansiedad fue tal que este martes, durante su estreno, rompió el récord de mayor cantidad de jugadores simultáneos para un juego de un jugador en Steam. En su pico, llegó a 2.223.179 personas jugando al mismo tiempo. También se posiciona como el más vendido en la plataforma. “Black Myth: Wukong es un RPG de acción inspirado en la mitología china. Encarnarás al Predestinado, que ha de embarcarse en un viaje repleto de peligros y maravillas para descubrir la verdad oculta acerca de una gloriosa leyenda del pasado”, así lo definió su desarrolladora Game Science. El mito corresponde a la Leyenda del Mono y está disponible para Playstation 5 y Xbox. El videojuego tuvo impacto, además, por sus increíbles visuales, que llegaron a ser tendencia en redes sociales. Tal es así que las más de 125 mil reseñas presentes en la plataforma de videojuegos son “extremadamente positivas”. Black Myth: Wukong duplicó el récord del lanzamiento de Cyberpunk 2077 en 2020, donde alcanzó un millón de jugadores concurrentes, y de Palworld, que tuvo 2,1 millones. Aún así, el récord oficial lo tiene el juego de multijugador Playerunknown’s Battlegrounds o PUGB, que tuvo 3,3 millones. Este martes llegó a ser el juego más jugado en Steam, superando a los grandes como el Counter Strike 2, Dota 2 y PUGB. Los halagos al juego se enfocaban en su presentación visual, combate y la construcción de mundos. El primer anuncio del mismo salió en 2020, con un tráiler que tuvo más de cinco millones de visitas en YouTube en el canal del portal de videojuegos y entretenimiento IGN. Desde entonces, los fanáticos esperaron ansiosos su llegada. Game Science no era conocida en ese momento y se llevó la sorpresa de todos. La empresa de desarrollo y publicación de videojuegos proviene de China y es independiente. Tal es así que en 2020 el equipo estaba compuesto por solo 30 personas que venían de trabajar en la empresa tecnológica multinacional Tencent -en los inicios del proyecto de Blackmyth, eran solo siete personas las que trabajaban en su desarrollo en 2018. El juego se basa en la novela china Viaje al Oeste, publicada en el Siglo XVI durante la dinastía Ming. El libro sigue la peregrinación del monje budista Xuanzang de la dinastía Tang, en su viaje para obtener textos sagrados budistas. El videojuego, en cambio, plantea un enfoque alternativo: el jugador juega como el Rey Mono, que acompaña a un monje budista que obtuvo un texto sagrado del Oeste. Aún así, en el tráiler se ven tres monos, y el juego consiste en que el jugador adivine cuál de los tres es el real.                                                                                                                                                                                                                                                                                                                                                                                                                                                                                                                                                                                                                                                                                                                                                                                                                                                                                                                                                                                                                                                                                                                                                                                                                                                                                                                                                                                                                                                                                                                                                                                                                                                                                                                                                                                                                                                                                                                                                                                                                                                                                                                                                                                                                                                                                                                                                                                                                                                                                                                                                                                                                                                                                                 |\n",
      "|En el Mundial de Honolulú: un argentino alcanzó el bronce y es el tercer mejor jugador del mundo en Pokémon Go    |2024-08-19|https://www.lanacion.com.ar/tecnologia/en-el-mundial-de-honolulu-un-argentino-alcanzo-el-bronce-y-quedo-el-tercer-mejor-jugador-del-mundo-nid19082024/ |En un evento masivo, donde más de 3000 participantes en simultáneo disfrutaron de un fin de semana de juegos, la Argentina dejó su marca con decenas de participantes en las disciplinas de videojuegos, Pokémon Go y el famoso juego de cartas en el Pokémon World Championships que se hizo el fin de semana pasado. Durante tres días, jugadores de todo el planeta compitieron en el centro de convenciones de Honolulú, Hawaii, en uno de los eventos de juegos más convocantes del mundo. Allí, entre los 3000 jugadores, cientos de jueces, staff, y visitantes, se destacó la decena de miembros de la “legión argentina de Pokémon” en varias de las disciplinas. Entre ellos la gran actuación de Martín “Martogalde” Galderisi, quien se quedó con el trofeo de bronce, 13.000 dólares de premio y el orgullo de ser el tercer mejor jugador del planeta de Pokémon Go, el juego de realidad aumentada en el que hay que cazar pokémones con el teléfono para entrenarlos y usarlos para desafiar a otros competidores, y que debutó con un éxito inicial inesperado a mediados de 2016. Galderisi llegó invicto a las instancias finales con una gran actuación, que fue transmitida para miles de personas en YouTube y Twitch, como también ante cientos de presentes en el main Stage del Mundial en Hawaii, y quedó en tercer lugar. “Lo que siento es indescriptible”, expresó el argentino, y agregó: “Es algo que venía buscando hace rato. Me había quedado la espina de 2022 de no conseguir un trofeo, y poder llegar al tercer puesto ahora es sin dudas un sueño cumplido. Me hubiese gustado ser campeón, pero estoy inmensamente feliz”. También entre los destacados en el juego de cartas, tuvimos al argentino campeón de 2017 (también en Hawaii), Diego Cassiraga, quien quedó a un paso otra vez de la gloria, tras un complicado empate en las instancias preliminares que lo relegó en puntos y lo dejó en la puerta de las instancias finales. Así lo analizó Cassiraga tras su paso por Honolulú: “Me sentí bien. Es un formato nuevo de torneo, en el que no se puede ni perder. Acá empatar es como perder, pero jugar Pokémon es adaptarse a los cambios y hay que improvisar”. Además, comentó que se viene toda la nueva temporada: “yo aprovecho que viajo con mi familia. Mi hijo de seis años también juega, y este fue su primer mundial junior, y estuvo cerca de llegar al día 2″ y define: “somos una familia Pokémon. Es nuestro hobby y es parte de nuestras vidas”. Chile también tuvo una gran actuación con Fernando Cifuentes, de 17 años, que se coronó campeón en juegos en el juego de cartas, y se destacó el equipo peruano del juego MOBA en equipo Pokémon Unite, Fusion, quien cayó en una semifinal para el infarto, con un tercer puesto en el global que marcó una de las mejores actuaciones de Latinoamérica en la historia del evento. Pero el Pokémon World Championships no solo tuvo su núcleo en el centro de convenciones, sino que vistió a toda la ciudad de Honolulú con eventos, regalos y actividades desplegados por la costa y los centros importantes, incluido el masivo Pokémon Center, de coleccionables únicos, que agotó por completo su stock en los dos primeros días. En la ceremonia de cierre, con bailes, coronaciones y la presencia de los directivos de la franquicia más rentable del mundo, no solo se anunció que el próximo mundial será en Anaheim, California, sino también que el de 2026 será en San Francisco, dejando sellado así la vuelta del mundial a California.                                                                                                                                                                                                                                                                                                                                                                                                                                                                                                                                                                                                                                                                                                                                                                                                                                                                                                                                                                                                                                                                                                                                                                                                                                                                                                                                                                                                                                                                                                                                                                                                                                                                                                                                                                                                                                                                                                                                               |\n",
      "+------------------------------------------------------------------------------------------------------------------+----------+-------------------------------------------------------------------------------------------------------------------------------------------------------+-----------------------------------------------------------------------------------------------------------------------------------------------------------------------------------------------------------------------------------------------------------------------------------------------------------------------------------------------------------------------------------------------------------------------------------------------------------------------------------------------------------------------------------------------------------------------------------------------------------------------------------------------------------------------------------------------------------------------------------------------------------------------------------------------------------------------------------------------------------------------------------------------------------------------------------------------------------------------------------------------------------------------------------------------------------------------------------------------------------------------------------------------------------------------------------------------------------------------------------------------------------------------------------------------------------------------------------------------------------------------------------------------------------------------------------------------------------------------------------------------------------------------------------------------------------------------------------------------------------------------------------------------------------------------------------------------------------------------------------------------------------------------------------------------------------------------------------------------------------------------------------------------------------------------------------------------------------------------------------------------------------------------------------------------------------------------------------------------------------------------------------------------------------------------------------------------------------------------------------------------------------------------------------------------------------------------------------------------------------------------------------------------------------------------------------------------------------------------------------------------------------------------------------------------------------------------------------------------------------------------------------------------------------------------------------------------------------------------------------------------------------------------------------------------------------------------------------------------------------------------------------------------------------------------------------------------------------------------------------------------------------------------------------------------------------------------------------------------------------------------------------------------------------------------------------------------------------------------------------------------------------------------------------------------------------------------------------------------------------------------------------------------------------------------------------------------------------------------------------------------------------------------------------------------------------------------------------------------------------------------------------------------------------------------------------------------------------------------------------------------------------------------------------------------------------------------------------------------------------------------------------------------------------------------------------------------------------------------------------------------------------------------------------------------------------------------------------------------------------------------------------------------------------------------------------------------------------------------------------------------------------------------------------------------------------------------------------------------------------------------------------------------------------------------------------------------------------------------------------------------------------------------------------------------------------------------------------------------------------------------------------------------------------------------------------------------------------------------------------------------------------------------------------------------------------------------------------------------------------------------------------------------------------------------------------------------------------------------------------------------------------------------------------------------------------------------------------------------------------------------------------------------------------------------------------------------------------------------------------------------------------------------------------------------------------------------------------------------------------------------------------------------------------------------------------------------------------------------------------------------------------------------------+\n",
      "only showing top 5 rows\n",
      "\n"
     ]
    }
   ],
   "source": [
    "# Mostrar las primeras filas del DataFrame\n",
    "print(\"Primeras filas del DataFrame:\")\n",
    "df.show(5,truncate=False)"
   ]
  },
  {
   "cell_type": "code",
   "execution_count": 142,
   "metadata": {},
   "outputs": [
    {
     "name": "stdout",
     "output_type": "stream",
     "text": [
      "\n",
      "Esquema del DataFrame:\n",
      "root\n",
      " |-- titulo: string (nullable = true)\n",
      " |-- fecha: string (nullable = true)\n",
      " |-- link: string (nullable = true)\n",
      " |-- cuerpo: string (nullable = true)\n",
      "\n"
     ]
    }
   ],
   "source": [
    "# Mostrar el esquema del DataFrame (tipos de datos de cada columna)\n",
    "print(\"\\nEsquema del DataFrame:\")\n",
    "df.printSchema()"
   ]
  },
  {
   "cell_type": "code",
   "execution_count": 143,
   "metadata": {},
   "outputs": [
    {
     "name": "stdout",
     "output_type": "stream",
     "text": [
      "\n",
      "Descripción estadística de las columnas numéricas:\n",
      "+-------+--------------------+----------+--------------------+--------------------+\n",
      "|summary|              titulo|     fecha|                link|              cuerpo|\n",
      "+-------+--------------------+----------+--------------------+--------------------+\n",
      "|  count|                1918|      1919|                1919|                1914|\n",
      "|   mean|                NULL|      NULL|                NULL|                NULL|\n",
      "| stddev|                NULL|      NULL|                NULL|                NULL|\n",
      "|    min|          \"\"\"Bury Me| My Love\"\"|    dice su creador\"|\"\"\"A la gente que...|\n",
      "|    max|“Tenemos paciente...|2024-08-29|https://www.lanac...|“¡Pon a remojar l...|\n",
      "+-------+--------------------+----------+--------------------+--------------------+\n",
      "\n"
     ]
    }
   ],
   "source": [
    "# Describir las estadísticas básicas\n",
    "print(\"\\nDescripción estadística de las columnas numéricas:\")\n",
    "df.describe().show()\n"
   ]
  },
  {
   "cell_type": "code",
   "execution_count": 144,
   "metadata": {},
   "outputs": [
    {
     "name": "stdout",
     "output_type": "stream",
     "text": [
      "Columna\t\tCantidad de Nulos\n",
      "----------------------------------------\n",
      "titulo\t\t1\n",
      "fecha\t\t0\n",
      "link\t\t0\n",
      "cuerpo\t\t5\n"
     ]
    }
   ],
   "source": [
    "from pyspark.sql.functions import col, sum\n",
    "# Crea una lista con el nombre de las columnas y la cantidad de nulos en cada una\n",
    "null_counts = [(column, df.filter(col(column).isNull()).count()) for column in df.columns]\n",
    "\n",
    "# Imprime la tabla\n",
    "print(\"Columna\\t\\tCantidad de Nulos\")\n",
    "print(\"-\" * 40)\n",
    "for column, count in null_counts:\n",
    "    print(f\"{column}\\t\\t{count}\")"
   ]
  },
  {
   "cell_type": "code",
   "execution_count": 145,
   "metadata": {},
   "outputs": [
    {
     "name": "stdout",
     "output_type": "stream",
     "text": [
      "Registros con valores nulos en alguna columna:\n",
      "+--------------------------------------------------------------------------+----------+----------------------------------------------------------------------------------------------------------------------------------------------------------------+-------------------------------------------------------------------------------------------------------------------------------------------------------------------------------------------------------------------------------------------------------------------------------------------------------------------------------------------------------------------------------------------------------------------------------------------------+\n",
      "|titulo                                                                    |fecha     |link                                                                                                                                                            |cuerpo                                                                                                                                                                                                                                                                                                                                                                                                                                           |\n",
      "+--------------------------------------------------------------------------+----------+----------------------------------------------------------------------------------------------------------------------------------------------------------------+-------------------------------------------------------------------------------------------------------------------------------------------------------------------------------------------------------------------------------------------------------------------------------------------------------------------------------------------------------------------------------------------------------------------------------------------------+\n",
      "|NULL                                                                      |2022-07-20|https://www.lanacion.com.ar/deportes/canchallena/fifa-23-el-trailer-oficial-cuando-es-el-lanzamiento-los-nuevos-torneos-y-todo-lo-que-hay-que-saber-nid20072022/|EA Sports presentó el tráiler oficial del FIFA 23, el último bajo este nombre, y se conocieron varios detalles en la antesala del lanzamiento. Por primera vez, el juego estará cruzado con varios detalles relacionados a la expansión del fútbol femenino a nivel global: Sam Kerr estará en la portada del juego, habrá clubes disponibles de dos ligas, tendrá la posibilidad de jugar el Mundial 2023 y sumará nuevos detalles de animación.|\n",
      "|\"Carlos Pérez: \"\"Comunicación y modelo de negocio deberían ser lo mismo\"\"\"|2017-01-18|https://www.lanacion.com.ar/economia/carlos-perez-comunicacion-y-modelo-de-negocio-deberian-ser-lo-mismo-nid1976919/                                            |NULL                                                                                                                                                                                                                                                                                                                                                                                                                                             |\n",
      "|Los Angeles: qué novedades trae el FIFA 2017                              |2016-06-14|https://www.lanacion.com.ar/tecnologia/los-angeles-que-novedades-trae-el-fifa-2017-nid1908907/                                                                  |NULL                                                                                                                                                                                                                                                                                                                                                                                                                                             |\n",
      "|Todo el color de la Tokyo Game Show, la mega feria de videojuegos         |2013-09-23|https://www.lanacion.com.ar/tecnologia/todo-el-color-de-la-tokyo-game-show-la-mega-feria-de-videojuegos-nid1621754/                                             |NULL                                                                                                                                                                                                                                                                                                                                                                                                                                             |\n",
      "|Eligen los mejores videojuegos de la historia                             |2012-11-21|https://www.lanacion.com.ar/tecnologia/eligen-los-mejores-videojuegos-de-la-historia-nid1528816/                                                                |NULL                                                                                                                                                                                                                                                                                                                                                                                                                                             |\n",
      "|Probamos la consola Sony PS Vita                                          |2012-06-18|https://www.lanacion.com.ar/tecnologia/probamos-la-sony-ps-vita-nid1482479/                                                                                     |NULL                                                                                                                                                                                                                                                                                                                                                                                                                                             |\n",
      "+--------------------------------------------------------------------------+----------+----------------------------------------------------------------------------------------------------------------------------------------------------------------+-------------------------------------------------------------------------------------------------------------------------------------------------------------------------------------------------------------------------------------------------------------------------------------------------------------------------------------------------------------------------------------------------------------------------------------------------+\n",
      "\n"
     ]
    }
   ],
   "source": [
    "# Filtrar los registros que tienen valores nulos en alguna columna\n",
    "df_with_nulls = df.filter(F.greatest(*[F.col(c).isNull().cast(\"int\") for c in df.columns]) == 1)\n",
    "\n",
    "# Mostrar los registros con nulos\n",
    "print(\"Registros con valores nulos en alguna columna:\")\n",
    "df_with_nulls.show(truncate=False)"
   ]
  },
  {
   "cell_type": "code",
   "execution_count": 146,
   "metadata": {},
   "outputs": [],
   "source": [
    "# Eliminar los registros que tienen algún valor nulo\n",
    "df_cleaned = df.dropna()"
   ]
  },
  {
   "cell_type": "code",
   "execution_count": 147,
   "metadata": {},
   "outputs": [
    {
     "name": "stdout",
     "output_type": "stream",
     "text": [
      "Columna\t\tCantidad de Nulos\n",
      "----------------------------------------\n",
      "titulo\t\t1\n",
      "fecha\t\t0\n",
      "link\t\t0\n",
      "cuerpo\t\t5\n"
     ]
    }
   ],
   "source": [
    "# Crea una lista con el nombre de las columnas y la cantidad de nulos en cada una\n",
    "null_counts = [(column, df.filter(col(column).isNull()).count()) for column in df.columns]\n",
    "\n",
    "# Imprime la tabla\n",
    "print(\"Columna\\t\\tCantidad de Nulos\")\n",
    "print(\"-\" * 40)\n",
    "for column, count in null_counts:\n",
    "    print(f\"{column}\\t\\t{count}\")"
   ]
  },
  {
   "cell_type": "code",
   "execution_count": 148,
   "metadata": {},
   "outputs": [
    {
     "name": "stdout",
     "output_type": "stream",
     "text": [
      "+------+-----+----+------+\n",
      "|titulo|fecha|link|cuerpo|\n",
      "+------+-----+----+------+\n",
      "+------+-----+----+------+\n",
      "\n"
     ]
    }
   ],
   "source": [
    "\n",
    "# Verifica la fila correspondiente en el DataFrame de Spark\n",
    "fila_nula_spark = df.filter(F.col('fecha').isNull()).show(truncate = False)\n",
    "\n"
   ]
  },
  {
   "cell_type": "code",
   "execution_count": 149,
   "metadata": {},
   "outputs": [
    {
     "name": "stdout",
     "output_type": "stream",
     "text": [
      "Primeras filas con puntuación de sentimiento:\n",
      "+--------------------+----------+--------------------+--------------------+--------------------+\n",
      "|              titulo|     fecha|                link|              cuerpo|           sentiment|\n",
      "+--------------------+----------+--------------------+--------------------+--------------------+\n",
      "|Día del Gamer 202...|2024-08-29|https://www.lanac...|Este 29 de agosto...| 0.08333333333333333|\n",
      "|Star Wars Outlaws...|2024-08-27|https://www.lanac...|Mucho se habló de...|-0.01785714285714...|\n",
      "|Gamescom 2024: vu...|2024-08-21|https://www.lanac...|Borderlands 4 el ...|-0.00432900432900...|\n",
      "+--------------------+----------+--------------------+--------------------+--------------------+\n",
      "only showing top 3 rows\n",
      "\n"
     ]
    }
   ],
   "source": [
    "# Definir una función para calcular el sentimiento usando TextBlob\n",
    "def get_sentiment(text):\n",
    "    if text is None:\n",
    "        return None\n",
    "    return TextBlob(text).sentiment.polarity\n",
    "\n",
    "# Registrar la función como una UDF (User Defined Function)\n",
    "sentiment_udf = F.udf(get_sentiment)\n",
    "\n",
    "# Crear la columna 'sentiment' basada en el cuerpo de la noticia\n",
    "df_with_sentiment = df.withColumn(\"sentiment\", sentiment_udf(F.col(\"cuerpo\")))\n",
    "\n",
    "# Mostrar algunas filas con la nueva columna de sentimiento\n",
    "print(\"Primeras filas con puntuación de sentimiento:\")\n",
    "df_with_sentiment.show(3)"
   ]
  },
  {
   "cell_type": "code",
   "execution_count": 150,
   "metadata": {},
   "outputs": [
    {
     "name": "stdout",
     "output_type": "stream",
     "text": [
      "+------+-----+----+------+---------+\n",
      "|titulo|fecha|link|cuerpo|sentiment|\n",
      "+------+-----+----+------+---------+\n",
      "+------+-----+----+------+---------+\n",
      "\n"
     ]
    }
   ],
   "source": [
    "\n",
    "# Verifica la fila correspondiente en el DataFrame de Spark\n",
    "fila_nula_spark = df_with_sentiment.filter(F.col('fecha').isNull()).show(truncate = False)\n",
    "\n"
   ]
  },
  {
   "cell_type": "code",
   "execution_count": 151,
   "metadata": {},
   "outputs": [
    {
     "name": "stderr",
     "output_type": "stream",
     "text": [
      "                                                                                \r"
     ]
    }
   ],
   "source": [
    "df_with_sentiment.write.mode(\"overwrite\").csv(\"../data/processed/news.csv\", header=True)"
   ]
  },
  {
   "cell_type": "code",
   "execution_count": 152,
   "metadata": {},
   "outputs": [
    {
     "name": "stdout",
     "output_type": "stream",
     "text": [
      "+------+-----+----+------+---------+\n",
      "|titulo|fecha|link|cuerpo|sentiment|\n",
      "+------+-----+----+------+---------+\n",
      "+------+-----+----+------+---------+\n",
      "\n",
      "Filas nulas luego de pasar formato None\n"
     ]
    },
    {
     "name": "stderr",
     "output_type": "stream",
     "text": [
      "                                                                                \r"
     ]
    },
    {
     "name": "stdout",
     "output_type": "stream",
     "text": [
      "     year  month  avg_sentiment      fecha\n",
      "1  2012.0    6.0      -0.004167 2012-06-01\n",
      "2  2012.0    7.0      -0.100000 2012-07-01\n",
      "3  2012.0    8.0       0.000000 2012-08-01\n",
      "4  2012.0    9.0       0.058333 2012-09-01\n",
      "5  2012.0   10.0      -0.120139 2012-10-01\n"
     ]
    }
   ],
   "source": [
    "import seaborn as sns\n",
    "import matplotlib.pyplot as plt\n",
    "import pyspark.sql.functions as F\n",
    "import pandas as pd\n",
    "\n",
    "# Verifica la fila correspondiente en el DataFrame de Spark\n",
    "fila_nula_spark = df_with_sentiment.filter(F.col('fecha').isNull()).show(truncate = False)\n",
    "print(\"Filas nulas luego de pasar formato\", fila_nula_spark)\n",
    "\n",
    "df_with_sentiment = df_with_sentiment.dropna(subset=['sentiment'])\n",
    "\n",
    "# Crear columnas de año y mes\n",
    "df_with_sentiment = df_with_sentiment.withColumn('year', F.year(F.col('fecha')))\n",
    "df_with_sentiment = df_with_sentiment.withColumn('month', F.month(F.col('fecha')))\n",
    "\n",
    "# Agrupar por año y mes en lugar de por fecha exacta\n",
    "sentiment_by_month = df_with_sentiment.groupBy('year', 'month').agg(F.avg('sentiment').alias('avg_sentiment')).orderBy('year', 'month')\n",
    "\n",
    "# Convertir a Pandas para visualización\n",
    "sentiment_pd = sentiment_by_month.toPandas()\n",
    "\n",
    "# Crear una columna de fecha combinando año y mes\n",
    "sentiment_pd['fecha'] = pd.to_datetime(sentiment_pd[['year', 'month']].assign(day=1))  # Usa el primer día del mes\n",
    "\n",
    "# Ordenar los valores\n",
    "sentiment_pd = sentiment_pd.sort_values('fecha')\n",
    "\n",
    "# Verificar los datos antes de la visualización\n",
    "print(sentiment_pd.head())\n",
    "\n",
    "# Visualización\n",
    "plt.figure(figsize=(14, 7))\n",
    "sns.lineplot(data=sentiment_pd, x='fecha', y='avg_sentiment', marker='o')\n",
    "plt.title('Evolución del Sentimiento Promedio de Noticias de Videojuegos (Agrupado por Mes)')\n",
    "plt.xlabel('Fecha')\n",
    "plt.ylabel('Sentimiento Promedio')\n",
    "plt.xticks(rotation=45)\n",
    "plt.tight_layout()\n",
    "plt.savefig('sentiment_trend_monthly.png')  # Guarda la gráfica como una imagen\n",
    "plt.close()\n",
    "\n",
    "# Paso 10: Sistema de Alerta\n",
    "#sentiment_pd['sentiment_change'] = sentiment_pd['avg_sentiment'].diff()\n",
    "#latest_change = sentiment_pd['sentiment_change'].iloc[-1] if not sentiment_pd['sentiment_change'].empty else None\n",
    "#latest_date = sentiment_pd['fecha'].iloc[-1] if not sentiment_pd['fecha'].empty else None\n",
    "\n",
    "# Comprobamos si latest_date es NaT antes de usar strftime\n",
    "#if pd.notna(latest_change) and pd.notna(latest_date):\n",
    "#    threshold = 0.2\n",
    "#    if latest_change <= -threshold:\n",
    "#        print(f\"ALERTA: El sentimiento promedio cayó {abs(latest_change):.2f} puntos en {latest_date.strftime('%B %Y')}.\")\n",
    "#        # Aquí podrías añadir código para enviar un correo electrónico o una notificación\n",
    "#    else:\n",
    "#        print(f\"El sentimiento promedio está estable en {latest_date.strftime('%B %Y')}.\")\n",
    "#else:\n",
    "#    print(\"No hay suficientes datos para generar una alerta o la fecha es inválida.\")\n"
   ]
  },
  {
   "cell_type": "code",
   "execution_count": 153,
   "metadata": {},
   "outputs": [
    {
     "name": "stdout",
     "output_type": "stream",
     "text": [
      "   year  month  avg_sentiment fecha\n",
      "0   NaN    NaN            0.0   NaT\n"
     ]
    }
   ],
   "source": [
    "# Suponiendo que 'sentiment_pd' es tu DataFrame\n",
    "nulos_en_fecha = sentiment_pd[sentiment_pd['fecha'].isna()]\n",
    "\n",
    "# Mostrar las filas donde la columna 'fecha' tiene valores nulos\n",
    "print(nulos_en_fecha)\n"
   ]
  },
  {
   "cell_type": "code",
   "execution_count": 154,
   "metadata": {},
   "outputs": [
    {
     "name": "stdout",
     "output_type": "stream",
     "text": [
      "   year  month  avg_sentiment fecha\n",
      "0   NaN    NaN            0.0   NaT\n",
      "+------+-----+----+------+---------+----+-----+\n",
      "|titulo|fecha|link|cuerpo|sentiment|year|month|\n",
      "+------+-----+----+------+---------+----+-----+\n",
      "+------+-----+----+------+---------+----+-----+\n",
      "\n"
     ]
    }
   ],
   "source": [
    "# Filtra la fila con el valor nulo en Pandas\n",
    "fila_nula = sentiment_pd[sentiment_pd['fecha'].isna()]\n",
    "print(fila_nula)\n",
    "\n",
    "# Verifica la fila correspondiente en el DataFrame de Spark\n",
    "fila_nula_spark = df_with_sentiment.filter(F.col('fecha').isNull()).show(truncate = False)\n"
   ]
  }
 ],
 "metadata": {
  "kernelspec": {
   "display_name": "Python 3",
   "language": "python",
   "name": "python3"
  },
  "language_info": {
   "codemirror_mode": {
    "name": "ipython",
    "version": 3
   },
   "file_extension": ".py",
   "mimetype": "text/x-python",
   "name": "python",
   "nbconvert_exporter": "python",
   "pygments_lexer": "ipython3",
   "version": "3.12.3"
  }
 },
 "nbformat": 4,
 "nbformat_minor": 2
}
