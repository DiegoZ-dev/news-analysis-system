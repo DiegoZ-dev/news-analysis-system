{
 "cells": [
  {
   "cell_type": "code",
   "execution_count": 1,
   "metadata": {
    "execution": {
     "iopub.execute_input": "2025-01-22T00:01:53.407310Z",
     "iopub.status.busy": "2025-01-22T00:01:53.406018Z",
     "iopub.status.idle": "2025-01-22T00:01:54.418950Z",
     "shell.execute_reply": "2025-01-22T00:01:54.415650Z"
    }
   },
   "outputs": [],
   "source": [
    "from pyspark.sql import SparkSession\n",
    "from pyspark.sql import functions as F\n",
    "from textblob import TextBlob\n"
   ]
  },
  {
   "cell_type": "code",
   "execution_count": 2,
   "metadata": {
    "execution": {
     "iopub.execute_input": "2025-01-22T00:01:54.427549Z",
     "iopub.status.busy": "2025-01-22T00:01:54.426639Z",
     "iopub.status.idle": "2025-01-22T00:02:26.259816Z",
     "shell.execute_reply": "2025-01-22T00:02:26.255737Z"
    }
   },
   "outputs": [
    {
     "name": "stderr",
     "output_type": "stream",
     "text": [
      "25/01/21 21:02:00 WARN Utils: Your hostname, cachyos resolves to a loopback address: 127.0.1.1; using 192.168.18.32 instead (on interface wlan0)\n",
      "25/01/21 21:02:00 WARN Utils: Set SPARK_LOCAL_IP if you need to bind to another address\n"
     ]
    },
    {
     "name": "stderr",
     "output_type": "stream",
     "text": [
      "Setting default log level to \"WARN\".\n",
      "To adjust logging level use sc.setLogLevel(newLevel). For SparkR, use setLogLevel(newLevel).\n"
     ]
    },
    {
     "name": "stderr",
     "output_type": "stream",
     "text": [
      "25/01/21 21:02:02 WARN NativeCodeLoader: Unable to load native-hadoop library for your platform... using builtin-java classes where applicable\n"
     ]
    },
    {
     "name": "stderr",
     "output_type": "stream",
     "text": [
      "25/01/21 21:02:16 WARN GarbageCollectionMetrics: To enable non-built-in garbage collector(s) List(G1 Concurrent GC), users should configure it(them) to spark.eventLog.gcMetrics.youngGenerationGarbageCollectors or spark.eventLog.gcMetrics.oldGenerationGarbageCollectors\n"
     ]
    },
    {
     "name": "stderr",
     "output_type": "stream",
     "text": [
      "\r",
      "[Stage 0:>                                                          (0 + 1) / 1]\r"
     ]
    },
    {
     "name": "stderr",
     "output_type": "stream",
     "text": [
      "\r",
      "                                                                                \r"
     ]
    },
    {
     "name": "stderr",
     "output_type": "stream",
     "text": [
      "\r",
      "[Stage 1:>                                                          (0 + 2) / 2]\r"
     ]
    },
    {
     "name": "stderr",
     "output_type": "stream",
     "text": [
      "\r",
      "[Stage 1:=============================>                             (1 + 1) / 2]\r"
     ]
    },
    {
     "name": "stderr",
     "output_type": "stream",
     "text": [
      "\r",
      "                                                                                \r"
     ]
    }
   ],
   "source": [
    "# Crear una sesión de Spark\n",
    "spark = SparkSession.builder.appName(\"NewsDataInspection\").getOrCreate()\n",
    "\n",
    "# Cargar el archivo CSV\n",
    "file_path = '../data/raw/news.csv'\n",
    "df = spark.read.csv(file_path, header=True, inferSchema=True)"
   ]
  },
  {
   "cell_type": "code",
   "execution_count": 3,
   "metadata": {
    "execution": {
     "iopub.execute_input": "2025-01-22T00:02:26.300213Z",
     "iopub.status.busy": "2025-01-22T00:02:26.299316Z",
     "iopub.status.idle": "2025-01-22T00:02:28.792112Z",
     "shell.execute_reply": "2025-01-22T00:02:28.790297Z"
    }
   },
   "outputs": [
    {
     "name": "stderr",
     "output_type": "stream",
     "text": [
      "\r",
      "[Stage 2:>                                                          (0 + 2) / 2]\r",
      "\r",
      "[Stage 2:=============================>                             (1 + 1) / 2]\r"
     ]
    },
    {
     "name": "stdout",
     "output_type": "stream",
     "text": [
      "\n",
      "Dimensiones del DataFrame: 1994 filas, 4 columnas\n"
     ]
    },
    {
     "name": "stderr",
     "output_type": "stream",
     "text": [
      "\r",
      "                                                                                \r"
     ]
    }
   ],
   "source": [
    "# Contar el número de filas y columnas\n",
    "num_rows = df.count()\n",
    "num_cols = len(df.columns)\n",
    "print(f\"\\nDimensiones del DataFrame: {num_rows} filas, {num_cols} columnas\")"
   ]
  },
  {
   "cell_type": "code",
   "execution_count": 4,
   "metadata": {
    "execution": {
     "iopub.execute_input": "2025-01-22T00:02:28.801749Z",
     "iopub.status.busy": "2025-01-22T00:02:28.800390Z",
     "iopub.status.idle": "2025-01-22T00:02:29.848165Z",
     "shell.execute_reply": "2025-01-22T00:02:29.845200Z"
    }
   },
   "outputs": [
    {
     "name": "stdout",
     "output_type": "stream",
     "text": [
      "Primeras filas del DataFrame:\n"
     ]
    },
    {
     "name": "stdout",
     "output_type": "stream",
     "text": [
      "+-----------------------------------------------------------------------------------------------------+----------+--------------------------------------------------------------------------------------------------------------------------------------------------------+---------------------------------------------------------------------------------------------------------------------------------------------------------------------------------------------------------------------------------------------------------------------------------------------------------------------------------------------------------------------------------------------------------------------------------------------------------------------------------------------------------------------------------------------------------------------------------------------------------------------------------------------------------------------------------------------------------------------------------------------------------------------------------------------------------------------------------------------------------------------------------------------------------------------------------------------------------------------------------------------------------------------------------------------------------------------------------------------------------------------------------------------------------------------------------------------------------------------------------------------------------------------------------------------------------------------------------------------------------------------------------------------------------------------------------------------------------------------------------------------------------------------------------------------------------------------------------------+\n",
      "|titulo                                                                                               |fecha     |link                                                                                                                                                    |cuerpo                                                                                                                                                                                                                                                                                                                                                                                                                                                                                                                                                                                                                                                                                                                                                                                                                                                                                                                                                                                                                                                                                                                                                                                                                                                                                                                                                                                                                                                                                                                                                                                 |\n",
      "+-----------------------------------------------------------------------------------------------------+----------+--------------------------------------------------------------------------------------------------------------------------------------------------------+---------------------------------------------------------------------------------------------------------------------------------------------------------------------------------------------------------------------------------------------------------------------------------------------------------------------------------------------------------------------------------------------------------------------------------------------------------------------------------------------------------------------------------------------------------------------------------------------------------------------------------------------------------------------------------------------------------------------------------------------------------------------------------------------------------------------------------------------------------------------------------------------------------------------------------------------------------------------------------------------------------------------------------------------------------------------------------------------------------------------------------------------------------------------------------------------------------------------------------------------------------------------------------------------------------------------------------------------------------------------------------------------------------------------------------------------------------------------------------------------------------------------------------------------------------------------------------------+\n",
      "|Estos son los videojuegos más jugados en Steam al 19 de enero                                        |2025-01-20|https://www.lanacion.com.ar/tecnologia/estos-son-los-videojuegos-mas-jugados-en-steam-al-19-de-enero-nid20012025/                                       |En las últimas horas se conoció un nuevo ordenamiento en el ranking de la plataforma de videojuegos Steam, que muestra cuáles son los títulos que más atraen a los jugadores en todo el planeta al 19 de enero. En esta ocasión, el top 3 lo lideran Counter-strike 2, Dota 2, y Pubg: battlegrounds, destacándose por la cantidad de usuarios que han disfrutado de estos títulos A continuación, te presentamos los 10 videojuegos más jugados en la última semana, con los detalles sobre la cantidad de jugadores. Esta semana, Counter-strike 2 se posiciona en el primer lugar del ranking, con una cifra notable de jugadores, seguido de Dota 2 y Pubg: battlegrounds, que completan el podio del ranking de Steam de los videojuegos más populares en el mundo gaming. Steam es la plataforma de distribución digital más grande del mundo para videojuegos, desarrollada por Valve Corporation. Desde su lanzamiento en 2003, Steam revolucionó la industria de los videojuegos, permitiendo a millones de usuarios comprar, descargar y jugar a una inmensa variedad de títulos. La plataforma no solo ofrece juegos de todos los géneros imaginables, sino que también cuenta con características como actualizaciones automáticas, comunidades de jugadores, y soporte para mods, lo que enriquece la experiencia del usuario. Además, Steam es conocido por sus ventas y descuentos masivos, que permiten a los jugadores acceder a títulos populares a precios reducidos. Tiene una base de más de 100 millones de usuarios y 30.000 juegos publicados hasta el momento.|\n",
      "|Estos son los videojuegos gratis de la semana del 16 de enero en Epic Games: solo hay que reclamarlos|2025-01-17|https://www.lanacion.com.ar/tecnologia/estos-son-los-videojuegos-gratis-de-la-semana-del-16-de-enero-en-epic-games-solo-hay-que-reclamarlos-nid17012025/|Como cada semana, Epic Games sorprende a los jugadores con una selección de videojuegos gratuitos que solo requieren ser descargados para disfrutar de ellos. Estos días no son la excepción, y la plataforma ofrece, hasta el 23 de enero, una nueva tanda de títulos sin costo que podrás añadir a tu biblioteca permanentemente. La tienda digital de los creadores de Fortnite se prepara cada semana para la llegada de nuevos juegos gratis a la plataforma. Una oportunidad imperdible para obtener videojuegos sin costo de los principales estudios. A continuación, te presentamos los videojuegos gratuitos de esta semana y una breve descripción de cada uno. Bienvenido a la Academia de Escape. Entrena para convertirte en el mejor escapista. Resuelve acertijos. Hackear servidores. Conoce la Facultad. Prepara la taza de té perfecta. Escape Rooms para un jugador o cooperativo con un amigo, ¡local o en línea! Epic Games es una empresa desarrolladora y distribuidora de videojuegos, fundada en 1991 y conocida mundialmente por el éxito de títulos como Fortnite y la saga Unreal Tournament. Además de su trabajo en desarrollo de juegos, Epic Games revolucionó la distribución digital con su plataforma Epic Games Store, que ofrece una selección de juegos tanto gratuitos como pagos. Desde su lanzamiento en 2018, la tienda ganó popularidad gracias a su política de regalar videojuegos semanales, permitiendo a los jugadores ampliar sus bibliotecas sin costo.                                                                             |\n",
      "|Lanzamientos de videojuegos en Enero de 2025 en Steam: esta es la lista                              |2025-01-14|https://www.lanacion.com.ar/tecnologia/lanzamientos-de-videojuegos-en-enero-de-2025-en-steam-esta-es-la-lista-nid14012025/                              |Cada mes, la plataforma Steam amplía su ya vasto catálogo con nuevos títulos que buscan ganarse un lugar en la memoria de los jugadores. Para enero de 2025, la plataforma anuncia una variedad de videojuegos que suelen abarcar todos los géneros, desde aventuras épicas hasta emocionantes juegos multijugador. A continuación, te presentamos la lista completa de los lanzamientos más destacados de este mes. Steam, desarrollada por Valve Corporation, es la plataforma de distribución digital líder en la industria de los videojuegos. Desde su creación en 2003, modificó la forma en que los jugadores acceden y disfrutan de sus juegos favoritos. Con un catálogo que incluye desde grandes éxitos hasta joyas independientes, Steam permite a sus usuarios comprar, descargar y jugar a una enorme variedad de videojuegos en sus computadoras. Además de ofrecer una experiencia de juego fluida con características como actualizaciones automáticas y soporte para mods, Steam también es conocida por sus ofertas y promociones, que hacen más accesibles los últimos lanzamientos. Con más de 100 millones de jugadores activos y una comunidad vibrante, Steam sigue siendo un pilar central en la experiencia gamer.                                                                                                                                                                                                                                                                                                                                           |\n",
      "|Estos son los videojuegos más jugados en Steam al 12 de enero                                        |2025-01-13|https://www.lanacion.com.ar/tecnologia/estos-son-los-videojuegos-mas-jugados-en-steam-al-12-de-enero-nid13012025/                                       |En las últimas horas se conoció un nuevo ordenamiento en el ranking de la plataforma de videojuegos Steam, que muestra cuáles son los títulos que más atraen a los jugadores en todo el planeta al 12 de enero. En esta ocasión, el top 3 lo lideran Counter-strike 2, Dota 2, y Pubg: battlegrounds, destacándose por la cantidad de usuarios que han disfrutado de estos títulos A continuación, te presentamos los 10 videojuegos más jugados en la última semana, con los detalles sobre la cantidad de jugadores. Esta semana, Counter-strike 2 se posiciona en el primer lugar del ranking, con una cifra notable de jugadores, seguido de Dota 2 y Pubg: battlegrounds, que completan el podio del ranking de Steam de los videojuegos más populares en el mundo gaming. Steam es la plataforma de distribución digital más grande del mundo para videojuegos, desarrollada por Valve Corporation. Desde su lanzamiento en 2003, Steam revolucionó la industria de los videojuegos, permitiendo a millones de usuarios comprar, descargar y jugar a una inmensa variedad de títulos. La plataforma no solo ofrece juegos de todos los géneros imaginables, sino que también cuenta con características como actualizaciones automáticas, comunidades de jugadores, y soporte para mods, lo que enriquece la experiencia del usuario. Además, Steam es conocido por sus ventas y descuentos masivos, que permiten a los jugadores acceder a títulos populares a precios reducidos. Tiene una base de más de 100 millones de usuarios y 30.000 juegos publicados hasta el momento.|\n",
      "|Estos son los videojuegos gratis de la semana del 9 de enero en Epic Games: solo hay que reclamarlos |2025-01-09|https://www.lanacion.com.ar/tecnologia/estos-son-los-videojuegos-gratis-de-la-semana-del-9-de-enero-en-epic-games-solo-hay-que-reclamarlos-nid09012025/ |Como cada semana, Epic Games sorprende a los jugadores con una selección de videojuegos gratuitos que solo requieren ser descargados para disfrutar de ellos. Estos días no son la excepción, y la plataforma ofrece, hasta el 16 de enero, una nueva tanda de títulos sin costo que podrás añadir a tu biblioteca permanentemente. La tienda digital de los creadores de Fortnite se prepara cada semana para la llegada de nuevos juegos gratis a la plataforma. Una oportunidad imperdible para obtener videojuegos sin costo de los principales estudios. A continuación, te presentamos los videojuegos gratuitos de esta semana y una breve descripción de cada uno. ¡Perfore en busca de petróleo como si fuera 1899! Turmoil ofrece a los jugadores una versión irónica y visualmente encantadora del género de simulación inspirada en la fiebre del petróleo del siglo XIX en América del Norte. Epic Games es una empresa desarrolladora y distribuidora de videojuegos, fundada en 1991 y conocida mundialmente por el éxito de títulos como Fortnite y la saga Unreal Tournament. Además de su trabajo en desarrollo de juegos, Epic Games revolucionó la distribución digital con su plataforma Epic Games Store, que ofrece una selección de juegos tanto gratuitos como pagos. Desde su lanzamiento en 2018, la tienda ganó popularidad gracias a su política de regalar videojuegos semanales, permitiendo a los jugadores ampliar sus bibliotecas sin costo.                                                                                                         |\n",
      "+-----------------------------------------------------------------------------------------------------+----------+--------------------------------------------------------------------------------------------------------------------------------------------------------+---------------------------------------------------------------------------------------------------------------------------------------------------------------------------------------------------------------------------------------------------------------------------------------------------------------------------------------------------------------------------------------------------------------------------------------------------------------------------------------------------------------------------------------------------------------------------------------------------------------------------------------------------------------------------------------------------------------------------------------------------------------------------------------------------------------------------------------------------------------------------------------------------------------------------------------------------------------------------------------------------------------------------------------------------------------------------------------------------------------------------------------------------------------------------------------------------------------------------------------------------------------------------------------------------------------------------------------------------------------------------------------------------------------------------------------------------------------------------------------------------------------------------------------------------------------------------------------+\n",
      "only showing top 5 rows\n",
      "\n"
     ]
    }
   ],
   "source": [
    "# Mostrar las primeras filas del DataFrame\n",
    "print(\"Primeras filas del DataFrame:\")\n",
    "df.show(5,truncate=False)"
   ]
  },
  {
   "cell_type": "code",
   "execution_count": 5,
   "metadata": {
    "execution": {
     "iopub.execute_input": "2025-01-22T00:02:29.857749Z",
     "iopub.status.busy": "2025-01-22T00:02:29.856474Z",
     "iopub.status.idle": "2025-01-22T00:02:29.877700Z",
     "shell.execute_reply": "2025-01-22T00:02:29.873599Z"
    }
   },
   "outputs": [
    {
     "name": "stdout",
     "output_type": "stream",
     "text": [
      "\n",
      "Esquema del DataFrame:\n",
      "root\n",
      " |-- titulo: string (nullable = true)\n",
      " |-- fecha: string (nullable = true)\n",
      " |-- link: string (nullable = true)\n",
      " |-- cuerpo: string (nullable = true)\n",
      "\n"
     ]
    }
   ],
   "source": [
    "# Mostrar el esquema del DataFrame (tipos de datos de cada columna)\n",
    "print(\"\\nEsquema del DataFrame:\")\n",
    "df.printSchema()"
   ]
  },
  {
   "cell_type": "code",
   "execution_count": 6,
   "metadata": {
    "execution": {
     "iopub.execute_input": "2025-01-22T00:02:29.887649Z",
     "iopub.status.busy": "2025-01-22T00:02:29.886284Z",
     "iopub.status.idle": "2025-01-22T00:02:36.347398Z",
     "shell.execute_reply": "2025-01-22T00:02:36.340381Z"
    }
   },
   "outputs": [
    {
     "name": "stdout",
     "output_type": "stream",
     "text": [
      "\n",
      "Descripción estadística de las columnas numéricas:\n"
     ]
    },
    {
     "name": "stderr",
     "output_type": "stream",
     "text": [
      "25/01/21 21:02:30 WARN SparkStringUtils: Truncated the string representation of a plan since it was too large. This behavior can be adjusted by setting 'spark.sql.debug.maxToStringFields'.\n"
     ]
    },
    {
     "name": "stderr",
     "output_type": "stream",
     "text": [
      "\r",
      "[Stage 6:>                                                          (0 + 2) / 2]\r"
     ]
    },
    {
     "name": "stderr",
     "output_type": "stream",
     "text": [
      "\r",
      "[Stage 6:=============================>                             (1 + 1) / 2]\r"
     ]
    },
    {
     "name": "stderr",
     "output_type": "stream",
     "text": [
      "\r",
      "[Stage 8:>                                                          (0 + 1) / 1]\r"
     ]
    },
    {
     "name": "stdout",
     "output_type": "stream",
     "text": [
      "+-------+--------------------+----------+--------------------+--------------------+\n",
      "|summary|              titulo|     fecha|                link|              cuerpo|\n",
      "+-------+--------------------+----------+--------------------+--------------------+\n",
      "|  count|                1993|      1994|                1994|                1989|\n",
      "|   mean|                NULL|      NULL|                NULL|                NULL|\n",
      "| stddev|                NULL|      NULL|                NULL|                NULL|\n",
      "|    min|          \"\"\"Bury Me| My Love\"\"|    dice su creador\"|\"\"\"A la gente que...|\n",
      "|    max|“Tenemos paciente...|2025-01-20|https://www.lanac...|“¡Pon a remojar l...|\n",
      "+-------+--------------------+----------+--------------------+--------------------+\n",
      "\n"
     ]
    },
    {
     "name": "stderr",
     "output_type": "stream",
     "text": [
      "\r",
      "                                                                                \r"
     ]
    }
   ],
   "source": [
    "# Describir las estadísticas básicas\n",
    "print(\"\\nDescripción estadística de las columnas numéricas:\")\n",
    "df.describe().show()\n"
   ]
  },
  {
   "cell_type": "code",
   "execution_count": 7,
   "metadata": {
    "execution": {
     "iopub.execute_input": "2025-01-22T00:02:36.356114Z",
     "iopub.status.busy": "2025-01-22T00:02:36.355061Z",
     "iopub.status.idle": "2025-01-22T00:02:40.178695Z",
     "shell.execute_reply": "2025-01-22T00:02:40.175516Z"
    }
   },
   "outputs": [
    {
     "name": "stdout",
     "output_type": "stream",
     "text": [
      "Columna\t\tCantidad de Nulos\n",
      "----------------------------------------\n",
      "titulo\t\t1\n",
      "fecha\t\t0\n",
      "link\t\t0\n",
      "cuerpo\t\t5\n"
     ]
    }
   ],
   "source": [
    "from pyspark.sql.functions import col, sum\n",
    "# Crea una lista con el nombre de las columnas y la cantidad de nulos en cada una\n",
    "null_counts = [(column, df.filter(col(column).isNull()).count()) for column in df.columns]\n",
    "\n",
    "# Imprime la tabla\n",
    "print(\"Columna\\t\\tCantidad de Nulos\")\n",
    "print(\"-\" * 40)\n",
    "for column, count in null_counts:\n",
    "    print(f\"{column}\\t\\t{count}\")"
   ]
  },
  {
   "cell_type": "code",
   "execution_count": 8,
   "metadata": {
    "execution": {
     "iopub.execute_input": "2025-01-22T00:02:40.198326Z",
     "iopub.status.busy": "2025-01-22T00:02:40.196206Z",
     "iopub.status.idle": "2025-01-22T00:02:41.676526Z",
     "shell.execute_reply": "2025-01-22T00:02:41.673916Z"
    }
   },
   "outputs": [
    {
     "name": "stdout",
     "output_type": "stream",
     "text": [
      "Registros con valores nulos en alguna columna:\n"
     ]
    },
    {
     "name": "stderr",
     "output_type": "stream",
     "text": [
      "\r",
      "[Stage 21:>                                                         (0 + 1) / 1]\r",
      "\r",
      "                                                                                \r"
     ]
    },
    {
     "name": "stdout",
     "output_type": "stream",
     "text": [
      "+--------------------------------------------------------------------------+----------+----------------------------------------------------------------------------------------------------------------------------------------------------------------+-------------------------------------------------------------------------------------------------------------------------------------------------------------------------------------------------------------------------------------------------------------------------------------------------------------------------------------------------------------------------------------------------------------------------------------------------+\n",
      "|titulo                                                                    |fecha     |link                                                                                                                                                            |cuerpo                                                                                                                                                                                                                                                                                                                                                                                                                                           |\n",
      "+--------------------------------------------------------------------------+----------+----------------------------------------------------------------------------------------------------------------------------------------------------------------+-------------------------------------------------------------------------------------------------------------------------------------------------------------------------------------------------------------------------------------------------------------------------------------------------------------------------------------------------------------------------------------------------------------------------------------------------+\n",
      "|NULL                                                                      |2022-07-20|https://www.lanacion.com.ar/deportes/canchallena/fifa-23-el-trailer-oficial-cuando-es-el-lanzamiento-los-nuevos-torneos-y-todo-lo-que-hay-que-saber-nid20072022/|EA Sports presentó el tráiler oficial del FIFA 23, el último bajo este nombre, y se conocieron varios detalles en la antesala del lanzamiento. Por primera vez, el juego estará cruzado con varios detalles relacionados a la expansión del fútbol femenino a nivel global: Sam Kerr estará en la portada del juego, habrá clubes disponibles de dos ligas, tendrá la posibilidad de jugar el Mundial 2023 y sumará nuevos detalles de animación.|\n",
      "|\"Carlos Pérez: \"\"Comunicación y modelo de negocio deberían ser lo mismo\"\"\"|2017-01-18|https://www.lanacion.com.ar/economia/carlos-perez-comunicacion-y-modelo-de-negocio-deberian-ser-lo-mismo-nid1976919/                                            |NULL                                                                                                                                                                                                                                                                                                                                                                                                                                             |\n",
      "|Los Angeles: qué novedades trae el FIFA 2017                              |2016-06-14|https://www.lanacion.com.ar/tecnologia/los-angeles-que-novedades-trae-el-fifa-2017-nid1908907/                                                                  |NULL                                                                                                                                                                                                                                                                                                                                                                                                                                             |\n",
      "|Todo el color de la Tokyo Game Show, la mega feria de videojuegos         |2013-09-23|https://www.lanacion.com.ar/tecnologia/todo-el-color-de-la-tokyo-game-show-la-mega-feria-de-videojuegos-nid1621754/                                             |NULL                                                                                                                                                                                                                                                                                                                                                                                                                                             |\n",
      "|Eligen los mejores videojuegos de la historia                             |2012-11-21|https://www.lanacion.com.ar/tecnologia/eligen-los-mejores-videojuegos-de-la-historia-nid1528816/                                                                |NULL                                                                                                                                                                                                                                                                                                                                                                                                                                             |\n",
      "|Probamos la consola Sony PS Vita                                          |2012-06-18|https://www.lanacion.com.ar/tecnologia/probamos-la-sony-ps-vita-nid1482479/                                                                                     |NULL                                                                                                                                                                                                                                                                                                                                                                                                                                             |\n",
      "+--------------------------------------------------------------------------+----------+----------------------------------------------------------------------------------------------------------------------------------------------------------------+-------------------------------------------------------------------------------------------------------------------------------------------------------------------------------------------------------------------------------------------------------------------------------------------------------------------------------------------------------------------------------------------------------------------------------------------------+\n",
      "\n"
     ]
    }
   ],
   "source": [
    "# Filtrar los registros que tienen valores nulos en alguna columna\n",
    "df_with_nulls = df.filter(F.greatest(*[F.col(c).isNull().cast(\"int\") for c in df.columns]) == 1)\n",
    "\n",
    "# Mostrar los registros con nulos\n",
    "print(\"Registros con valores nulos en alguna columna:\")\n",
    "df_with_nulls.show(truncate=False)"
   ]
  },
  {
   "cell_type": "code",
   "execution_count": 9,
   "metadata": {
    "execution": {
     "iopub.execute_input": "2025-01-22T00:02:41.689221Z",
     "iopub.status.busy": "2025-01-22T00:02:41.685651Z",
     "iopub.status.idle": "2025-01-22T00:02:41.744975Z",
     "shell.execute_reply": "2025-01-22T00:02:41.742942Z"
    }
   },
   "outputs": [],
   "source": [
    "# Eliminar los registros que tienen algún valor nulo\n",
    "df_cleaned = df.dropna()"
   ]
  },
  {
   "cell_type": "code",
   "execution_count": 10,
   "metadata": {
    "execution": {
     "iopub.execute_input": "2025-01-22T00:02:41.755454Z",
     "iopub.status.busy": "2025-01-22T00:02:41.754343Z",
     "iopub.status.idle": "2025-01-22T00:02:46.012601Z",
     "shell.execute_reply": "2025-01-22T00:02:46.009083Z"
    }
   },
   "outputs": [
    {
     "name": "stderr",
     "output_type": "stream",
     "text": [
      "\r",
      "[Stage 26:=============================>                            (1 + 1) / 2]\r"
     ]
    },
    {
     "name": "stderr",
     "output_type": "stream",
     "text": [
      "\r",
      "                                                                                \r"
     ]
    },
    {
     "name": "stderr",
     "output_type": "stream",
     "text": [
      "\r",
      "[Stage 29:=============================>                            (1 + 1) / 2]\r"
     ]
    },
    {
     "name": "stderr",
     "output_type": "stream",
     "text": [
      "\r",
      "                                                                                \r"
     ]
    },
    {
     "name": "stdout",
     "output_type": "stream",
     "text": [
      "Columna\t\tCantidad de Nulos\n",
      "----------------------------------------\n",
      "titulo\t\t1\n",
      "fecha\t\t0\n",
      "link\t\t0\n",
      "cuerpo\t\t5\n"
     ]
    }
   ],
   "source": [
    "# Crea una lista con el nombre de las columnas y la cantidad de nulos en cada una\n",
    "null_counts = [(column, df.filter(col(column).isNull()).count()) for column in df.columns]\n",
    "\n",
    "# Imprime la tabla\n",
    "print(\"Columna\\t\\tCantidad de Nulos\")\n",
    "print(\"-\" * 40)\n",
    "for column, count in null_counts:\n",
    "    print(f\"{column}\\t\\t{count}\")"
   ]
  },
  {
   "cell_type": "code",
   "execution_count": 11,
   "metadata": {
    "execution": {
     "iopub.execute_input": "2025-01-22T00:02:46.022310Z",
     "iopub.status.busy": "2025-01-22T00:02:46.021216Z",
     "iopub.status.idle": "2025-01-22T00:02:47.211573Z",
     "shell.execute_reply": "2025-01-22T00:02:47.208023Z"
    }
   },
   "outputs": [
    {
     "name": "stderr",
     "output_type": "stream",
     "text": [
      "\r",
      "[Stage 35:>                                                         (0 + 1) / 1]\r",
      "\r",
      "                                                                                \r"
     ]
    },
    {
     "name": "stdout",
     "output_type": "stream",
     "text": [
      "+------+-----+----+------+\n",
      "|titulo|fecha|link|cuerpo|\n",
      "+------+-----+----+------+\n",
      "+------+-----+----+------+\n",
      "\n"
     ]
    }
   ],
   "source": [
    "\n",
    "# Verifica la fila correspondiente en el DataFrame de Spark\n",
    "fila_nula_spark = df.filter(F.col('fecha').isNull()).show(truncate = False)\n",
    "\n"
   ]
  },
  {
   "cell_type": "code",
   "execution_count": 12,
   "metadata": {
    "execution": {
     "iopub.execute_input": "2025-01-22T00:02:47.221033Z",
     "iopub.status.busy": "2025-01-22T00:02:47.219666Z",
     "iopub.status.idle": "2025-01-22T00:02:52.214947Z",
     "shell.execute_reply": "2025-01-22T00:02:52.213592Z"
    }
   },
   "outputs": [
    {
     "name": "stdout",
     "output_type": "stream",
     "text": [
      "Primeras filas con puntuación de sentimiento:\n"
     ]
    },
    {
     "name": "stderr",
     "output_type": "stream",
     "text": [
      "\r",
      "[Stage 37:>                                                         (0 + 1) / 1]\r"
     ]
    },
    {
     "name": "stdout",
     "output_type": "stream",
     "text": [
      "+--------------------+----------+--------------------+--------------------+-------------------+\n",
      "|              titulo|     fecha|                link|              cuerpo|          sentiment|\n",
      "+--------------------+----------+--------------------+--------------------+-------------------+\n",
      "|Estos son los vid...|2025-01-20|https://www.lanac...|En las últimas ho...|0.04999999999999999|\n",
      "|Estos son los vid...|2025-01-17|https://www.lanac...|Como cada semana,...|0.06666666666666667|\n",
      "|Lanzamientos de v...|2025-01-14|https://www.lanac...|Cada mes, la plat...|                0.0|\n",
      "+--------------------+----------+--------------------+--------------------+-------------------+\n",
      "only showing top 3 rows\n",
      "\n"
     ]
    },
    {
     "name": "stderr",
     "output_type": "stream",
     "text": [
      "\r",
      "                                                                                \r"
     ]
    }
   ],
   "source": [
    "# Definir una función para calcular el sentimiento usando TextBlob\n",
    "def get_sentiment(text):\n",
    "    if text is None:\n",
    "        return None\n",
    "    return TextBlob(text).sentiment.polarity\n",
    "\n",
    "# Registrar la función como una UDF (User Defined Function)\n",
    "sentiment_udf = F.udf(get_sentiment)\n",
    "\n",
    "# Crear la columna 'sentiment' basada en el cuerpo de la noticia\n",
    "df_with_sentiment = df.withColumn(\"sentiment\", sentiment_udf(F.col(\"cuerpo\")))\n",
    "\n",
    "# Mostrar algunas filas con la nueva columna de sentimiento\n",
    "print(\"Primeras filas con puntuación de sentimiento:\")\n",
    "df_with_sentiment.show(3)"
   ]
  },
  {
   "cell_type": "code",
   "execution_count": 13,
   "metadata": {
    "execution": {
     "iopub.execute_input": "2025-01-22T00:02:52.236616Z",
     "iopub.status.busy": "2025-01-22T00:02:52.232364Z",
     "iopub.status.idle": "2025-01-22T00:02:54.320898Z",
     "shell.execute_reply": "2025-01-22T00:02:54.312922Z"
    }
   },
   "outputs": [
    {
     "name": "stderr",
     "output_type": "stream",
     "text": [
      "\r",
      "[Stage 38:>                                                         (0 + 1) / 1]\r"
     ]
    },
    {
     "name": "stderr",
     "output_type": "stream",
     "text": [
      "\r",
      "                                                                                \r"
     ]
    },
    {
     "name": "stdout",
     "output_type": "stream",
     "text": [
      "+------+-----+----+------+---------+\n",
      "|titulo|fecha|link|cuerpo|sentiment|\n",
      "+------+-----+----+------+---------+\n",
      "+------+-----+----+------+---------+\n",
      "\n"
     ]
    }
   ],
   "source": [
    "\n",
    "# Verifica la fila correspondiente en el DataFrame de Spark\n",
    "fila_nula_spark = df_with_sentiment.filter(F.col('fecha').isNull()).show(truncate = False)\n",
    "\n"
   ]
  },
  {
   "cell_type": "code",
   "execution_count": 14,
   "metadata": {
    "execution": {
     "iopub.execute_input": "2025-01-22T00:02:54.335178Z",
     "iopub.status.busy": "2025-01-22T00:02:54.330874Z",
     "iopub.status.idle": "2025-01-22T00:03:27.721011Z",
     "shell.execute_reply": "2025-01-22T00:03:27.719282Z"
    }
   },
   "outputs": [
    {
     "name": "stderr",
     "output_type": "stream",
     "text": [
      "\r",
      "[Stage 40:>                                                         (0 + 2) / 2]\r"
     ]
    },
    {
     "name": "stderr",
     "output_type": "stream",
     "text": [
      "\r",
      "[Stage 40:=============================>                            (1 + 1) / 2]\r"
     ]
    },
    {
     "name": "stderr",
     "output_type": "stream",
     "text": [
      "\r",
      "                                                                                \r"
     ]
    }
   ],
   "source": [
    "df_with_sentiment.write.mode(\"overwrite\").csv(\"../data/processed/news.csv\", header=True)"
   ]
  },
  {
   "cell_type": "code",
   "execution_count": 15,
   "metadata": {
    "execution": {
     "iopub.execute_input": "2025-01-22T00:03:27.736808Z",
     "iopub.status.busy": "2025-01-22T00:03:27.735285Z",
     "iopub.status.idle": "2025-01-22T00:04:14.345523Z",
     "shell.execute_reply": "2025-01-22T00:04:14.342176Z"
    }
   },
   "outputs": [
    {
     "name": "stderr",
     "output_type": "stream",
     "text": [
      "\r",
      "[Stage 41:>                                                         (0 + 1) / 1]\r"
     ]
    },
    {
     "name": "stderr",
     "output_type": "stream",
     "text": [
      "\r",
      "                                                                                \r"
     ]
    },
    {
     "name": "stdout",
     "output_type": "stream",
     "text": [
      "+------+-----+----+------+---------+\n",
      "|titulo|fecha|link|cuerpo|sentiment|\n",
      "+------+-----+----+------+---------+\n",
      "+------+-----+----+------+---------+\n",
      "\n",
      "Filas nulas luego de pasar formato None\n"
     ]
    },
    {
     "name": "stderr",
     "output_type": "stream",
     "text": [
      "\r",
      "[Stage 43:>                                                         (0 + 2) / 2]\r"
     ]
    },
    {
     "name": "stderr",
     "output_type": "stream",
     "text": [
      "\r",
      "[Stage 43:=============================>                            (1 + 1) / 2]\r"
     ]
    },
    {
     "name": "stderr",
     "output_type": "stream",
     "text": [
      "\r",
      "                                                                                \r"
     ]
    },
    {
     "name": "stdout",
     "output_type": "stream",
     "text": [
      "     year  month  avg_sentiment      fecha\n",
      "1  2012.0    6.0      -0.004167 2012-06-01\n",
      "2  2012.0    7.0      -0.100000 2012-07-01\n",
      "3  2012.0    8.0       0.000000 2012-08-01\n",
      "4  2012.0    9.0       0.058333 2012-09-01\n",
      "5  2012.0   10.0      -0.120139 2012-10-01\n"
     ]
    }
   ],
   "source": [
    "import seaborn as sns\n",
    "import matplotlib.pyplot as plt\n",
    "import pyspark.sql.functions as F\n",
    "import pandas as pd\n",
    "\n",
    "# Verifica la fila correspondiente en el DataFrame de Spark\n",
    "fila_nula_spark = df_with_sentiment.filter(F.col('fecha').isNull()).show(truncate = False)\n",
    "print(\"Filas nulas luego de pasar formato\", fila_nula_spark)\n",
    "\n",
    "df_with_sentiment = df_with_sentiment.dropna(subset=['sentiment'])\n",
    "\n",
    "# Crear columnas de año y mes\n",
    "df_with_sentiment = df_with_sentiment.withColumn('year', F.year(F.col('fecha')))\n",
    "df_with_sentiment = df_with_sentiment.withColumn('month', F.month(F.col('fecha')))\n",
    "\n",
    "# Agrupar por año y mes en lugar de por fecha exacta\n",
    "sentiment_by_month = df_with_sentiment.groupBy('year', 'month').agg(F.avg('sentiment').alias('avg_sentiment')).orderBy('year', 'month')\n",
    "\n",
    "# Convertir a Pandas para visualización\n",
    "sentiment_pd = sentiment_by_month.toPandas()\n",
    "\n",
    "# Crear una columna de fecha combinando año y mes\n",
    "sentiment_pd['fecha'] = pd.to_datetime(sentiment_pd[['year', 'month']].assign(day=1))  # Usa el primer día del mes\n",
    "\n",
    "# Ordenar los valores\n",
    "sentiment_pd = sentiment_pd.sort_values('fecha')\n",
    "\n",
    "# Verificar los datos antes de la visualización\n",
    "print(sentiment_pd.head())\n",
    "\n",
    "# Visualización\n",
    "plt.figure(figsize=(14, 7))\n",
    "sns.lineplot(data=sentiment_pd, x='fecha', y='avg_sentiment', marker='o')\n",
    "plt.title('Evolución del Sentimiento Promedio de Noticias de Videojuegos (Agrupado por Mes)')\n",
    "plt.xlabel('Fecha')\n",
    "plt.ylabel('Sentimiento Promedio')\n",
    "plt.xticks(rotation=45)\n",
    "plt.tight_layout()\n",
    "plt.savefig('sentiment_trend_monthly.png')  # Guarda la gráfica como una imagen\n",
    "plt.close()\n",
    "\n",
    "# Paso 10: Sistema de Alerta\n",
    "#sentiment_pd['sentiment_change'] = sentiment_pd['avg_sentiment'].diff()\n",
    "#latest_change = sentiment_pd['sentiment_change'].iloc[-1] if not sentiment_pd['sentiment_change'].empty else None\n",
    "#latest_date = sentiment_pd['fecha'].iloc[-1] if not sentiment_pd['fecha'].empty else None\n",
    "\n",
    "# Comprobamos si latest_date es NaT antes de usar strftime\n",
    "#if pd.notna(latest_change) and pd.notna(latest_date):\n",
    "#    threshold = 0.2\n",
    "#    if latest_change <= -threshold:\n",
    "#        print(f\"ALERTA: El sentimiento promedio cayó {abs(latest_change):.2f} puntos en {latest_date.strftime('%B %Y')}.\")\n",
    "#        # Aquí podrías añadir código para enviar un correo electrónico o una notificación\n",
    "#    else:\n",
    "#        print(f\"El sentimiento promedio está estable en {latest_date.strftime('%B %Y')}.\")\n",
    "#else:\n",
    "#    print(\"No hay suficientes datos para generar una alerta o la fecha es inválida.\")\n"
   ]
  },
  {
   "cell_type": "code",
   "execution_count": 16,
   "metadata": {
    "execution": {
     "iopub.execute_input": "2025-01-22T00:04:14.358798Z",
     "iopub.status.busy": "2025-01-22T00:04:14.357739Z",
     "iopub.status.idle": "2025-01-22T00:04:14.385611Z",
     "shell.execute_reply": "2025-01-22T00:04:14.382493Z"
    }
   },
   "outputs": [
    {
     "name": "stdout",
     "output_type": "stream",
     "text": [
      "   year  month  avg_sentiment fecha\n",
      "0   NaN    NaN            0.0   NaT\n"
     ]
    }
   ],
   "source": [
    "# Suponiendo que 'sentiment_pd' es tu DataFrame\n",
    "nulos_en_fecha = sentiment_pd[sentiment_pd['fecha'].isna()]\n",
    "\n",
    "# Mostrar las filas donde la columna 'fecha' tiene valores nulos\n",
    "print(nulos_en_fecha)\n"
   ]
  },
  {
   "cell_type": "code",
   "execution_count": 17,
   "metadata": {
    "execution": {
     "iopub.execute_input": "2025-01-22T00:04:14.396655Z",
     "iopub.status.busy": "2025-01-22T00:04:14.395328Z",
     "iopub.status.idle": "2025-01-22T00:04:15.821102Z",
     "shell.execute_reply": "2025-01-22T00:04:15.816004Z"
    }
   },
   "outputs": [
    {
     "name": "stdout",
     "output_type": "stream",
     "text": [
      "   year  month  avg_sentiment fecha\n",
      "0   NaN    NaN            0.0   NaT\n"
     ]
    },
    {
     "name": "stdout",
     "output_type": "stream",
     "text": [
      "+------+-----+----+------+---------+----+-----+\n",
      "|titulo|fecha|link|cuerpo|sentiment|year|month|\n",
      "+------+-----+----+------+---------+----+-----+\n",
      "+------+-----+----+------+---------+----+-----+\n",
      "\n"
     ]
    }
   ],
   "source": [
    "# Filtra la fila con el valor nulo en Pandas\n",
    "fila_nula = sentiment_pd[sentiment_pd['fecha'].isna()]\n",
    "print(fila_nula)\n",
    "\n",
    "# Verifica la fila correspondiente en el DataFrame de Spark\n",
    "fila_nula_spark = df_with_sentiment.filter(F.col('fecha').isNull()).show(truncate = False)\n"
   ]
  }
 ],
 "metadata": {
  "kernelspec": {
   "display_name": "Python 3",
   "language": "python",
   "name": "python3"
  },
  "language_info": {
   "codemirror_mode": {
    "name": "ipython",
    "version": 3
   },
   "file_extension": ".py",
   "mimetype": "text/x-python",
   "name": "python",
   "nbconvert_exporter": "python",
   "pygments_lexer": "ipython3",
   "version": "3.13.1"
  }
 },
 "nbformat": 4,
 "nbformat_minor": 2
}
