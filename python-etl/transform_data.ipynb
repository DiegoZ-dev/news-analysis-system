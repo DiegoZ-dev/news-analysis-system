{
 "cells": [
  {
   "cell_type": "code",
   "execution_count": 1,
   "metadata": {
    "execution": {
     "iopub.execute_input": "2024-09-13T21:45:31.920791Z",
     "iopub.status.busy": "2024-09-13T21:45:31.919158Z",
     "iopub.status.idle": "2024-09-13T21:45:36.006391Z",
     "shell.execute_reply": "2024-09-13T21:45:36.001905Z"
    }
   },
   "outputs": [],
   "source": [
    "from pyspark.sql import SparkSession\n",
    "from pyspark.sql import functions as F\n",
    "from textblob import TextBlob\n"
   ]
  },
  {
   "cell_type": "code",
   "execution_count": 2,
   "metadata": {
    "execution": {
     "iopub.execute_input": "2024-09-13T21:45:36.036351Z",
     "iopub.status.busy": "2024-09-13T21:45:36.033712Z",
     "iopub.status.idle": "2024-09-13T21:46:09.269280Z",
     "shell.execute_reply": "2024-09-13T21:46:09.262976Z"
    }
   },
   "outputs": [
    {
     "name": "stderr",
     "output_type": "stream",
     "text": [
      "24/09/13 18:45:42 WARN Utils: Your hostname, linux resolves to a loopback address: 127.0.1.1; using 10.3.232.224 instead (on interface wlp3s0)\n",
      "24/09/13 18:45:42 WARN Utils: Set SPARK_LOCAL_IP if you need to bind to another address\n",
      "Setting default log level to \"WARN\".\n",
      "To adjust logging level use sc.setLogLevel(newLevel). For SparkR, use setLogLevel(newLevel).\n",
      "24/09/13 18:45:45 WARN NativeCodeLoader: Unable to load native-hadoop library for your platform... using builtin-java classes where applicable\n",
      "24/09/13 18:46:00 WARN GarbageCollectionMetrics: To enable non-built-in garbage collector(s) List(G1 Concurrent GC), users should configure it(them) to spark.eventLog.gcMetrics.youngGenerationGarbageCollectors or spark.eventLog.gcMetrics.oldGenerationGarbageCollectors\n",
      "                                                                                \r"
     ]
    }
   ],
   "source": [
    "# Crear una sesión de Spark\n",
    "spark = SparkSession.builder.appName(\"NewsDataInspection\").getOrCreate()\n",
    "\n",
    "# Cargar el archivo CSV\n",
    "file_path = '../data/raw/news.csv'\n",
    "df = spark.read.csv(file_path, header=True, inferSchema=True)"
   ]
  },
  {
   "cell_type": "code",
   "execution_count": 3,
   "metadata": {
    "execution": {
     "iopub.execute_input": "2024-09-13T21:46:09.290001Z",
     "iopub.status.busy": "2024-09-13T21:46:09.288323Z",
     "iopub.status.idle": "2024-09-13T21:46:11.797446Z",
     "shell.execute_reply": "2024-09-13T21:46:11.795890Z"
    }
   },
   "outputs": [
    {
     "name": "stderr",
     "output_type": "stream",
     "text": [
      "[Stage 2:>                                                          (0 + 2) / 2]\r"
     ]
    },
    {
     "name": "stdout",
     "output_type": "stream",
     "text": [
      "\n",
      "Dimensiones del DataFrame: 1928 filas, 4 columnas\n"
     ]
    },
    {
     "name": "stderr",
     "output_type": "stream",
     "text": [
      "                                                                                \r"
     ]
    }
   ],
   "source": [
    "# Contar el número de filas y columnas\n",
    "num_rows = df.count()\n",
    "num_cols = len(df.columns)\n",
    "print(f\"\\nDimensiones del DataFrame: {num_rows} filas, {num_cols} columnas\")"
   ]
  },
  {
   "cell_type": "code",
   "execution_count": 4,
   "metadata": {
    "execution": {
     "iopub.execute_input": "2024-09-13T21:46:11.805917Z",
     "iopub.status.busy": "2024-09-13T21:46:11.805191Z",
     "iopub.status.idle": "2024-09-13T21:46:12.913126Z",
     "shell.execute_reply": "2024-09-13T21:46:12.911464Z"
    }
   },
   "outputs": [
    {
     "name": "stdout",
     "output_type": "stream",
     "text": [
      "Primeras filas del DataFrame:\n",
      "+--------------------------------------------------------------------------------------------------------------+----------+--------------------------------------------------------------------------------------------------------------------------------------------------------+---------------------------------------------------------------------------------------------------------------------------------------------------------------------------------------------------------------------------------------------------------------------------------------------------------------------------------------------------------------------------------------------------------------------------------------------------------------------------------------------------------------------------------------------------------------------------------------------------------------------------------------------------------------------------------------------------------------------------------------------------------------------------------------------------------------------------------------------------------------------------------------------------------------------------------------------------------------------------------------------------------------------------------------------------------------------------------------------------------------------------------------------------------------------------------------------------------------------------------------------------------------------------------------------------------------------------------------------------------------------------------------------------------------------------------------------------------------------------------------------------------------------------------------------------------------------------------------------------------------------------------------------------------------------------------------------------------------------------------------------------------------------------------------------------------------------------------------------------------------------------------------------------------------------------------------------------------------------------------------------------------------------------------------------------------------------------------------------------------------------------------------------------------------------------------------------------------------------------------------------------------------------------------------------------------------------------------------------------------------------------------------------------------------------------------------------------------------------------------------------------------------------------------------------------------------------------------------------------------------------------------------------------------------------------------------------------------------------------------------------------------------------------------------------------------------------------------------------------------------------------------------------------------------------------------------------------------------------------------------------------------------------------------------------------------------------------------------------------------------------------------------------------------------------------------------------------------------------------------------------------------------------------------------------------------------------------------------------------------------------------------------------------------------------------------------------------------------------------------------------------------------------------------------------------------------------------------------------------------------------------------------------------------------------------------------------------------------------------------------------------------------------------------------------------------------------------------------------------------------------------------------------------------------------------------------------------------------------------------------------------------------------------------------------------------------------------------------------------------------------------------------------------------------------------------------------------------------------------------------------------------------------------------------------------------------------------------------------------------------------------------------------------------------------------------------------------------------------------------------------------------------------------------------------------------------------------------------------------------------------------------------------------------------------------------------------------------------------------------------------------------------------------------------------------------------------------------------------------------------------------------------------------------------------------------------------------------------------------------------------------------------------------------------------------------------------------------------------------------------------------------------------------------------------------------------------------------------------------------------------------------------------------------------------------------------------------------------------------------------------------------------------------------------------------------------------------------------------------------------------------------------------------------------------------------------------------------------------------------------------------------------------------------------------------------------------------------------------------------------------------------------------------------------------------------------------------------------------------------------------------------------------------------------------------------------------------------------------------------------------------------------------------------------------------------------------------------------------------------------------------------------------------------------------------------------------------------------------------------------------------------------------------------------------------------------------------------------------------------------------------------------------------------------------------------------------------------------------------------------------------------------------------------------------------------------------------------------------------------------------------------------------------------------------------------------------------------------------------------------------------------------------------------------------------------------------------------------------+\n",
      "|titulo                                                                                                        |fecha     |link                                                                                                                                                    |cuerpo                                                                                                                                                                                                                                                                                                                                                                                                                                                                                                                                                                                                                                                                                                                                                                                                                                                                                                                                                                                                                                                                                                                                                                                                                                                                                                                                                                                                                                                                                                                                                                                                                                                                                                                                                                                                                                                                                                                                                                                                                                                                                                                                                                                                                                                                                                                                                                                                                                                                                                                                                                                                                                                                                                                                                                                                                                                                                                                                                                                                                                                                                                                                                                                                                                                                                                                                                                                                                                                                                                                                                                                                                                                                                                                                                                                                                                                                                                                                                                                                                                                                                                                                                                                                                                                                                                                                                                                                                                                                                                                                                                                                                                                                                                                                                                                                                                                                                                                                                                                                                                                                                                                                                                                                                                                                                                                                                                                                                                                                                                                                                                                                                                                                                                                                                                                                                                                                                                                                                                                                                                                                                                                                                                                                                                                                                                                                                                                                                                                                                                                                                                                                                                                                                                                                                                                                                                       |\n",
      "+--------------------------------------------------------------------------------------------------------------+----------+--------------------------------------------------------------------------------------------------------------------------------------------------------+---------------------------------------------------------------------------------------------------------------------------------------------------------------------------------------------------------------------------------------------------------------------------------------------------------------------------------------------------------------------------------------------------------------------------------------------------------------------------------------------------------------------------------------------------------------------------------------------------------------------------------------------------------------------------------------------------------------------------------------------------------------------------------------------------------------------------------------------------------------------------------------------------------------------------------------------------------------------------------------------------------------------------------------------------------------------------------------------------------------------------------------------------------------------------------------------------------------------------------------------------------------------------------------------------------------------------------------------------------------------------------------------------------------------------------------------------------------------------------------------------------------------------------------------------------------------------------------------------------------------------------------------------------------------------------------------------------------------------------------------------------------------------------------------------------------------------------------------------------------------------------------------------------------------------------------------------------------------------------------------------------------------------------------------------------------------------------------------------------------------------------------------------------------------------------------------------------------------------------------------------------------------------------------------------------------------------------------------------------------------------------------------------------------------------------------------------------------------------------------------------------------------------------------------------------------------------------------------------------------------------------------------------------------------------------------------------------------------------------------------------------------------------------------------------------------------------------------------------------------------------------------------------------------------------------------------------------------------------------------------------------------------------------------------------------------------------------------------------------------------------------------------------------------------------------------------------------------------------------------------------------------------------------------------------------------------------------------------------------------------------------------------------------------------------------------------------------------------------------------------------------------------------------------------------------------------------------------------------------------------------------------------------------------------------------------------------------------------------------------------------------------------------------------------------------------------------------------------------------------------------------------------------------------------------------------------------------------------------------------------------------------------------------------------------------------------------------------------------------------------------------------------------------------------------------------------------------------------------------------------------------------------------------------------------------------------------------------------------------------------------------------------------------------------------------------------------------------------------------------------------------------------------------------------------------------------------------------------------------------------------------------------------------------------------------------------------------------------------------------------------------------------------------------------------------------------------------------------------------------------------------------------------------------------------------------------------------------------------------------------------------------------------------------------------------------------------------------------------------------------------------------------------------------------------------------------------------------------------------------------------------------------------------------------------------------------------------------------------------------------------------------------------------------------------------------------------------------------------------------------------------------------------------------------------------------------------------------------------------------------------------------------------------------------------------------------------------------------------------------------------------------------------------------------------------------------------------------------------------------------------------------------------------------------------------------------------------------------------------------------------------------------------------------------------------------------------------------------------------------------------------------------------------------------------------------------------------------------------------------------------------------------------------------------------------------------------------------------------------------------------------------------------------------------------------------------------------------------------------------------------------------------------------------------------------------------------------------------------------------------------------------------------------------------------------------------------------------------------------------------------------------------------------------------------------------------------------------------+\n",
      "|Adelanto del The Legend of Zelda: Echoes of Wisdom: así será el mundo del vacío y el modo espadachina         |2024-08-30|https://www.lanacion.com.ar/tecnologia/adelanto-del-the-legend-of-zelda-echoes-of-wisdom-asi-sera-el-mundo-del-vacio-y-el-modo-espadachina-nid30082024/ |El 26 de septiembre llegará The Legend of Zelda: Echoes of Wisdom, una aventura protagonizada por la princesa Zelda, que deberá explorar el mundo del vacío para encontrar a los habitantes e Hyrule desaparecidos, y donde podrá conseguir el modo espadachina. En The Legend of Zelda: Echoes of Wisdom, Hyrule se ha llenado de extrañas brechas oscuras que hacen desaparecer a las personas, y también a Link. Por ello, Zelda se embarca en un viaje junto al hada Tri y un cetro que le permite realizar réplicas de objetos. Nintendo ha compartido este viernes nuevos detalles del mundo del vacío, que Zelda y Tri explorarán para localizar y rescatar a los desaparecidos. Para ello, deberán entrar a través de las grietas, que llevan a distintas mazmorras con misterios por resolver. Al explorar el mundo del vacío, Zelda se encontrará con una espada que le permitirá adquirir el modo espadachina por tiempo limitado. Con esta habilidad podrá abrir nuevos caminos bloqueados, abatir enemigos por sí misma y combatir a la vez que las réplicas que invoque. Zelda encontrará, asimismo, personajes que les serán de ayuda durante su aventura. Uno de ellos es Dampé, un ingeniero de artilugios de relojería, tiene una habilidad especial para construir autómatas. Una vez que estos se activan, pueden desatar poderosos efectos, pero que pueden romperse si sufren demasiado daño. El 26 de septiembre llegará The Legend of Zelda: Echoes of Wisdom, y también se pondrá a la venta una Nintendo Switch Lite Edición Hyrule dorada con inspiración en la saga The Legend of Zelda, que incluye una suscripción individual de doce meses a Nintendo Switch Online + Paquete de expansión.                                                                                                                                                                                                                                                                                                                                                                                                                                                                                                                                                                                                                                                                                                                                                                                                                                                                                                                                                                                                                                                                                                                                                                                                                                                                                                                                                                                                                                                                                                                                                                                                                                                                                                                                                                                                                                                                                                                                                                                                                                                                                                                                                                                                                                                                                                                                                                                                                                                                                                                                                                                                                                                                                                                                                                                                                                                                                                                                                                                                                                                                                                                                                                                                                                                                                                                                                                                                                                                                                                                                                                                                                                                                                                                                                                                                                                                                                                                                                                                                                                                                                                                                                                                                                                                                                                                                                                                                                                                                                                                                                                                                                                                                                                                                                                                                                                                                                                                                                                                                                                                                                                                   |\n",
      "|Un fiasco: después de 11 días Sony retira el juego Concord de las tiendas y devolverá el dinero a sus usuarios|2024-09-03|https://www.lanacion.com.ar/tecnologia/un-fiasco-despues-de-11-dias-sony-retira-el-juego-concord-de-las-tiendas-y-devolvera-el-dinero-a-sus-nid03092024/|Sony y Firewalk Studios anunciaron hoy que retirarán de las tiendas el videojuego Concord, once días después de su debut, y que reembolsarán las compras a los jugadores que pagaron por el título; los servidores se desconectarán este viernes 6 de septiembre. Concord prometía ser uno de los juegos del año en PlayStation 5 y PC, pero está resultando un fiasco: esperaban vender millones de licencias, pero en estos once días en el mercado vendió unas 25.000 copias, según estimaciones publicadas por IGN: 10.000 en Steam y 15.000 en la tienda de PlayStation, a un precio de entre 35 y 40 dólares por el juego. “Si bien muchas cualidades de la experiencia resonaron en los jugadores, también reconocemos que otros aspectos del juego y nuestro lanzamiento inicial no funcionaron como esperábamos -dijo en un comunicado Ryan Ellis, de Firewalk Studios-. Por lo tanto, en este momento, hemos decidido desconectar el juego a partir del 6 de septiembre de 2024 y explorar opciones, incluidas aquellas que llegarán mejor a nuestros jugadores. Mientras determinamos el mejor camino a seguir, las ventas de Concord cesarán de inmediato y comenzaremos a ofrecer un reembolso completo para todos los jugadores que hayan comprado el juego para PS5 o PC. Si compraste el juego para PlayStation 5 en PlayStation Store o PlayStation Direct, se emitirá un reembolso a tu método de pago original.” Concord debutó el 23 de agosto como una alternativa más en el nutrido segmento de los juegos de acción con héroes multijugador, donde hay alternativas gratis como Overwatch o Valorant, o como lo describía la propia PlayStation en su presentación: “Concord es un juego de disparos en primera persona y multijugador de 5c5 [5 contra 5] personajes que se desarrolla en la galaxia Concord. Construimos Concord como un gran homenaje hacia las aventuras con aspiraciones de ciencia ficción, inspirado en nuestros animes, obras de arte, películas y series de TV. Junto a nuestra fascinación por los juegos multijugador, nos dedicamos a crear esos momentos inolvidables y contrarreloj con amigos, y a crear una sensación de aventura al descubrir más de la galaxia, los personajes con los que juegas y los mundos que visitas cada vez que inicias sesión.” Tal como explicaba uno de los desarrolladores, Firewalk Studios llevaba ocho años desarrollando este título. Si el juego tuvo efectivamente 25.000 unidades vendidas, a 40 dólares, da una facturación de US$ 1 millón... para un juego cuyo desarrollo está estimado en US$ 100 millones. Del otro lado está un juego exitoso como Spider-man 2, que lleva vendidas unas 11 millones de copias, lo que representa una facturación cercana a los 770 millones de dólares.                                                                                                                                                                                                                                                                                                                                                                                                                                                                                                                                                                                                                                                                                                                                                                                                                                                                                                                                                                                                                                                                                                                                                                                                                                                                                                                                                                                                                                                                                                                                                                                                                                                                                                                                                                                                                                                                                                                                                                                                                                                                                                                                                                                                                                                                                                                                                                                                                                                                                                                                                                                                                                                                                                                                                                                                                                                                                                                                                                                                                                                                                                                                                                                                                                                                                                                                                                                                                                                                                                                                                                                                                                                                                                                                                                                                                                                                                                                                                                                                                                                  |\n",
      "|Project DualPlay: así es la notebook de Acer que viene con un gamepad incorporado                             |2024-09-05|https://www.lanacion.com.ar/tecnologia/project-dualplay-asi-es-la-notebook-de-acer-que-viene-con-un-gamepad-incorporado-nid05092024/                    |En el marco de la feria tecnológica IFA 2024, que abre sus puertas este viernes en Berlín, Acer presentó varias computadoras portátiles, pero dos de ellas llamaron la atención, sobre todo en el ámbito gamer. Una es, por ahora, un concepto, sin fecha de salida; la otra, un dispositivo que se suma a un grupo cada vez más nutrido de eqiupos. El concepto es la Acer Project DualPlay, una notebook gamer que se diferencia del resto por un elemento clave: trae su propio gamepad inalámbrico integrado: se ubica en la zona del touchpad, queda enganchado por un imán y se desengancha en forma electromagnética con un botón (al estilo de lo que probó hace unos años Razer con su smartphone y su notebook, Project Linda), que libera el touchpad entero y revela, escondido en el lado que queda en el interior del equipo, un gamepad inalámbrico. Pero hay más: los controles del gamepad se pueden desmontar, al estilo de los Joy-con de la Nintendo Switch, para hacer dos joysticks de funcionamiento individual, y permitir que dos personas jueguen al mismo juego en la notebook, como la Switch en modo escritorio. Pero todavía falta algo más: al hacer todo esto, el mecanismo también extiende dos parlantes de 5 watts que estaban ocultos en el chasis y que salen como alitas de los laterales del equipo para ofrecer un sonido envolvente. Incluso tiene iluminación RGB en el teclado, el bisel de la pantalla y el área del trackpad. No hay más datos sobre el tamaño de la pantalla o el poder de la computadora en sí, aunque eso es más fácil de imaginar. Por ahora, lamentablemente, es solo un concepto, aunque la compañía tiene un prototipo funcionando en la feria, que deja en claro cómo es su funcionamiento. La compañía también mostró su nueva consola de mano, la Nitro Blaze 7, que sale a competir con otras consolas de mano como la ROG Ally X de Asus y la Steam Deck, entre otros equipos: es un dispositivo con una pantalla táctil IPS de 7 pulgadas, con resolución Full HD y 144 Hz de tasa de refresco. La consola lleva un procesador AMD Ryzer 8840HS con gráficos Radeon 780M, que complementa con 16 GB de RAM y hasta 2 terabytes de almacenamiento. El equipo corre Windows 11, tiene una batería de 50 Wh y dos puertos USB-C para carga rápida y conexión de accesorios; el peso es de 670 gramos. Todavía se desconoce su precio.                                                                                                                                                                                                                                                                                                                                                                                                                                                                                                                                                                                                                                                                                                                                                                                                                                                                                                                                                                                                                                                                                                                                                                                                                                                                                                                                                                                                                                                                                                                                                                                                                                                                                                                                                                                                                                                                                                                                                                                                                                                                                                                                                                                                                                                                                                                                                                                                                                                                                                                                                                                                                                                                                                                                                                                                                                                                                                                                                                                                                                                                                                                                                                                                                                                                                                                                                                                                                                                                                                                                                                                                                                                                                                                                                                                                                                                                                                                                                                                                                                                                                                                                                                                                                                                                                                                                                                                                                                 |\n",
      "|La Argentina va por otro Mundial: el de Fortnite, con K1ng y Fazer compitiendo en pareja                      |2024-09-06|https://www.lanacion.com.ar/tecnologia/esports/la-argentina-va-por-otro-mundial-el-de-fortnite-con-k1ng-y-fazer-compitiendo-en-pareja-nid06092024/      |Argentina vuelve a decir presente en otro evento internacional de competencia de elite en videojuegos. Y será nada más y nada menos que en el torneo más importante de todos en Fortnite, uno de los más jugados del planeta. Luego de las brillantes actuaciones en Valorant de Leviatán, en Counter de 9z Globant y por qué no de MartoGalde en Pokémon Go, ahora será el turno de Thiago “K1ng” Lapp y Fazer (conocido públicamente solo con su apodo) quienes competirán en el Mundial de Fortnite de duos, el FNCS 2024 Global Championship que, contando las instancias eliminatorias, repartirá un total de 7,6 millones de dólares en premios. Con dos días de competencia este fin de semana (7 y 8 de septiembre), los argentinos ya se encuentran en Fort Worth, Texas, donde serán una de las 50 parejas clasificadas al evento final que tendrá como premios 400.000 dólares para los primeros, 300.000 para los segundos, 200.000 para los terceros y 160.000 para los cuartos, entre otros premios con un mínimo de 6000. El evento se transmitirá en vivo por las redes de Fortnite desde el Dickes Arena tejano. Los argentinos lograron su clasificación al ganar el torneo Mayor que se disputó en Brasil a finales de julio. Se competirá en dos jornadas con 12 partidas en total y se definirán los puestos por acumulación de puntos, que se otorgan por posición y bajas para la tabla global que otorgará la ansiada copa. Thiago, más conocido como K1ng, se hizo famoso en la Argentina cuando con tan solo 13 años logró un premio casi millonario en el entonces Mundial de Fortnite en 2019 y, se había llevado un pozo de 900.000 dólares por su quinto puesto individual. Hoy ya con 18 años, parte del equipo Dragons, y con un reconocido nombre en la escena de los esports, competirá por la hazaña y el título junto a su compañero Fazer, quién representa individualmente al equipo ShindeN; pero para esta competencia ambos dejarán de lado sus camisetas para vestir la celeste y blanca y llevar otra vez a la bandera argentina a lo más alto en los esports.                                                                                                                                                                                                                                                                                                                                                                                                                                                                                                                                                                                                                                                                                                                                                                                                                                                                                                                                                                                                                                                                                                                                                                                                                                                                                                                                                                                                                                                                                                                                                                                                                                                                                                                                                                                                                                                                                                                                                                                                                                                                                                                                                                                                                                                                                                                                                                                                                                                                                                                                                                                                                                                                                                                                                                                                                                                                                                                                                                                                                                                                                                                                                                                                                                                                                                                                                                                                                                                                                                                                                                                                                                                                                                                                                                                                                                                                                                                                                                                                                                                                                                                                                                                                                                                                                                                                                                                                                                                                                                                                                                                                                                                                                                                                    |\n",
      "|Astro Bot en PlayStation 5: probamos el juego del momento y hablamos con su director creativo                 |2024-09-10|https://www.lanacion.com.ar/tecnologia/astro-bot-en-playstation-5-probamos-el-juego-del-momento-y-hablamos-con-su-director-creativo-nid10092024/        |PlayStation venía de unas semanas de críticas y malas noticias tras la cancelación del juego Concord a 10 días de su lanzamiento, pero para salir de las malas tenía un As guardado en la manga. Allá por el lanzamiento de la PS5 habíamos tenido una especie de “demo técnica”, llamada Astro’s PlayRoom que venía instalada con la compra de la consola. Para sorpresa de muchos, este juego de corta duración, que mediante niveles y plataformas nos mostraba cómo era la experiencia sensorial del nuevo joystick DualSense, lentamente se empezaba a convertir en una de las joyitas de la consola. El tiempo pasó y muchas personas (incluidas las pequeñas personitas que habitan mi casa), si bien jugaban otros títulos, de vez en cuando volvían a recorrer los campos digitales con la “mascota no oficial de Play”, el adorable robotito Astro. El tiempo pasó, y claramente Sony sabía que tenía un diamante que pulir: por eso, este 6 de septiembre Team Asobi anunció la llegada de una nueva versión del juego, ahora como un título completo. “Era un deseo que teníamos desde que comenzamos con la versión que venía con la PS5″, le cuenta a LA NACION Nicolas Doucet, director del estudio y director creativo del nuevo juego, a lo que agrega: “Queríamos recorrer décadas de historia de Play y demostrar que podíamos hacer un plataformero sólido”. Con sus orígenes en una corta versión de VR, Astro es la joya de Team Asobi, que tiene base en Japón, pero está en manos de un director francés. El nuevo Astro Bot, a diferencia de su predecesor gratuito, es pago (60 dólares), pero continuará con el recorrido histórico de los videojuegos de una manera muy particular. En la versión previa teníamos que conseguir partes de consolas clásicas y todos sus accesorios; ahora vamos a recorrer una galaxia sometida por un caricaturesco monstruo verde que secuestró a varios robots amigos, y muchos de ellos son caracterizaciones de los personajes más icónicos de la historia del gaming. “El proceso de conseguir las licencias y sumar a personajes clásicos de los videojuegos parece complicado, pero por suerte no lo fue. Que todo el mundo se sume y esté de acuerdo parecía un lío, y creíamos quizás que íbamos a conseguir la mitad de los que queríamos, pero la buena onda no solo de PS Studios, sino de los demás estudios fue alucinante. No solo nos dejaron usar a sus personajes, sino que aportaban ideas y detalles para que el tributo sea aún mejor”, cuenta Nicolas, dado que en Astro vamos a poder ver gags y situaciones de varios juegos caracterizados como robots amigos de nuestro robot, que si bien ya andan dando vueltas imágenes en las redes, no te los vamos a spoilear, pero si te vamos a adelantar que la idea del estudio, según Doucet, es que sea transgeneracional para que lo jueguen y disfruten grandes y chicos; por eso que vamos a ver personajes de todas la eras de consolas. Pero el fuerte del juego no solo está en sus visuales pulidas, su humor o su tributo constante a la historia de los juegos con pequeños detalles, sino en sus mecánicas. Astro expande la idea del juego inicial para que cada uno de los niveles tenga su propia mecánica para interactuar con el DualSense. Vamos a encontrar momentos para usar el sensor de movimiento, otros para las sensaciones de texturas y cada nivel tendrá su propia impronta, como convertirnos en miniatura en un nivel, en una aspiradora de gelatinas en otro, en un mono trepador o hasta en un personaje icónico en otro (no, no te vamos a decir quién). Todas estas mecánicas usan distintas cualidades del control, como los gatillos adaptativos, el sonido, el movimiento y hasta el micrófono, en donde vamos a tener que soplar para mover las plantas. El juego es single player y tiene una duración aproximada de entre 15 y 20 horas si no te ponés quisquilloso. Si tenés ganas, podés recoger todos los ítems que podés encontrar y desbloquear, ya que durante los niveles vamos a tener que rescatar robots, conseguir partes de un rompecabezas y luego juntar monedas para usar en un “gacha” para conseguir los dioramas de los juegos clásicos que vas a poder ver e interactuar en el “lobby”, tal como era con las consolas viejas en el juego original. Pero con respecto a la duración del juego, que para muchos es corto, Doucet asegura que es consciente que podría ser más largo, aunque tiene un por qué: “¿Cuántos juegos tienen aun sin terminar? Creo que hoy en día no es necesario hacer un juego de 40 horas, obvio que pensamos que sea también mundo abierto o algo así, pero para ser honesto, queríamos controlar la calidad total, que esté curado cada minuto de juego”, a lo que agrega: “Creo que es mejor tener 12 o 15 horas que se sostengan de manera sólida y constante a que tenga relleno de horas que te gustaría poder adelantar. Sí, históricamente las revistas y reseñas hablan de la duración, pero creo que deberíamos ir por calidad y no cantidad”. En cuanto poder jugar de a dos o más, el director también adelantó que tendremos un DLC gratuito en el futuro, y no dudó en confesar que la idea inicial estaba, pero que se dieron cuenta de que no era el camino, por lo menos, por ahora: “consideramos la idea de un modo cooperativo de sillón, pero la razón por la que no lo hicimos es que queríamos fomentar que la gente explore cada rincón de los niveles, que dé la vuelta, mire abajo y arriba en todos lados, y esa exploración 360 no se iba a poder hacer si no tenés el control total de la cámara. Para que se juegue de a dos tenés que sacrificar ese control”, confiesa el francés, pero le suma un dato clave: “Esto no quiere decir que en un futuro cercano no vayamos a intentar hacer un verdadero multiplayer, como un Party Game. Realmente nos encanta la idea de jugar con otros, aunque dicho esto, si bien Astro Bot es un single player, es uno de esos juegos que por su humor y mecánicas se puede jugar de a dos pasándose el control e intentando cada uno diferentes partes”. El juego no peca de repetitivo, y con su cámara 360 en tercera persona te permite tomarte tu tiempo para ir a ver cada detallito, porque en cada nivel hay decenas de gags, chistes y detalles ocultos para disfrutar. Lo mismo pasa con sus niveles decisivos, donde los jefes finales son tributos a juegos clásicos y su tamaño los hace desafiantes, pero a la vez viables para todas las edades y tipos de gamer. Gamers, o no tanto, que van a disfrutar los tributos y la sutileza de los detalles que le dan ese extra a un juego que sorprendió a todos y que quizás llegó para quedarse como la franquicia plataformera de Play que tanto se extrañaba desde Crash Bandicoot.|\n",
      "+--------------------------------------------------------------------------------------------------------------+----------+--------------------------------------------------------------------------------------------------------------------------------------------------------+---------------------------------------------------------------------------------------------------------------------------------------------------------------------------------------------------------------------------------------------------------------------------------------------------------------------------------------------------------------------------------------------------------------------------------------------------------------------------------------------------------------------------------------------------------------------------------------------------------------------------------------------------------------------------------------------------------------------------------------------------------------------------------------------------------------------------------------------------------------------------------------------------------------------------------------------------------------------------------------------------------------------------------------------------------------------------------------------------------------------------------------------------------------------------------------------------------------------------------------------------------------------------------------------------------------------------------------------------------------------------------------------------------------------------------------------------------------------------------------------------------------------------------------------------------------------------------------------------------------------------------------------------------------------------------------------------------------------------------------------------------------------------------------------------------------------------------------------------------------------------------------------------------------------------------------------------------------------------------------------------------------------------------------------------------------------------------------------------------------------------------------------------------------------------------------------------------------------------------------------------------------------------------------------------------------------------------------------------------------------------------------------------------------------------------------------------------------------------------------------------------------------------------------------------------------------------------------------------------------------------------------------------------------------------------------------------------------------------------------------------------------------------------------------------------------------------------------------------------------------------------------------------------------------------------------------------------------------------------------------------------------------------------------------------------------------------------------------------------------------------------------------------------------------------------------------------------------------------------------------------------------------------------------------------------------------------------------------------------------------------------------------------------------------------------------------------------------------------------------------------------------------------------------------------------------------------------------------------------------------------------------------------------------------------------------------------------------------------------------------------------------------------------------------------------------------------------------------------------------------------------------------------------------------------------------------------------------------------------------------------------------------------------------------------------------------------------------------------------------------------------------------------------------------------------------------------------------------------------------------------------------------------------------------------------------------------------------------------------------------------------------------------------------------------------------------------------------------------------------------------------------------------------------------------------------------------------------------------------------------------------------------------------------------------------------------------------------------------------------------------------------------------------------------------------------------------------------------------------------------------------------------------------------------------------------------------------------------------------------------------------------------------------------------------------------------------------------------------------------------------------------------------------------------------------------------------------------------------------------------------------------------------------------------------------------------------------------------------------------------------------------------------------------------------------------------------------------------------------------------------------------------------------------------------------------------------------------------------------------------------------------------------------------------------------------------------------------------------------------------------------------------------------------------------------------------------------------------------------------------------------------------------------------------------------------------------------------------------------------------------------------------------------------------------------------------------------------------------------------------------------------------------------------------------------------------------------------------------------------------------------------------------------------------------------------------------------------------------------------------------------------------------------------------------------------------------------------------------------------------------------------------------------------------------------------------------------------------------------------------------------------------------------------------------------------------------------------------------------------------------------------------------------------------------------------------------------------------+\n",
      "only showing top 5 rows\n",
      "\n"
     ]
    }
   ],
   "source": [
    "# Mostrar las primeras filas del DataFrame\n",
    "print(\"Primeras filas del DataFrame:\")\n",
    "df.show(5,truncate=False)"
   ]
  },
  {
   "cell_type": "code",
   "execution_count": 5,
   "metadata": {
    "execution": {
     "iopub.execute_input": "2024-09-13T21:46:12.926032Z",
     "iopub.status.busy": "2024-09-13T21:46:12.924528Z",
     "iopub.status.idle": "2024-09-13T21:46:12.949502Z",
     "shell.execute_reply": "2024-09-13T21:46:12.947744Z"
    }
   },
   "outputs": [
    {
     "name": "stdout",
     "output_type": "stream",
     "text": [
      "\n",
      "Esquema del DataFrame:\n",
      "root\n",
      " |-- titulo: string (nullable = true)\n",
      " |-- fecha: string (nullable = true)\n",
      " |-- link: string (nullable = true)\n",
      " |-- cuerpo: string (nullable = true)\n",
      "\n"
     ]
    }
   ],
   "source": [
    "# Mostrar el esquema del DataFrame (tipos de datos de cada columna)\n",
    "print(\"\\nEsquema del DataFrame:\")\n",
    "df.printSchema()"
   ]
  },
  {
   "cell_type": "code",
   "execution_count": 6,
   "metadata": {
    "execution": {
     "iopub.execute_input": "2024-09-13T21:46:12.961226Z",
     "iopub.status.busy": "2024-09-13T21:46:12.959260Z",
     "iopub.status.idle": "2024-09-13T21:46:19.967024Z",
     "shell.execute_reply": "2024-09-13T21:46:19.962607Z"
    }
   },
   "outputs": [
    {
     "name": "stdout",
     "output_type": "stream",
     "text": [
      "\n",
      "Descripción estadística de las columnas numéricas:\n"
     ]
    },
    {
     "name": "stderr",
     "output_type": "stream",
     "text": [
      "24/09/13 18:46:13 WARN SparkStringUtils: Truncated the string representation of a plan since it was too large. This behavior can be adjusted by setting 'spark.sql.debug.maxToStringFields'.\n",
      "[Stage 8:>                                                          (0 + 1) / 1]\r"
     ]
    },
    {
     "name": "stdout",
     "output_type": "stream",
     "text": [
      "+-------+--------------------+----------+--------------------+--------------------+\n",
      "|summary|              titulo|     fecha|                link|              cuerpo|\n",
      "+-------+--------------------+----------+--------------------+--------------------+\n",
      "|  count|                1927|      1928|                1928|                1923|\n",
      "|   mean|                NULL|      NULL|                NULL|                NULL|\n",
      "| stddev|                NULL|      NULL|                NULL|                NULL|\n",
      "|    min|          \"\"\"Bury Me| My Love\"\"|    dice su creador\"|\"\"\"A la gente que...|\n",
      "|    max|“Tenemos paciente...|2024-09-13|https://www.lanac...|“¡Pon a remojar l...|\n",
      "+-------+--------------------+----------+--------------------+--------------------+\n",
      "\n"
     ]
    },
    {
     "name": "stderr",
     "output_type": "stream",
     "text": [
      "                                                                                \r"
     ]
    }
   ],
   "source": [
    "# Describir las estadísticas básicas\n",
    "print(\"\\nDescripción estadística de las columnas numéricas:\")\n",
    "df.describe().show()\n"
   ]
  },
  {
   "cell_type": "code",
   "execution_count": 7,
   "metadata": {
    "execution": {
     "iopub.execute_input": "2024-09-13T21:46:19.990145Z",
     "iopub.status.busy": "2024-09-13T21:46:19.987249Z",
     "iopub.status.idle": "2024-09-13T21:46:24.107695Z",
     "shell.execute_reply": "2024-09-13T21:46:24.098638Z"
    }
   },
   "outputs": [
    {
     "name": "stdout",
     "output_type": "stream",
     "text": [
      "Columna\t\tCantidad de Nulos\n",
      "----------------------------------------\n",
      "titulo\t\t1\n",
      "fecha\t\t0\n",
      "link\t\t0\n",
      "cuerpo\t\t5\n"
     ]
    }
   ],
   "source": [
    "from pyspark.sql.functions import col, sum\n",
    "# Crea una lista con el nombre de las columnas y la cantidad de nulos en cada una\n",
    "null_counts = [(column, df.filter(col(column).isNull()).count()) for column in df.columns]\n",
    "\n",
    "# Imprime la tabla\n",
    "print(\"Columna\\t\\tCantidad de Nulos\")\n",
    "print(\"-\" * 40)\n",
    "for column, count in null_counts:\n",
    "    print(f\"{column}\\t\\t{count}\")"
   ]
  },
  {
   "cell_type": "code",
   "execution_count": 8,
   "metadata": {
    "execution": {
     "iopub.execute_input": "2024-09-13T21:46:24.131517Z",
     "iopub.status.busy": "2024-09-13T21:46:24.130710Z",
     "iopub.status.idle": "2024-09-13T21:46:25.490456Z",
     "shell.execute_reply": "2024-09-13T21:46:25.488907Z"
    }
   },
   "outputs": [
    {
     "name": "stdout",
     "output_type": "stream",
     "text": [
      "Registros con valores nulos en alguna columna:\n",
      "+--------------------------------------------------------------------------+----------+----------------------------------------------------------------------------------------------------------------------------------------------------------------+-------------------------------------------------------------------------------------------------------------------------------------------------------------------------------------------------------------------------------------------------------------------------------------------------------------------------------------------------------------------------------------------------------------------------------------------------+\n",
      "|titulo                                                                    |fecha     |link                                                                                                                                                            |cuerpo                                                                                                                                                                                                                                                                                                                                                                                                                                           |\n",
      "+--------------------------------------------------------------------------+----------+----------------------------------------------------------------------------------------------------------------------------------------------------------------+-------------------------------------------------------------------------------------------------------------------------------------------------------------------------------------------------------------------------------------------------------------------------------------------------------------------------------------------------------------------------------------------------------------------------------------------------+\n",
      "|NULL                                                                      |2022-07-20|https://www.lanacion.com.ar/deportes/canchallena/fifa-23-el-trailer-oficial-cuando-es-el-lanzamiento-los-nuevos-torneos-y-todo-lo-que-hay-que-saber-nid20072022/|EA Sports presentó el tráiler oficial del FIFA 23, el último bajo este nombre, y se conocieron varios detalles en la antesala del lanzamiento. Por primera vez, el juego estará cruzado con varios detalles relacionados a la expansión del fútbol femenino a nivel global: Sam Kerr estará en la portada del juego, habrá clubes disponibles de dos ligas, tendrá la posibilidad de jugar el Mundial 2023 y sumará nuevos detalles de animación.|\n",
      "|\"Carlos Pérez: \"\"Comunicación y modelo de negocio deberían ser lo mismo\"\"\"|2017-01-18|https://www.lanacion.com.ar/economia/carlos-perez-comunicacion-y-modelo-de-negocio-deberian-ser-lo-mismo-nid1976919/                                            |NULL                                                                                                                                                                                                                                                                                                                                                                                                                                             |\n",
      "|Los Angeles: qué novedades trae el FIFA 2017                              |2016-06-14|https://www.lanacion.com.ar/tecnologia/los-angeles-que-novedades-trae-el-fifa-2017-nid1908907/                                                                  |NULL                                                                                                                                                                                                                                                                                                                                                                                                                                             |\n",
      "|Todo el color de la Tokyo Game Show, la mega feria de videojuegos         |2013-09-23|https://www.lanacion.com.ar/tecnologia/todo-el-color-de-la-tokyo-game-show-la-mega-feria-de-videojuegos-nid1621754/                                             |NULL                                                                                                                                                                                                                                                                                                                                                                                                                                             |\n",
      "|Eligen los mejores videojuegos de la historia                             |2012-11-21|https://www.lanacion.com.ar/tecnologia/eligen-los-mejores-videojuegos-de-la-historia-nid1528816/                                                                |NULL                                                                                                                                                                                                                                                                                                                                                                                                                                             |\n",
      "|Probamos la consola Sony PS Vita                                          |2012-06-18|https://www.lanacion.com.ar/tecnologia/probamos-la-sony-ps-vita-nid1482479/                                                                                     |NULL                                                                                                                                                                                                                                                                                                                                                                                                                                             |\n",
      "+--------------------------------------------------------------------------+----------+----------------------------------------------------------------------------------------------------------------------------------------------------------------+-------------------------------------------------------------------------------------------------------------------------------------------------------------------------------------------------------------------------------------------------------------------------------------------------------------------------------------------------------------------------------------------------------------------------------------------------+\n",
      "\n"
     ]
    }
   ],
   "source": [
    "# Filtrar los registros que tienen valores nulos en alguna columna\n",
    "df_with_nulls = df.filter(F.greatest(*[F.col(c).isNull().cast(\"int\") for c in df.columns]) == 1)\n",
    "\n",
    "# Mostrar los registros con nulos\n",
    "print(\"Registros con valores nulos en alguna columna:\")\n",
    "df_with_nulls.show(truncate=False)"
   ]
  },
  {
   "cell_type": "code",
   "execution_count": 9,
   "metadata": {
    "execution": {
     "iopub.execute_input": "2024-09-13T21:46:25.503280Z",
     "iopub.status.busy": "2024-09-13T21:46:25.502302Z",
     "iopub.status.idle": "2024-09-13T21:46:25.543018Z",
     "shell.execute_reply": "2024-09-13T21:46:25.541407Z"
    }
   },
   "outputs": [],
   "source": [
    "# Eliminar los registros que tienen algún valor nulo\n",
    "df_cleaned = df.dropna()"
   ]
  },
  {
   "cell_type": "code",
   "execution_count": 10,
   "metadata": {
    "execution": {
     "iopub.execute_input": "2024-09-13T21:46:25.553540Z",
     "iopub.status.busy": "2024-09-13T21:46:25.552122Z",
     "iopub.status.idle": "2024-09-13T21:46:28.500690Z",
     "shell.execute_reply": "2024-09-13T21:46:28.497430Z"
    }
   },
   "outputs": [
    {
     "name": "stdout",
     "output_type": "stream",
     "text": [
      "Columna\t\tCantidad de Nulos\n",
      "----------------------------------------\n",
      "titulo\t\t1\n",
      "fecha\t\t0\n",
      "link\t\t0\n",
      "cuerpo\t\t5\n"
     ]
    }
   ],
   "source": [
    "# Crea una lista con el nombre de las columnas y la cantidad de nulos en cada una\n",
    "null_counts = [(column, df.filter(col(column).isNull()).count()) for column in df.columns]\n",
    "\n",
    "# Imprime la tabla\n",
    "print(\"Columna\\t\\tCantidad de Nulos\")\n",
    "print(\"-\" * 40)\n",
    "for column, count in null_counts:\n",
    "    print(f\"{column}\\t\\t{count}\")"
   ]
  },
  {
   "cell_type": "code",
   "execution_count": 11,
   "metadata": {
    "execution": {
     "iopub.execute_input": "2024-09-13T21:46:28.509946Z",
     "iopub.status.busy": "2024-09-13T21:46:28.509180Z",
     "iopub.status.idle": "2024-09-13T21:46:29.472854Z",
     "shell.execute_reply": "2024-09-13T21:46:29.468046Z"
    }
   },
   "outputs": [
    {
     "name": "stdout",
     "output_type": "stream",
     "text": [
      "+------+-----+----+------+\n",
      "|titulo|fecha|link|cuerpo|\n",
      "+------+-----+----+------+\n",
      "+------+-----+----+------+\n",
      "\n"
     ]
    }
   ],
   "source": [
    "\n",
    "# Verifica la fila correspondiente en el DataFrame de Spark\n",
    "fila_nula_spark = df.filter(F.col('fecha').isNull()).show(truncate = False)\n",
    "\n"
   ]
  },
  {
   "cell_type": "code",
   "execution_count": 12,
   "metadata": {
    "execution": {
     "iopub.execute_input": "2024-09-13T21:46:29.493950Z",
     "iopub.status.busy": "2024-09-13T21:46:29.487630Z",
     "iopub.status.idle": "2024-09-13T21:46:34.466185Z",
     "shell.execute_reply": "2024-09-13T21:46:34.463169Z"
    }
   },
   "outputs": [
    {
     "name": "stdout",
     "output_type": "stream",
     "text": [
      "Primeras filas con puntuación de sentimiento:\n"
     ]
    },
    {
     "name": "stderr",
     "output_type": "stream",
     "text": [
      "[Stage 37:>                                                         (0 + 1) / 1]\r"
     ]
    },
    {
     "name": "stdout",
     "output_type": "stream",
     "text": [
      "+--------------------+----------+--------------------+--------------------+---------+\n",
      "|              titulo|     fecha|                link|              cuerpo|sentiment|\n",
      "+--------------------+----------+--------------------+--------------------+---------+\n",
      "|Adelanto del The ...|2024-08-30|https://www.lanac...|El 26 de septiemb...|      0.0|\n",
      "|Un fiasco: despué...|2024-09-03|https://www.lanac...|Sony y Firewalk S...|   0.2375|\n",
      "|Project DualPlay:...|2024-09-05|https://www.lanac...|En el marco de la...|    0.175|\n",
      "+--------------------+----------+--------------------+--------------------+---------+\n",
      "only showing top 3 rows\n",
      "\n"
     ]
    },
    {
     "name": "stderr",
     "output_type": "stream",
     "text": [
      "                                                                                \r"
     ]
    }
   ],
   "source": [
    "# Definir una función para calcular el sentimiento usando TextBlob\n",
    "def get_sentiment(text):\n",
    "    if text is None:\n",
    "        return None\n",
    "    return TextBlob(text).sentiment.polarity\n",
    "\n",
    "# Registrar la función como una UDF (User Defined Function)\n",
    "sentiment_udf = F.udf(get_sentiment)\n",
    "\n",
    "# Crear la columna 'sentiment' basada en el cuerpo de la noticia\n",
    "df_with_sentiment = df.withColumn(\"sentiment\", sentiment_udf(F.col(\"cuerpo\")))\n",
    "\n",
    "# Mostrar algunas filas con la nueva columna de sentimiento\n",
    "print(\"Primeras filas con puntuación de sentimiento:\")\n",
    "df_with_sentiment.show(3)"
   ]
  },
  {
   "cell_type": "code",
   "execution_count": 13,
   "metadata": {
    "execution": {
     "iopub.execute_input": "2024-09-13T21:46:34.479105Z",
     "iopub.status.busy": "2024-09-13T21:46:34.477405Z",
     "iopub.status.idle": "2024-09-13T21:46:36.843357Z",
     "shell.execute_reply": "2024-09-13T21:46:36.837307Z"
    }
   },
   "outputs": [
    {
     "name": "stderr",
     "output_type": "stream",
     "text": [
      "                                                                                \r"
     ]
    },
    {
     "name": "stdout",
     "output_type": "stream",
     "text": [
      "+------+-----+----+------+---------+\n",
      "|titulo|fecha|link|cuerpo|sentiment|\n",
      "+------+-----+----+------+---------+\n",
      "+------+-----+----+------+---------+\n",
      "\n"
     ]
    }
   ],
   "source": [
    "\n",
    "# Verifica la fila correspondiente en el DataFrame de Spark\n",
    "fila_nula_spark = df_with_sentiment.filter(F.col('fecha').isNull()).show(truncate = False)\n",
    "\n"
   ]
  },
  {
   "cell_type": "code",
   "execution_count": 14,
   "metadata": {
    "execution": {
     "iopub.execute_input": "2024-09-13T21:46:36.858870Z",
     "iopub.status.busy": "2024-09-13T21:46:36.858087Z",
     "iopub.status.idle": "2024-09-13T21:46:52.851832Z",
     "shell.execute_reply": "2024-09-13T21:46:52.849614Z"
    }
   },
   "outputs": [
    {
     "name": "stderr",
     "output_type": "stream",
     "text": [
      "                                                                                \r"
     ]
    }
   ],
   "source": [
    "df_with_sentiment.write.mode(\"overwrite\").csv(\"../data/processed/news.csv\", header=True)"
   ]
  },
  {
   "cell_type": "code",
   "execution_count": 15,
   "metadata": {
    "execution": {
     "iopub.execute_input": "2024-09-13T21:46:52.863839Z",
     "iopub.status.busy": "2024-09-13T21:46:52.861040Z",
     "iopub.status.idle": "2024-09-13T21:47:30.032361Z",
     "shell.execute_reply": "2024-09-13T21:47:30.030695Z"
    }
   },
   "outputs": [
    {
     "name": "stderr",
     "output_type": "stream",
     "text": [
      "                                                                                \r"
     ]
    },
    {
     "name": "stdout",
     "output_type": "stream",
     "text": [
      "+------+-----+----+------+---------+\n",
      "|titulo|fecha|link|cuerpo|sentiment|\n",
      "+------+-----+----+------+---------+\n",
      "+------+-----+----+------+---------+\n",
      "\n",
      "Filas nulas luego de pasar formato None\n"
     ]
    },
    {
     "name": "stderr",
     "output_type": "stream",
     "text": [
      "                                                                                \r"
     ]
    },
    {
     "name": "stdout",
     "output_type": "stream",
     "text": [
      "     year  month  avg_sentiment      fecha\n",
      "1  2012.0    6.0      -0.004167 2012-06-01\n",
      "2  2012.0    7.0      -0.100000 2012-07-01\n",
      "3  2012.0    8.0       0.000000 2012-08-01\n",
      "4  2012.0    9.0       0.058333 2012-09-01\n",
      "5  2012.0   10.0      -0.120139 2012-10-01\n"
     ]
    }
   ],
   "source": [
    "import seaborn as sns\n",
    "import matplotlib.pyplot as plt\n",
    "import pyspark.sql.functions as F\n",
    "import pandas as pd\n",
    "\n",
    "# Verifica la fila correspondiente en el DataFrame de Spark\n",
    "fila_nula_spark = df_with_sentiment.filter(F.col('fecha').isNull()).show(truncate = False)\n",
    "print(\"Filas nulas luego de pasar formato\", fila_nula_spark)\n",
    "\n",
    "df_with_sentiment = df_with_sentiment.dropna(subset=['sentiment'])\n",
    "\n",
    "# Crear columnas de año y mes\n",
    "df_with_sentiment = df_with_sentiment.withColumn('year', F.year(F.col('fecha')))\n",
    "df_with_sentiment = df_with_sentiment.withColumn('month', F.month(F.col('fecha')))\n",
    "\n",
    "# Agrupar por año y mes en lugar de por fecha exacta\n",
    "sentiment_by_month = df_with_sentiment.groupBy('year', 'month').agg(F.avg('sentiment').alias('avg_sentiment')).orderBy('year', 'month')\n",
    "\n",
    "# Convertir a Pandas para visualización\n",
    "sentiment_pd = sentiment_by_month.toPandas()\n",
    "\n",
    "# Crear una columna de fecha combinando año y mes\n",
    "sentiment_pd['fecha'] = pd.to_datetime(sentiment_pd[['year', 'month']].assign(day=1))  # Usa el primer día del mes\n",
    "\n",
    "# Ordenar los valores\n",
    "sentiment_pd = sentiment_pd.sort_values('fecha')\n",
    "\n",
    "# Verificar los datos antes de la visualización\n",
    "print(sentiment_pd.head())\n",
    "\n",
    "# Visualización\n",
    "plt.figure(figsize=(14, 7))\n",
    "sns.lineplot(data=sentiment_pd, x='fecha', y='avg_sentiment', marker='o')\n",
    "plt.title('Evolución del Sentimiento Promedio de Noticias de Videojuegos (Agrupado por Mes)')\n",
    "plt.xlabel('Fecha')\n",
    "plt.ylabel('Sentimiento Promedio')\n",
    "plt.xticks(rotation=45)\n",
    "plt.tight_layout()\n",
    "plt.savefig('sentiment_trend_monthly.png')  # Guarda la gráfica como una imagen\n",
    "plt.close()\n",
    "\n",
    "# Paso 10: Sistema de Alerta\n",
    "#sentiment_pd['sentiment_change'] = sentiment_pd['avg_sentiment'].diff()\n",
    "#latest_change = sentiment_pd['sentiment_change'].iloc[-1] if not sentiment_pd['sentiment_change'].empty else None\n",
    "#latest_date = sentiment_pd['fecha'].iloc[-1] if not sentiment_pd['fecha'].empty else None\n",
    "\n",
    "# Comprobamos si latest_date es NaT antes de usar strftime\n",
    "#if pd.notna(latest_change) and pd.notna(latest_date):\n",
    "#    threshold = 0.2\n",
    "#    if latest_change <= -threshold:\n",
    "#        print(f\"ALERTA: El sentimiento promedio cayó {abs(latest_change):.2f} puntos en {latest_date.strftime('%B %Y')}.\")\n",
    "#        # Aquí podrías añadir código para enviar un correo electrónico o una notificación\n",
    "#    else:\n",
    "#        print(f\"El sentimiento promedio está estable en {latest_date.strftime('%B %Y')}.\")\n",
    "#else:\n",
    "#    print(\"No hay suficientes datos para generar una alerta o la fecha es inválida.\")\n"
   ]
  },
  {
   "cell_type": "code",
   "execution_count": 16,
   "metadata": {
    "execution": {
     "iopub.execute_input": "2024-09-13T21:47:30.057272Z",
     "iopub.status.busy": "2024-09-13T21:47:30.055720Z",
     "iopub.status.idle": "2024-09-13T21:47:30.073035Z",
     "shell.execute_reply": "2024-09-13T21:47:30.071471Z"
    }
   },
   "outputs": [
    {
     "name": "stdout",
     "output_type": "stream",
     "text": [
      "   year  month  avg_sentiment fecha\n",
      "0   NaN    NaN            0.0   NaT\n"
     ]
    }
   ],
   "source": [
    "# Suponiendo que 'sentiment_pd' es tu DataFrame\n",
    "nulos_en_fecha = sentiment_pd[sentiment_pd['fecha'].isna()]\n",
    "\n",
    "# Mostrar las filas donde la columna 'fecha' tiene valores nulos\n",
    "print(nulos_en_fecha)\n"
   ]
  },
  {
   "cell_type": "code",
   "execution_count": 17,
   "metadata": {
    "execution": {
     "iopub.execute_input": "2024-09-13T21:47:30.089758Z",
     "iopub.status.busy": "2024-09-13T21:47:30.088578Z",
     "iopub.status.idle": "2024-09-13T21:47:32.503768Z",
     "shell.execute_reply": "2024-09-13T21:47:32.493116Z"
    }
   },
   "outputs": [
    {
     "name": "stdout",
     "output_type": "stream",
     "text": [
      "   year  month  avg_sentiment fecha\n",
      "0   NaN    NaN            0.0   NaT\n"
     ]
    },
    {
     "name": "stderr",
     "output_type": "stream",
     "text": [
      "[Stage 52:>                                                         (0 + 1) / 1]\r"
     ]
    },
    {
     "name": "stdout",
     "output_type": "stream",
     "text": [
      "+------+-----+----+------+---------+----+-----+\n",
      "|titulo|fecha|link|cuerpo|sentiment|year|month|\n",
      "+------+-----+----+------+---------+----+-----+\n",
      "+------+-----+----+------+---------+----+-----+\n",
      "\n"
     ]
    },
    {
     "name": "stderr",
     "output_type": "stream",
     "text": [
      "                                                                                \r"
     ]
    }
   ],
   "source": [
    "# Filtra la fila con el valor nulo en Pandas\n",
    "fila_nula = sentiment_pd[sentiment_pd['fecha'].isna()]\n",
    "print(fila_nula)\n",
    "\n",
    "# Verifica la fila correspondiente en el DataFrame de Spark\n",
    "fila_nula_spark = df_with_sentiment.filter(F.col('fecha').isNull()).show(truncate = False)\n"
   ]
  }
 ],
 "metadata": {
  "kernelspec": {
   "display_name": "Python 3",
   "language": "python",
   "name": "python3"
  },
  "language_info": {
   "codemirror_mode": {
    "name": "ipython",
    "version": 3
   },
   "file_extension": ".py",
   "mimetype": "text/x-python",
   "name": "python",
   "nbconvert_exporter": "python",
   "pygments_lexer": "ipython3",
   "version": "3.12.3"
  }
 },
 "nbformat": 4,
 "nbformat_minor": 2
}
