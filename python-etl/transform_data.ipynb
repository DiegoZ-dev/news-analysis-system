{
 "cells": [
  {
   "cell_type": "code",
   "execution_count": 2,
   "metadata": {},
   "outputs": [],
   "source": [
    "from pyspark.sql import SparkSession\n",
    "from pyspark.sql import functions as F\n",
    "from textblob import TextBlob\n"
   ]
  },
  {
   "cell_type": "code",
   "execution_count": 3,
   "metadata": {},
   "outputs": [
    {
     "name": "stderr",
     "output_type": "stream",
     "text": [
      "24/08/16 20:38:02 WARN Utils: Your hostname, mauro-thinkpad resolves to a loopback address: 127.0.1.1; using 192.168.0.212 instead (on interface wlp0s20f3)\n",
      "24/08/16 20:38:02 WARN Utils: Set SPARK_LOCAL_IP if you need to bind to another address\n",
      "Setting default log level to \"WARN\".\n",
      "To adjust logging level use sc.setLogLevel(newLevel). For SparkR, use setLogLevel(newLevel).\n",
      "24/08/16 20:38:03 WARN NativeCodeLoader: Unable to load native-hadoop library for your platform... using builtin-java classes where applicable\n"
     ]
    }
   ],
   "source": [
    "# Crear una sesión de Spark\n",
    "spark = SparkSession.builder.appName(\"NewsDataInspection\").getOrCreate()\n",
    "\n",
    "# Cargar el archivo CSV\n",
    "file_path = '../data/raw/news.csv'\n",
    "df = spark.read.csv(file_path, header=True, inferSchema=True)"
   ]
  },
  {
   "cell_type": "code",
   "execution_count": 4,
   "metadata": {},
   "outputs": [
    {
     "name": "stdout",
     "output_type": "stream",
     "text": [
      "\n",
      "Dimensiones del DataFrame: 1911 filas, 3 columnas\n"
     ]
    }
   ],
   "source": [
    "# Contar el número de filas y columnas\n",
    "num_rows = df.count()\n",
    "num_cols = len(df.columns)\n",
    "print(f\"\\nDimensiones del DataFrame: {num_rows} filas, {num_cols} columnas\")"
   ]
  },
  {
   "cell_type": "code",
   "execution_count": 5,
   "metadata": {},
   "outputs": [
    {
     "name": "stdout",
     "output_type": "stream",
     "text": [
      "Primeras filas del DataFrame:\n",
      "+----------------------------------------------------------------------------------------------------------------------------------+-------------------------------------------------------------------------------------------------------------------------------------------------------+------------------------------------------------------------------------------------------------------------------------------------------------------------------------------------------------------------------------------------------------------------------------------------------------------------------------------------------------------------------------------------------------------------------------------------------------------------------------------------------------------------------------------------------------------------------------------------------------------------------------------------------------------------------------------------------------------------------------------------------------------------------------------------------------------------------------------------------------------------------------------------------------------------------------------------------------------------------------------------------------------------------------------------------------------------------------------------------------------------------------------------------------------------------------------------------------------------------------------------------------------------------------------------------------------------------------------------------------------------------------------------------------------------------------------------------------------------------------------------------------------------------------------------------------------------------------------------------------------------------------------------------------------------------------------------------------------------------------------------------------------------------------------------------------------------------------------------------------------------------------------------------------------------------------------------------------------------------------------------------------------------------------------------------------------------------------------------------------------------------------------------------------------------------------------------------------------------------------------------------------------------------------------------------------------------------------------------------------------------------------------------------------------------------------------------------------------------------------------------------------------------------------------------------------------------------------------------------------------------------------------------------------------------------------------------------------------------------------------------------------------------------------------------------------------------------------------------------------------------------------------------------------------------------------------------------------------------------------------------------------------------------------------------------------------------------------------------------------------------------------------------------------------------------------------------------------------------------------------------------------------------------------------------------------------------------------------------------------------------------------------------------------------------------------------------------------------------------------------------------------------------------------------------------------------------------------------------------------------------------------------------------------------------------------------------------------------------------------------------------------------------------------------------------------------------------------------------------------------------------------------------------------------------------------------------------------------------------------------------------------------------------------------------------------------------------------------------------------------------------------------------------------------------------------------------------------------------------------------------------------------------------------------------------------------------------------------------------------------------------------------------------------------------------------------------------------------------------------------------------------------------------------------------------------------------------------------------------------------------------------------------------------------------------------+\n",
      "|titulo                                                                                                                            |link                                                                                                                                                   |cuerpo                                                                                                                                                                                                                                                                                                                                                                                                                                                                                                                                                                                                                                                                                                                                                                                                                                                                                                                                                                                                                                                                                                                                                                                                                                                                                                                                                                                                                                                                                                                                                                                                                                                                                                                                                                                                                                                                                                                                                                                                                                                                                                                                                                                                                                                                                                                                                                                                                                                                                                                                                                                                                                                                                                                                                                                                                                                                                                                                                                                                                                                                                                                                                                                                                                                                                                                                                                                                                                                                                                                                                                                                                                                                                                                                                                                                                                                                                                                                                                                                                                                                                                                                                                                                                                                                                                                                                                                                                                                                                                                                                                                                                                                                  |\n",
      "+----------------------------------------------------------------------------------------------------------------------------------+-------------------------------------------------------------------------------------------------------------------------------------------------------+------------------------------------------------------------------------------------------------------------------------------------------------------------------------------------------------------------------------------------------------------------------------------------------------------------------------------------------------------------------------------------------------------------------------------------------------------------------------------------------------------------------------------------------------------------------------------------------------------------------------------------------------------------------------------------------------------------------------------------------------------------------------------------------------------------------------------------------------------------------------------------------------------------------------------------------------------------------------------------------------------------------------------------------------------------------------------------------------------------------------------------------------------------------------------------------------------------------------------------------------------------------------------------------------------------------------------------------------------------------------------------------------------------------------------------------------------------------------------------------------------------------------------------------------------------------------------------------------------------------------------------------------------------------------------------------------------------------------------------------------------------------------------------------------------------------------------------------------------------------------------------------------------------------------------------------------------------------------------------------------------------------------------------------------------------------------------------------------------------------------------------------------------------------------------------------------------------------------------------------------------------------------------------------------------------------------------------------------------------------------------------------------------------------------------------------------------------------------------------------------------------------------------------------------------------------------------------------------------------------------------------------------------------------------------------------------------------------------------------------------------------------------------------------------------------------------------------------------------------------------------------------------------------------------------------------------------------------------------------------------------------------------------------------------------------------------------------------------------------------------------------------------------------------------------------------------------------------------------------------------------------------------------------------------------------------------------------------------------------------------------------------------------------------------------------------------------------------------------------------------------------------------------------------------------------------------------------------------------------------------------------------------------------------------------------------------------------------------------------------------------------------------------------------------------------------------------------------------------------------------------------------------------------------------------------------------------------------------------------------------------------------------------------------------------------------------------------------------------------------------------------------------------------------------------------------------------------------------------------------------------------------------------------------------------------------------------------------------------------------------------------------------------------------------------------------------------------------------------------------------------------------------------------------------------------------------------------------------------------------------------------------------------------------------+\n",
      "|Johanna’s Vision: el videojuego argentino que se transformó en una bandera para concientizar sobre el abuso de fentanilo en EE.UU.|https://www.lanacion.com.ar/tecnologia/johannas-vision-el-videojuego-argentino-que-se-transformo-en-una-bandera-para-concientizar-sobre-el-nid08082024/|TGA, una empresa argentina liderada por Tomás Giovanetti, ha dado un paso significativo en la intersección entre tecnología y salud pública con el desarrollo de Johanna’s Vision, un videojuego diseñado para concientizar sobre los peligros del consumo de fentanilo. En 2023 se registraron 107.543 muertes por sobredosis de drogas (entre ellas fentanilo) en los Estados Unidos. Este proyecto, que surgió tras un encuentro con Kamal Bherwani, un empresario que perdió a su hijo Ethan en 2022 a causa de fentanilo, representa una nueva herramienta en la lucha contra la epidemia de opioides en Estados Unidos. La historia detrás de Johanna’s Vision es tan conmovedora como su propósito. Giovanetti conoció a Bherwani durante un desayuno, donde compartieron sus respectivas experiencias. “Kamal me contó la tragedia de su hijo Ethan, que falleció debido al fentanilo. Este relato me impactó profundamente”, recuerda Giovanetti. La conexión entre ambos fue instantánea, y juntos idearon este videojuego como un medio para transformar el dolor personal en una iniciativa de impacto social. El concepto de “gaming for good” —el uso de los videojuegos para abordar problemáticas sociales— resonó fuertemente en Bherwani, quien decidió no solo apoyar el proyecto, sino también invertir en él a través de su fundación, Preclivity Foundation. Esta colaboración permitió destinar cientos de miles de dólares al desarrollo de Johanna’s Vision, un videojuego que busca levantar conciencia sobre una droga que está causando innumerables muertes en Estados Unidos. El videojuego se centra en la historia de Johanna, una joven que pierde a su hermano Tyler por el consumo de fentanilo. A lo largo del juego, Johanna emprende un viaje emocional en busca de respuestas, enfrentando los efectos devastadores de esta droga en su comunidad. El objetivo del juego es doble: por un lado, educar a los jugadores sobre los riesgos del fentanilo, y por otro, inspirar empatía y acción, motivando a los jugadores a participar en esfuerzos de prevención y apoyo en sus comunidades. Giovanetti explica que Johanna’s Vision estará disponible en diversas plataformas, incluyendo móviles (iOS y Android) y una versión web, con un lanzamiento completo programado para finales de agosto de 2024. Además, se planea lanzar nuevos capítulos del juego para mantener el interés de los jugadores. La creación de Johanna’s Vision no solo involucra a TGA y Preclivity Foundation, sino también a un equipo multidisciplinario de alrededor de 40 personas, incluyendo especialistas en adicciones, psicólogos y desarrolladores de software. Este enfoque integral asegura que el videojuego no solo sea técnicamente sólido, sino también relevante desde el punto de vista educativo y emocional. Para Bherwani, este proyecto representa una oportunidad de transformar una gran tragedia en un legado positivo. “Me entristece que vivamos en una sociedad donde una droga sintética tan poderosa como el fentanilo puede matar a personas que cometen un solo error. Estoy comprometido a crear conciencia a través de los mismos canales que se utilizan para alimentar tanta otra información a los jóvenes en los EE. UU.”, comenta con esperanza. Johanna’s Vision es más que un juego; es un llamado a la acción para tomar medidas contra el consumo de fentanilo. Con su lanzamiento inminente, este proyecto podría marcar un antes y un después en la forma en que utilizamos la tecnología para enfrentar desafíos sociales críticos.                                                                                                                                                                                                                                                                                                                                                                                                                                                                                                                                                                                                                                                                                                                                                                                                                                                                                                                                                                                                                                                                  |\n",
      "|UFL: el videojuego de fútbol de Cristiano Ronaldo será gratis y ya tiene fecha para competirle a EA FC 25                         |https://www.lanacion.com.ar/tecnologia/ufl-el-videojuego-de-futbol-de-cristiano-ronaldo-sera-gratis-y-ya-tiene-fecha-para-competirle-a-ea-nid07082024/ |El mundo de los videojuegos de fútbol parecía tener un líder absoluto, con pocos competidores a la altura. Luego de la ruptura con la FIFA, Electronic Arts había solidificado su posición dominante con el EA FC 24 (y su próxima versión, el EA FC 25) frente al eFootball de Konami con licencias, torneos y miles de millones en recaudación. Luego, surgieron rumores de que 2K podría hacer el juego del próximo Mundial, pero siempre estuvo latente otro competidor: el UFL. Este videojuego de fútbol (con nombre UFL por las siglas de Unreal Football League) finalmente tiene una fecha anunciada de lanzamiento luego de varias betas. La llegada del juego será el 12 de septiembre, por ahora solo en PlayStation 5 y Xbox Series X/S. Con el lema “fair to play”, con el juego de palabras del eslogan de la FIFA y haciendo alusión al supuesto “pay to win” de la competencia, llegará de la mano de Strikerz, la empresa de gaming chipriota y una fuerte inversión de Cristiano Ronaldo, quien ya desembolsó 40 millones de dólares y sus derechos de imagen para la tapa. UFL llegará con una asociación con FIFpro, para tener más de 65 mil jugadores licenciados y la presencia de un puñado de equipos con nombre, escudo y camisetas oficiales, como el Chelsea, West Ham, Mónaco, Besiktas, Borussia Mönchengladbach, Celtic y Rangers de Escocia, Shaktar, Bayer Leverkusen y PSV. Además de Cristiano, el juego tendrá otros embajadores como Romelu Lukaku, Kevin De Bruyne y Roberto Firmino. Strikerz, la empresa detrás en conjunto con X-Ten, debutará en el mundo de los juegos masivos con este, creado en Unreal Engine, uno de los motores gráficos más usados y más fieles del mercado del gaming. Aunque el juego no tendrá costo, sí ofrecerá compras internas, aunque la empresa asegura que no serán necesarias para sacar una ventaja deportiva. Entre los agregados que se pueden comprar están el “starter pack” de PS5 que te deja jugarlo siete días antes, skins y 20.000.000 de monedas in-game por 15 dólares o el “foundation pack” de Xbox que tiene skins, 20.000.000 y siete días de acceso anticipado por AR$ 8.999. Los que pudieron probar las betas previas al lanzamiento no quedaron particularmente sorprendidos por su jugabilidad, pero al ser gratuito puede llegar a atraer a miles de jugadores en el mundo. Cabe recordar que el ex Winning Eleven, el eFootball también se puede jugar de manera gratuita y aun así no logra los números de Electronic Arts con EA FC, que está cerca de presentar su segunda versión con el EA FC 25 este 20 de septiembre.                                                                                                                                                                                                                                                                                                                                                                                                                                                                                                                                                                                                                                                                                                                                                                                                                                                                                                                                                                                                                                                                                                                                                                                                                                                                                                                                                                                                                                                                                                                                                                                                                                                                                                                                                                                                                                                                                                                                                                                                                                       |\n",
      "|Star Wars Jedi: Survivor llegará a PS4 y Xbox One el 17 de septiembre                                                             |https://www.lanacion.com.ar/tecnologia/star-wars-jedi-survivor-llegara-a-ps4-y-xbox-one-el-17-de-septiembre-nid07082024/                               |Electronic Arts (EA) ha anunciado el lanzamiento del videojuego Star Wars Jedi: Survivor para las consolas PlayStation 4 (PS4)y Xbox One, que los usuarios podrán jugar a partir del 17 de septiembre de este año. La compañía de videojuegos lanzó Star Wars Jedi: Survivor para PC y las consolas de última generación (PS5 y Xbox X/S) en abril del pasado año, desarrollado por Respawn Entertainment. Este continúa la historia del caballero Jedi Cal Kestis, su lucha contra el Imperio Galáctico y las consecuencias de la Orden 66 cinco años después de la entrega Star Wars Jedi: Fallen Order. Ahora, la desarrolladora de videojuegos estadounidense ha anunciado la llegada de este título para PlayStation 4 y Xbox One, con lo que más usuarios podrán jugar esta historia Jedi en sus consolas a partir del 17 de septiembre de este año. Esto significa que los jugadores ya pueden reservar por adelantado Star Wars Jedi: Survivor antes de su lanzamiento para las consolas de generación anterior, tal y como ha compartido EA en un comunicado en su página de preguntas y respuestas. Se ha de tener en cuenta que la compañía solo ha lanzado la versión estándar del videojuego, de manera que la versión Deluxe de Star Wars Jedi: Survivor continuará siendo exclusiva para las consolas de última generación. Sin embargo, los jugadores también pueden adquirir un pack multiplataforma con los títulos Star Wars Jedi: Fallen Order y Star Wars Jedi: Survivor, con el que podrán disponer del videojuego en ambas generaciones de consola, tanto para PS4 como para PS5 y, de igual forma, será válido tanto para Xbox One como para las Series X/S. Asimismo, los usuarios que reserven el título obtendrán artículos cosméticos para equipar al protagonista con el paquete Jedi Survival, inspirado en el conocido personaje de la saga Star Wars Obi-Wan Kenobi. Con todo ello, Star Wars Jedi: Survivor para PS4 y Xbox One ya se puede reservar por 78.600 pesos (PS4) o 94.980 pesos (Xbox). Por su parte, el lote multiplataforma se puede adquirir por 125.800 pesos (PlayStation) o 107.870 pesos (Xbox).                                                                                                                                                                                                                                                                                                                                                                                                                                                                                                                                                                                                                                                                                                                                                                                                                                                                                                                                                                                                                                                                                                                                                                                                                                                                                                                                                                                                                                                                                                                                                                                                                                                                                                                                                                                                                                                                                                                                                                                                                                                                                                                                                                                                                                                                                                                                                                                                                                                                                                                     |\n",
      "|La Argentina ya es parte de Fortnite: el Gobierno usará el juego como promoción turística                                         |https://www.lanacion.com.ar/tecnologia/la-argentina-sera-parte-de-fortnite-el-gobierno-usara-el-juego-como-promocion-turistica-nid01082024/            |Ponele una marca más a la tan comentada excepcionalidad argentina: se convirtió en el primer país cuyo territorio está en Fortnite. O al menos, una parte: la compañía local StadioPlus recreó algunos de los hitos geográficos más salientes del país dentro del juego de acción, como una de las formas que eligió el gobierno de Javier Milei para hacer promoción turística de nuestro país vía Marca País. Según dijo Karina Milei en X, “Argentina es el primer país del mundo en utilizar Fortnite como plataforma de promoción turística. Este trabajo se encuentra en línea con el objetivo político de posicionar a nuestro país como un HUB de desarrollo tecnológico.” Se trata de una iniciativa que, por primera vez, incorpora a un país dentro del juego, uno de los más populares del mundo (con unos 400 millones de usuarios registrados, con 25 millones de usuarios promedio diarios). Ahora los jugadores pueden elegir a varias regiones del país para disfrutar de las distintas aventuras de parkour, combate y supervivencia que ofrece el juego. Con la idea de promocionar al país como destino turístico, se presentó hoy en el Palacio San Martín, sede de la Cancillería argentina, esta nueva opción en Fortnite, destinado para que los millones de jugadores puedan disfrutar del juego en algunos lugares emblemáticos del país como las Cataratas del Iguazú, el glaciar Perito Moreno en El Calafate, el cerro de los Siete Colores en Jujuy, la calle Caminito en la Boca o la histórica cañada de la Ciudad de Córdoba, San Juan y Mendoza, entre otros. Durante la presentación, distintos funcionarios nacionales, en especial de los entes de turismo provinciales involucrados, destacaron la importancia de esta iniciativa, a la que todos denominaron como “experiencia” y que la lleva adelante sin costarle nada al Gobierno Nacional, permite poner a la Argentina y su belleza natural al alcance de millones de potenciales futuros visitantes. Se trata de una iniciativa promovida y financiada al 100% por StadioPlus, pero que permite la inclusión de sponsors: en ese sentido, durante la presentación se podía ver a Taragüí como uno de ellos, con carteles a lo largo del juego y con la posibilidad de que los jugadores tomen un mate virtual durante la aventura, para recargar energía. “Es una herramienta de promoción turística que está en el juego más popular del mundo. Se trata de una iniciativa privada que cuenta con el apoyo nacional, municipal y provincial. Esta plataforma permitirá alcanzar a millones de jugadores de todo el mundo y potenciar a la Argentina como destino turístico” explicó el Ministro Ramiro Hernán Velloso, a cargo de la Subsecretaría de Promoción de las Exportaciones, las Inversiones, la Educación, la Ciencia y la Cultura de la Nación. La plataforma fue diseñada por la empresa Studio Plus, cofundada por el exbasquetbolista Luis Scola y presidida por Jon Fatelevich, ambos presentes en el evento, quienes mostraron una demo del juego, con las imágenes adaptadas para el juego de los distintos destinos turísticos locales. “Nuestra empresa tiene la potestad de desarrollar experiencias dentro del Modo Creativo de Fortnite y fue así que pudimos empezar a construir y moldear cada uno de los destinos. StadioPlus se dedica al desarrollo de experiencias inmersivas en las plataformas con más tráfico del mundo: Fortnite y Roblox. Lo venimos realizando con entidades deportivas y marcas, tales como LaLiga, Kings League y Clubes de Europa y Sudamérica. Más allá de juegos, son canales de comunicación”, le explicó a LA NACION Javier Fernando, CEO de Stadio Plus. El directivo sostuvo además que “las posibilidades que nos daba este canal eran ideales para explotarlas con el turismo, y como en nuestro equipo, la mitad somos argentinos, tenía que ser Argentina el primer país del mundo en utilizar esta plataforma para la promoción turística”. El equipo de desarrollo (formado por 10 personas) trabajó durante casi 4 meses para hacer realidad esta experiencia en línea. A partir del lanzamiento oficial, los jugadores de Fortnite pueden acceder al mapa desde todas las plataformas (PSP, Xbox, PC y celular). Para acceder al contenido hay que buscar el servidor específico de Argentina, que se verá como una isla dentro del juego, en la versión de modo creativo. Es decir, hay que ir a buscar específicamente ese territorio. El código de acceso a esta isla especial es el 2667-5881-4517. La isla ya está en uso hace un tiempo como un escenario para hacer parkour dentro de Fortnite.|\n",
      "|FIFA 25: así será el próximo EA FC 25 que llega en septiembre para todos los fanáticos del fútbol                                 |https://www.lanacion.com.ar/tecnologia/fifa-25-asi-sera-el-proximo-ea-fc-25-que-llega-en-septiembre-para-todos-los-fanaticos-del-futbol-nid31072024/   |EA FC 25 será el próximo juego de la saga FIFA, que abandonó ese nombre en la edición pasada. Ahora sin lazos con la Federación, pero sí con vínculos con ligas, clubes y copas, tendremos algunas modificaciones y nuevos modos de juego que pueden darle un poco de aire fresco al juego. Lo primero y principal es que, además de las grandes ligas de Europa, vamos a tener la Liga Argentina completa con todos los clubes de primera división, luego de un acuerdo entre la AFA y Electronic Arts. Si bien esto era de esperarse, EA FC ahora tiene vínculos con River y Boca, además de otros equipos que le dará una actualización más fiel con respecto a nuestro fútbol. Aún queda por confirmar qué estadios del fútbol nacional estarán representados, y también cuáles caras serán escaneadas y cuáles serán generadas digitalmente. El juego ya se puede reservar; estará disponible a nivel general el 27 de septiembre próximo. Este año quién será la portada del EA FC será nada más y nada menos que el subcampeón europeo y flamante campeón de la Champions League con el Real Madrid, el inglés Jude Bellingham. Y sí, la famosa pose del oso hormiguero será la imagen principal del juego. También habrá una segunda tapa, para la edición Ultimate edition, donde veremos también a una tapa plagada de figuras del Real Madrid, como Bellingham, David Beckham, Zinedine Zidane, sumados a la estrella del fútbol femenino, Aitana Bonmati y al arquero legendario Gianluigi Buffon. Y no, esta vez no hay latinoamericanos. Ahora con FC IQ vamos a vincular, dentro de las partidas, tres patas esenciales del juego. Las tácticas del equipo, el rol de cada jugador y las tácticas inteligentes. EA asegura que ahora se podrá cambiar más fácilmente de táctica en el juego, por ejemplo el cambio de formación o intención de ataque o defensa. Como antes el juego te preguntaba si querías hacer un cambio, ahora también te consultará por cambios tácticos. Y algo muy llamativo que será bueno saber implementar serán las faltas intencionadas para cortar ataques o el juego rival. Sí, te vas a ganar una tarjeta, pero ahora el juego te dejará hacer esas faltas, que a veces se necesitan para cortar un contragolpe letal que se te viene en contra. Además de los cambios en la jugabilidad y la táctica, EA FC 25 sumará un juego que tiene un poco de “olor” a Kings League, llamado Rush (no es como lo era Volta). Es una mezcla de fútbol 11 con fútbol 5 (será 5 vs 5) y que tendrá también definición de penales “shootout” como se pudo ver en la liga creada por el streamer Ibai Llanos, o como eran en el comienzo de la MLS. También, además de la inclusión e igualdad del fútbol femenino en sus modos (como el modo carrera), se sumarán mejoras gráficas, un sistema de comunicación en el partido que podremos decir cosas con los botones direccionales, nuevos festejos compartidos con compañeros y otros cambios en jugabilidad y movimientos que vamos a ir descubriendo a medida que llegue la fecha de lanzamiento, que será el próximo 27 de septiembre.                                                                                                                                                                                                                                                                                                                                                                                                                                                                                                                                                                                                                                                                                                                                                                                                                                                                                                                                                                                                                                                                                                                                                                                                                                                                                                                                                                                                                                                                                                                                          |\n",
      "+----------------------------------------------------------------------------------------------------------------------------------+-------------------------------------------------------------------------------------------------------------------------------------------------------+------------------------------------------------------------------------------------------------------------------------------------------------------------------------------------------------------------------------------------------------------------------------------------------------------------------------------------------------------------------------------------------------------------------------------------------------------------------------------------------------------------------------------------------------------------------------------------------------------------------------------------------------------------------------------------------------------------------------------------------------------------------------------------------------------------------------------------------------------------------------------------------------------------------------------------------------------------------------------------------------------------------------------------------------------------------------------------------------------------------------------------------------------------------------------------------------------------------------------------------------------------------------------------------------------------------------------------------------------------------------------------------------------------------------------------------------------------------------------------------------------------------------------------------------------------------------------------------------------------------------------------------------------------------------------------------------------------------------------------------------------------------------------------------------------------------------------------------------------------------------------------------------------------------------------------------------------------------------------------------------------------------------------------------------------------------------------------------------------------------------------------------------------------------------------------------------------------------------------------------------------------------------------------------------------------------------------------------------------------------------------------------------------------------------------------------------------------------------------------------------------------------------------------------------------------------------------------------------------------------------------------------------------------------------------------------------------------------------------------------------------------------------------------------------------------------------------------------------------------------------------------------------------------------------------------------------------------------------------------------------------------------------------------------------------------------------------------------------------------------------------------------------------------------------------------------------------------------------------------------------------------------------------------------------------------------------------------------------------------------------------------------------------------------------------------------------------------------------------------------------------------------------------------------------------------------------------------------------------------------------------------------------------------------------------------------------------------------------------------------------------------------------------------------------------------------------------------------------------------------------------------------------------------------------------------------------------------------------------------------------------------------------------------------------------------------------------------------------------------------------------------------------------------------------------------------------------------------------------------------------------------------------------------------------------------------------------------------------------------------------------------------------------------------------------------------------------------------------------------------------------------------------------------------------------------------------------------------------------------------------------------------------------------------------+\n",
      "only showing top 5 rows\n",
      "\n"
     ]
    }
   ],
   "source": [
    "# Mostrar las primeras filas del DataFrame\n",
    "print(\"Primeras filas del DataFrame:\")\n",
    "df.show(5,truncate=False)"
   ]
  },
  {
   "cell_type": "code",
   "execution_count": 6,
   "metadata": {},
   "outputs": [
    {
     "name": "stdout",
     "output_type": "stream",
     "text": [
      "\n",
      "Esquema del DataFrame:\n",
      "root\n",
      " |-- titulo: string (nullable = true)\n",
      " |-- link: string (nullable = true)\n",
      " |-- cuerpo: string (nullable = true)\n",
      "\n"
     ]
    }
   ],
   "source": [
    "# Mostrar el esquema del DataFrame (tipos de datos de cada columna)\n",
    "print(\"\\nEsquema del DataFrame:\")\n",
    "df.printSchema()"
   ]
  },
  {
   "cell_type": "code",
   "execution_count": 7,
   "metadata": {},
   "outputs": [
    {
     "name": "stdout",
     "output_type": "stream",
     "text": [
      "\n",
      "Descripción estadística de las columnas numéricas:\n"
     ]
    },
    {
     "name": "stderr",
     "output_type": "stream",
     "text": [
      "[Stage 6:>                                                          (0 + 2) / 2]\r"
     ]
    },
    {
     "name": "stdout",
     "output_type": "stream",
     "text": [
      "+-------+--------------------+--------------------+--------------------+\n",
      "|summary|              titulo|                link|              cuerpo|\n",
      "+-------+--------------------+--------------------+--------------------+\n",
      "|  count|                1910|                1911|                1906|\n",
      "|   mean|                NULL|                NULL|                NULL|\n",
      "| stddev|                NULL|                NULL|                NULL|\n",
      "|    min|          \"\"\"Bury Me|           My Love\"\"|    dice su creador\"|\n",
      "|    max|“Tenemos paciente...|https://www.lanac...|“¡Pon a remojar l...|\n",
      "+-------+--------------------+--------------------+--------------------+\n",
      "\n"
     ]
    },
    {
     "name": "stderr",
     "output_type": "stream",
     "text": [
      "                                                                                \r"
     ]
    }
   ],
   "source": [
    "# Describir las estadísticas básicas\n",
    "print(\"\\nDescripción estadística de las columnas numéricas:\")\n",
    "df.describe().show()\n"
   ]
  },
  {
   "cell_type": "code",
   "execution_count": 8,
   "metadata": {},
   "outputs": [
    {
     "name": "stdout",
     "output_type": "stream",
     "text": [
      "\n",
      "Número de valores nulos por columna:\n",
      "+------+----+------+\n",
      "|titulo|link|cuerpo|\n",
      "+------+----+------+\n",
      "|     1|   0|     5|\n",
      "+------+----+------+\n",
      "\n"
     ]
    }
   ],
   "source": [
    "# Verificar si hay valores nulos\n",
    "print(\"\\nNúmero de valores nulos por columna:\")\n",
    "df.select([F.count(F.when(F.col(c).isNull(), c)).alias(c) for c in df.columns]).show()"
   ]
  },
  {
   "cell_type": "code",
   "execution_count": 9,
   "metadata": {},
   "outputs": [
    {
     "name": "stdout",
     "output_type": "stream",
     "text": [
      "Registros con valores nulos en alguna columna:\n",
      "+--------------------------------------------------------------------------+----------------------------------------------------------------------------------------------------------------------------------------------------------------+-------------------------------------------------------------------------------------------------------------------------------------------------------------------------------------------------------------------------------------------------------------------------------------------------------------------------------------------------------------------------------------------------------------------------------------------------+\n",
      "|titulo                                                                    |link                                                                                                                                                            |cuerpo                                                                                                                                                                                                                                                                                                                                                                                                                                           |\n",
      "+--------------------------------------------------------------------------+----------------------------------------------------------------------------------------------------------------------------------------------------------------+-------------------------------------------------------------------------------------------------------------------------------------------------------------------------------------------------------------------------------------------------------------------------------------------------------------------------------------------------------------------------------------------------------------------------------------------------+\n",
      "|NULL                                                                      |https://www.lanacion.com.ar/deportes/canchallena/fifa-23-el-trailer-oficial-cuando-es-el-lanzamiento-los-nuevos-torneos-y-todo-lo-que-hay-que-saber-nid20072022/|EA Sports presentó el tráiler oficial del FIFA 23, el último bajo este nombre, y se conocieron varios detalles en la antesala del lanzamiento. Por primera vez, el juego estará cruzado con varios detalles relacionados a la expansión del fútbol femenino a nivel global: Sam Kerr estará en la portada del juego, habrá clubes disponibles de dos ligas, tendrá la posibilidad de jugar el Mundial 2023 y sumará nuevos detalles de animación.|\n",
      "|\"Carlos Pérez: \"\"Comunicación y modelo de negocio deberían ser lo mismo\"\"\"|https://www.lanacion.com.ar/economia/carlos-perez-comunicacion-y-modelo-de-negocio-deberian-ser-lo-mismo-nid1976919/                                            |NULL                                                                                                                                                                                                                                                                                                                                                                                                                                             |\n",
      "|Los Angeles: qué novedades trae el FIFA 2017                              |https://www.lanacion.com.ar/tecnologia/los-angeles-que-novedades-trae-el-fifa-2017-nid1908907/                                                                  |NULL                                                                                                                                                                                                                                                                                                                                                                                                                                             |\n",
      "|Todo el color de la Tokyo Game Show, la mega feria de videojuegos         |https://www.lanacion.com.ar/tecnologia/todo-el-color-de-la-tokyo-game-show-la-mega-feria-de-videojuegos-nid1621754/                                             |NULL                                                                                                                                                                                                                                                                                                                                                                                                                                             |\n",
      "|Eligen los mejores videojuegos de la historia                             |https://www.lanacion.com.ar/tecnologia/eligen-los-mejores-videojuegos-de-la-historia-nid1528816/                                                                |NULL                                                                                                                                                                                                                                                                                                                                                                                                                                             |\n",
      "|Probamos la consola Sony PS Vita                                          |https://www.lanacion.com.ar/tecnologia/probamos-la-sony-ps-vita-nid1482479/                                                                                     |NULL                                                                                                                                                                                                                                                                                                                                                                                                                                             |\n",
      "+--------------------------------------------------------------------------+----------------------------------------------------------------------------------------------------------------------------------------------------------------+-------------------------------------------------------------------------------------------------------------------------------------------------------------------------------------------------------------------------------------------------------------------------------------------------------------------------------------------------------------------------------------------------------------------------------------------------+\n",
      "\n"
     ]
    }
   ],
   "source": [
    "# Filtrar los registros que tienen valores nulos en alguna columna\n",
    "df_with_nulls = df.filter(F.greatest(*[F.col(c).isNull().cast(\"int\") for c in df.columns]) == 1)\n",
    "\n",
    "# Mostrar los registros con nulos\n",
    "print(\"Registros con valores nulos en alguna columna:\")\n",
    "df_with_nulls.show(truncate=False)"
   ]
  },
  {
   "cell_type": "code",
   "execution_count": 10,
   "metadata": {},
   "outputs": [],
   "source": [
    "# Eliminar los registros que tienen algún valor nulo\n",
    "df_cleaned = df.dropna()"
   ]
  },
  {
   "cell_type": "code",
   "execution_count": 11,
   "metadata": {},
   "outputs": [
    {
     "name": "stdout",
     "output_type": "stream",
     "text": [
      "Registros con valores nulos en alguna columna:\n",
      "+------+----+------+\n",
      "|titulo|link|cuerpo|\n",
      "+------+----+------+\n",
      "+------+----+------+\n",
      "\n"
     ]
    }
   ],
   "source": [
    "# Filtrar los registros que tienen valores nulos en alguna columna\n",
    "df_with_nulls = df_cleaned.filter(F.greatest(*[F.col(c).isNull().cast(\"int\") for c in df_cleaned.columns]) == 1)\n",
    "\n",
    "# Mostrar los registros con nulos\n",
    "print(\"Registros con valores nulos en alguna columna:\")\n",
    "df_with_nulls.show(truncate=False)"
   ]
  },
  {
   "cell_type": "code",
   "execution_count": 14,
   "metadata": {},
   "outputs": [
    {
     "name": "stdout",
     "output_type": "stream",
     "text": [
      "Primeras filas con puntuación de sentimiento:\n",
      "+--------------------+--------------------+--------------------+-------------------+\n",
      "|              titulo|                link|              cuerpo|          sentiment|\n",
      "+--------------------+--------------------+--------------------+-------------------+\n",
      "|Johanna’s Vision:...|https://www.lanac...|TGA, una empresa ...|0.24444444444444444|\n",
      "|UFL: el videojueg...|https://www.lanac...|El mundo de los v...| 0.6666666666666666|\n",
      "|Star Wars Jedi: S...|https://www.lanac...|Electronic Arts (...|                0.6|\n",
      "+--------------------+--------------------+--------------------+-------------------+\n",
      "only showing top 3 rows\n",
      "\n"
     ]
    },
    {
     "name": "stderr",
     "output_type": "stream",
     "text": [
      "                                                                                \r"
     ]
    }
   ],
   "source": [
    "# Definir una función para calcular el sentimiento usando TextBlob\n",
    "def get_sentiment(text):\n",
    "    if text is None:\n",
    "        return None\n",
    "    return TextBlob(text).sentiment.polarity\n",
    "\n",
    "# Registrar la función como una UDF (User Defined Function)\n",
    "sentiment_udf = F.udf(get_sentiment)\n",
    "\n",
    "# Crear la columna 'sentiment' basada en el cuerpo de la noticia\n",
    "df_with_sentiment = df.withColumn(\"sentiment\", sentiment_udf(F.col(\"cuerpo\")))\n",
    "\n",
    "# Mostrar algunas filas con la nueva columna de sentimiento\n",
    "print(\"Primeras filas con puntuación de sentimiento:\")\n",
    "df_with_sentiment.show(3)"
   ]
  },
  {
   "cell_type": "code",
   "execution_count": 15,
   "metadata": {},
   "outputs": [
    {
     "name": "stderr",
     "output_type": "stream",
     "text": [
      "                                                                                \r"
     ]
    }
   ],
   "source": [
    "df_with_sentiment.write.csv(\"../data/processed/news.csv\", header=True)"
   ]
  }
 ],
 "metadata": {
  "kernelspec": {
   "display_name": "Python 3",
   "language": "python",
   "name": "python3"
  },
  "language_info": {
   "codemirror_mode": {
    "name": "ipython",
    "version": 3
   },
   "file_extension": ".py",
   "mimetype": "text/x-python",
   "name": "python",
   "nbconvert_exporter": "python",
   "pygments_lexer": "ipython3",
   "version": "3.12.3"
  }
 },
 "nbformat": 4,
 "nbformat_minor": 2
}
